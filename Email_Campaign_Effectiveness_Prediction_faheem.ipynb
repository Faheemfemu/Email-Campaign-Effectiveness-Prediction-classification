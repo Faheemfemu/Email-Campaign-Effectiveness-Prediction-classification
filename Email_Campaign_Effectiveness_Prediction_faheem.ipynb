{
  "nbformat": 4,
  "nbformat_minor": 0,
  "metadata": {
    "colab": {
      "provenance": [],
      "collapsed_sections": [
        "vncDsAP0Gaoa",
        "FJNUwmbgGyua",
        "w6K7xa23Elo4",
        "yQaldy8SH6Dl",
        "mDgbUHAGgjLW",
        "O_i_v8NEhb9l",
        "HhfV-JJviCcP",
        "Y3lxredqlCYt",
        "3RnN4peoiCZX",
        "x71ZqKXriCWQ",
        "7hBIi_osiCS2",
        "JlHwYmJAmNHm",
        "35m5QtbWiB9F",
        "PoPl-ycgm1ru",
        "H0kj-8xxnORC",
        "nA9Y7ga8ng1Z",
        "PBTbrJXOngz2",
        "u3PMJOP6ngxN",
        "dauF4eBmngu3",
        "bKJF3rekwFvQ",
        "MSa1f5Uengrz",
        "GF8Ens_Soomf",
        "0wOQAZs5pc--",
        "K5QZ13OEpz2H",
        "lQ7QKXXCp7Bj",
        "448CDAPjqfQr",
        "KSlN3yHqYklG",
        "t6dVpIINYklI",
        "ijmpgYnKYklI",
        "-JiQyfWJYklI",
        "EM7whBJCYoAo",
        "fge-S5ZAYoAp",
        "85gYPyotYoAp",
        "RoGjAbkUYoAp",
        "4Of9eVA-YrdM",
        "iky9q4vBYrdO",
        "F6T5p64dYrdO",
        "y-Ehk30pYrdP",
        "bamQiAODYuh1",
        "QHF8YVU7Yuh3",
        "GwzvFGzlYuh3",
        "qYpmQ266Yuh3",
        "OH-pJp9IphqM",
        "bbFf2-_FphqN",
        "_ouA3fa0phqN",
        "Seke61FWphqN",
        "PIIx-8_IphqN",
        "t27r6nlMphqO",
        "r2jJGEOYphqO",
        "b0JNsNcRphqO",
        "BZR9WyysphqO",
        "jj7wYXLtphqO",
        "eZrbJ2SmphqO",
        "rFu4xreNphqO",
        "YJ55k-q6phqO",
        "gCFgpxoyphqP",
        "OVtJsKN_phqQ",
        "lssrdh5qphqQ",
        "U2RJ9gkRphqQ",
        "1M8mcRywphqQ",
        "tgIPom80phqQ",
        "JMzcOPDDphqR",
        "x-EpHcCOp1ci",
        "X_VqEhTip1ck",
        "8zGJKyg5p1ck",
        "PVzmfK_Ep1ck",
        "n3dbpmDWp1ck",
        "ylSl6qgtp1ck",
        "ZWILFDl5p1ck",
        "M7G43BXep1ck",
        "Ag9LCva-p1cl",
        "E6MkPsBcp1cl",
        "2cELzS2fp1cl",
        "3MPXvC8up1cl",
        "NC_X3p0fY2L0",
        "UV0SzAkaZNRQ",
        "YPEH6qLeZNRQ",
        "q29F0dvdveiT",
        "EXh0U9oCveiU",
        "22aHeOlLveiV",
        "g-ATYxFrGrvw",
        "Yfr_Vlr8HBkt",
        "8yEUt7NnHlrM",
        "tEA2Xm5dHt1r",
        "I79__PHVH19G",
        "Ou-I18pAyIpj",
        "fF3858GYyt-u",
        "4_0_7-oCpUZd",
        "hwyV_J3ipUZe",
        "3yB-zSqbpUZe",
        "dEUvejAfpUZe",
        "Fd15vwWVpUZf",
        "bn_IUdTipZyH",
        "49K5P_iCpZyH",
        "Nff-vKELpZyI",
        "kLW572S8pZyI",
        "dWbDXHzopZyI",
        "yLjJCtPM0KBk",
        "xiyOF9F70UgQ",
        "7wuGOrhz0itI",
        "id1riN9m0vUs",
        "578E2V7j08f6",
        "89xtkJwZ18nB",
        "67NQN5KX2AMe",
        "Iwf50b-R2tYG",
        "GMQiZwjn3iu7",
        "WVIkgGqN3qsr",
        "XkPnILGE3zoT",
        "Hlsf0x5436Go",
        "mT9DMSJo4nBL",
        "c49ITxTc407N",
        "OeJFEK0N496M",
        "9ExmJH0g5HBk",
        "cJNqERVU536h",
        "k5UmGsbsOxih",
        "T0VqWOYE6DLQ",
        "qBMux9mC6MCf",
        "-oLEiFgy-5Pf",
        "C74aWNz2AliB",
        "2DejudWSA-a0",
        "pEMng2IbBLp7",
        "rAdphbQ9Bhjc",
        "TNVZ9zx19K6k",
        "nqoHp30x9hH9",
        "rMDnDkt2B6du",
        "yiiVWRdJDDil",
        "1UUpS68QDMuG",
        "kexQrXU-DjzY",
        "T5CmagL3EC8N",
        "BhH2vgX9EjGr",
        "qjKvONjwE8ra",
        "P1XJ9OREExlT",
        "VFOzZv6IFROw",
        "TIqpNgepFxVj",
        "VfCC591jGiD4",
        "OB4l2ZhMeS1U",
        "ArJBuiUVfxKd",
        "4qY1EAkEfxKe",
        "PiV4Ypx8fxKe",
        "TfvqoZmBfxKf",
        "dJ2tPlVmpsJ0",
        "JWYfwnehpsJ1",
        "-jK_YjpMpsJ2",
        "HAih1iBOpsJ2",
        "zVGeBEFhpsJ2",
        "bmKjuQ-FpsJ3",
        "Fze-IPXLpx6K",
        "7AN1z2sKpx6M",
        "9PIHJqyupx6M",
        "_-qAgymDpx6N",
        "Z-hykwinpx6N",
        "h_CCil-SKHpo",
        "cBFFvTBNJzUa",
        "HvGl1hHyA_VK",
        "EyNgTHvd2WFk",
        "KH5McJBi2d8v",
        "iW_Lq9qf2h6X",
        "-Kee-DAl2viO",
        "gCX9965dhzqZ",
        "gIfDvo9L0UH2"
      ],
      "include_colab_link": true
    },
    "kernelspec": {
      "name": "python3",
      "display_name": "Python 3"
    },
    "language_info": {
      "name": "python"
    },
    "gpuClass": "standard"
  },
  "cells": [
    {
      "cell_type": "markdown",
      "metadata": {
        "id": "view-in-github",
        "colab_type": "text"
      },
      "source": [
        "<a href=\"https://colab.research.google.com/github/Faheemfemu/Email-Campaign-Effectiveness-Prediction-classification/blob/main/Email_Campaign_Effectiveness_Prediction_faheem.ipynb\" target=\"_parent\"><img src=\"https://colab.research.google.com/assets/colab-badge.svg\" alt=\"Open In Colab\"/></a>"
      ]
    },
    {
      "cell_type": "markdown",
      "source": [
        "# **Project Name**    - **Email Campaign Effectiveness Prediction**\n"
      ],
      "metadata": {
        "id": "vncDsAP0Gaoa"
      }
    },
    {
      "cell_type": "markdown",
      "source": [
        "##### **Project Type**    - Supervise ML Classification\n",
        "##### **Contribution**    - Individual\n"
      ],
      "metadata": {
        "id": "beRrZCGUAJYm"
      }
    },
    {
      "cell_type": "markdown",
      "source": [
        "# **Project Summary -**"
      ],
      "metadata": {
        "id": "FJNUwmbgGyua"
      }
    },
    {
      "cell_type": "markdown",
      "source": [
        "Write the summary here within 500-600 words."
      ],
      "metadata": {
        "id": "F6v_1wHtG2nS"
      }
    },
    {
      "cell_type": "markdown",
      "source": [
        "# **GitHub Link -**"
      ],
      "metadata": {
        "id": "w6K7xa23Elo4"
      }
    },
    {
      "cell_type": "markdown",
      "source": [
        "Provide your GitHub Link here."
      ],
      "metadata": {
        "id": "h1o69JH3Eqqn"
      }
    },
    {
      "cell_type": "markdown",
      "source": [
        "# **Problem Statement**\n"
      ],
      "metadata": {
        "id": "yQaldy8SH6Dl"
      }
    },
    {
      "cell_type": "markdown",
      "source": [
        "Most of the small to medium business owners are making effective use of Gmail-based Email marketing Strategies for offline targeting of converting their prospective customers into leads so that they stay with them in Business. The main objective is to create a machine learning model to characterize the mail and track the mail that is ignored; read; acknowledged by the reader."
      ],
      "metadata": {
        "id": "DpeJGUA3kjGy"
      }
    },
    {
      "cell_type": "markdown",
      "source": [
        "# ***Let's Begin !***"
      ],
      "metadata": {
        "id": "O_i_v8NEhb9l"
      }
    },
    {
      "cell_type": "markdown",
      "source": [
        "## ***1. Know Your Data***"
      ],
      "metadata": {
        "id": "HhfV-JJviCcP"
      }
    },
    {
      "cell_type": "markdown",
      "source": [
        "### Import Libraries"
      ],
      "metadata": {
        "id": "Y3lxredqlCYt"
      }
    },
    {
      "cell_type": "code",
      "source": [
        "# Import Libraries\n",
        "import numpy as np\n",
        "import pandas as pd\n",
        "\n",
        "import seaborn as sns\n",
        "import matplotlib.pyplot as plt\n",
        "%matplotlib inline\n"
      ],
      "metadata": {
        "id": "M8Vqi-pPk-HR"
      },
      "execution_count": 1,
      "outputs": []
    },
    {
      "cell_type": "markdown",
      "source": [
        "### Dataset Loading"
      ],
      "metadata": {
        "id": "3RnN4peoiCZX"
      }
    },
    {
      "cell_type": "code",
      "source": [
        "# Load Dataset\n",
        "#mouting google drive\n",
        "from google.colab import drive\n",
        "drive.mount('/content/drive')"
      ],
      "metadata": {
        "id": "4CkvbW_SlZ_R",
        "colab": {
          "base_uri": "https://localhost:8080/"
        },
        "outputId": "772c0cab-207f-4093-986a-4e03f89eaf81"
      },
      "execution_count": 2,
      "outputs": [
        {
          "output_type": "stream",
          "name": "stdout",
          "text": [
            "Mounted at /content/drive\n"
          ]
        }
      ]
    },
    {
      "cell_type": "code",
      "source": [
        "# Load Dataset\n",
        "path=\"/content/drive/MyDrive/AlmaBetter/Module 4 Machine Learning/Capstone Project - Supervised ML - Classification/data_email_campaign.csv\"\n",
        "email_data=pd.read_csv(path)"
      ],
      "metadata": {
        "id": "BX_WUig29krm"
      },
      "execution_count": 3,
      "outputs": []
    },
    {
      "cell_type": "markdown",
      "source": [
        "### Dataset First View"
      ],
      "metadata": {
        "id": "x71ZqKXriCWQ"
      }
    },
    {
      "cell_type": "code",
      "source": [
        "# Dataset First Look\n",
        "email_data.head()"
      ],
      "metadata": {
        "id": "LWNFOSvLl09H",
        "colab": {
          "base_uri": "https://localhost:8080/",
          "height": 270
        },
        "outputId": "2ff0c9d1-a9ef-4c5c-d7ee-953b76a23b80"
      },
      "execution_count": 4,
      "outputs": [
        {
          "output_type": "execute_result",
          "data": {
            "text/plain": [
              "            Email_ID  Email_Type  Subject_Hotness_Score  Email_Source_Type  \\\n",
              "0  EMA00081000034500           1                    2.2                  2   \n",
              "1  EMA00081000045360           2                    2.1                  1   \n",
              "2  EMA00081000066290           2                    0.1                  1   \n",
              "3  EMA00081000076560           1                    3.0                  2   \n",
              "4  EMA00081000109720           1                    0.0                  2   \n",
              "\n",
              "  Customer_Location  Email_Campaign_Type  Total_Past_Communications  \\\n",
              "0                 E                    2                       33.0   \n",
              "1               NaN                    2                       15.0   \n",
              "2                 B                    3                       36.0   \n",
              "3                 E                    2                       25.0   \n",
              "4                 C                    3                       18.0   \n",
              "\n",
              "   Time_Email_sent_Category  Word_Count  Total_Links  Total_Images  \\\n",
              "0                         1         440          8.0           0.0   \n",
              "1                         2         504          5.0           0.0   \n",
              "2                         2         962          5.0           0.0   \n",
              "3                         2         610         16.0           0.0   \n",
              "4                         2         947          4.0           0.0   \n",
              "\n",
              "   Email_Status  \n",
              "0             0  \n",
              "1             0  \n",
              "2             1  \n",
              "3             0  \n",
              "4             0  "
            ],
            "text/html": [
              "\n",
              "  <div id=\"df-269a8b45-85bf-451c-a39e-4ec945a35c5f\">\n",
              "    <div class=\"colab-df-container\">\n",
              "      <div>\n",
              "<style scoped>\n",
              "    .dataframe tbody tr th:only-of-type {\n",
              "        vertical-align: middle;\n",
              "    }\n",
              "\n",
              "    .dataframe tbody tr th {\n",
              "        vertical-align: top;\n",
              "    }\n",
              "\n",
              "    .dataframe thead th {\n",
              "        text-align: right;\n",
              "    }\n",
              "</style>\n",
              "<table border=\"1\" class=\"dataframe\">\n",
              "  <thead>\n",
              "    <tr style=\"text-align: right;\">\n",
              "      <th></th>\n",
              "      <th>Email_ID</th>\n",
              "      <th>Email_Type</th>\n",
              "      <th>Subject_Hotness_Score</th>\n",
              "      <th>Email_Source_Type</th>\n",
              "      <th>Customer_Location</th>\n",
              "      <th>Email_Campaign_Type</th>\n",
              "      <th>Total_Past_Communications</th>\n",
              "      <th>Time_Email_sent_Category</th>\n",
              "      <th>Word_Count</th>\n",
              "      <th>Total_Links</th>\n",
              "      <th>Total_Images</th>\n",
              "      <th>Email_Status</th>\n",
              "    </tr>\n",
              "  </thead>\n",
              "  <tbody>\n",
              "    <tr>\n",
              "      <th>0</th>\n",
              "      <td>EMA00081000034500</td>\n",
              "      <td>1</td>\n",
              "      <td>2.2</td>\n",
              "      <td>2</td>\n",
              "      <td>E</td>\n",
              "      <td>2</td>\n",
              "      <td>33.0</td>\n",
              "      <td>1</td>\n",
              "      <td>440</td>\n",
              "      <td>8.0</td>\n",
              "      <td>0.0</td>\n",
              "      <td>0</td>\n",
              "    </tr>\n",
              "    <tr>\n",
              "      <th>1</th>\n",
              "      <td>EMA00081000045360</td>\n",
              "      <td>2</td>\n",
              "      <td>2.1</td>\n",
              "      <td>1</td>\n",
              "      <td>NaN</td>\n",
              "      <td>2</td>\n",
              "      <td>15.0</td>\n",
              "      <td>2</td>\n",
              "      <td>504</td>\n",
              "      <td>5.0</td>\n",
              "      <td>0.0</td>\n",
              "      <td>0</td>\n",
              "    </tr>\n",
              "    <tr>\n",
              "      <th>2</th>\n",
              "      <td>EMA00081000066290</td>\n",
              "      <td>2</td>\n",
              "      <td>0.1</td>\n",
              "      <td>1</td>\n",
              "      <td>B</td>\n",
              "      <td>3</td>\n",
              "      <td>36.0</td>\n",
              "      <td>2</td>\n",
              "      <td>962</td>\n",
              "      <td>5.0</td>\n",
              "      <td>0.0</td>\n",
              "      <td>1</td>\n",
              "    </tr>\n",
              "    <tr>\n",
              "      <th>3</th>\n",
              "      <td>EMA00081000076560</td>\n",
              "      <td>1</td>\n",
              "      <td>3.0</td>\n",
              "      <td>2</td>\n",
              "      <td>E</td>\n",
              "      <td>2</td>\n",
              "      <td>25.0</td>\n",
              "      <td>2</td>\n",
              "      <td>610</td>\n",
              "      <td>16.0</td>\n",
              "      <td>0.0</td>\n",
              "      <td>0</td>\n",
              "    </tr>\n",
              "    <tr>\n",
              "      <th>4</th>\n",
              "      <td>EMA00081000109720</td>\n",
              "      <td>1</td>\n",
              "      <td>0.0</td>\n",
              "      <td>2</td>\n",
              "      <td>C</td>\n",
              "      <td>3</td>\n",
              "      <td>18.0</td>\n",
              "      <td>2</td>\n",
              "      <td>947</td>\n",
              "      <td>4.0</td>\n",
              "      <td>0.0</td>\n",
              "      <td>0</td>\n",
              "    </tr>\n",
              "  </tbody>\n",
              "</table>\n",
              "</div>\n",
              "      <button class=\"colab-df-convert\" onclick=\"convertToInteractive('df-269a8b45-85bf-451c-a39e-4ec945a35c5f')\"\n",
              "              title=\"Convert this dataframe to an interactive table.\"\n",
              "              style=\"display:none;\">\n",
              "        \n",
              "  <svg xmlns=\"http://www.w3.org/2000/svg\" height=\"24px\"viewBox=\"0 0 24 24\"\n",
              "       width=\"24px\">\n",
              "    <path d=\"M0 0h24v24H0V0z\" fill=\"none\"/>\n",
              "    <path d=\"M18.56 5.44l.94 2.06.94-2.06 2.06-.94-2.06-.94-.94-2.06-.94 2.06-2.06.94zm-11 1L8.5 8.5l.94-2.06 2.06-.94-2.06-.94L8.5 2.5l-.94 2.06-2.06.94zm10 10l.94 2.06.94-2.06 2.06-.94-2.06-.94-.94-2.06-.94 2.06-2.06.94z\"/><path d=\"M17.41 7.96l-1.37-1.37c-.4-.4-.92-.59-1.43-.59-.52 0-1.04.2-1.43.59L10.3 9.45l-7.72 7.72c-.78.78-.78 2.05 0 2.83L4 21.41c.39.39.9.59 1.41.59.51 0 1.02-.2 1.41-.59l7.78-7.78 2.81-2.81c.8-.78.8-2.07 0-2.86zM5.41 20L4 18.59l7.72-7.72 1.47 1.35L5.41 20z\"/>\n",
              "  </svg>\n",
              "      </button>\n",
              "      \n",
              "  <style>\n",
              "    .colab-df-container {\n",
              "      display:flex;\n",
              "      flex-wrap:wrap;\n",
              "      gap: 12px;\n",
              "    }\n",
              "\n",
              "    .colab-df-convert {\n",
              "      background-color: #E8F0FE;\n",
              "      border: none;\n",
              "      border-radius: 50%;\n",
              "      cursor: pointer;\n",
              "      display: none;\n",
              "      fill: #1967D2;\n",
              "      height: 32px;\n",
              "      padding: 0 0 0 0;\n",
              "      width: 32px;\n",
              "    }\n",
              "\n",
              "    .colab-df-convert:hover {\n",
              "      background-color: #E2EBFA;\n",
              "      box-shadow: 0px 1px 2px rgba(60, 64, 67, 0.3), 0px 1px 3px 1px rgba(60, 64, 67, 0.15);\n",
              "      fill: #174EA6;\n",
              "    }\n",
              "\n",
              "    [theme=dark] .colab-df-convert {\n",
              "      background-color: #3B4455;\n",
              "      fill: #D2E3FC;\n",
              "    }\n",
              "\n",
              "    [theme=dark] .colab-df-convert:hover {\n",
              "      background-color: #434B5C;\n",
              "      box-shadow: 0px 1px 3px 1px rgba(0, 0, 0, 0.15);\n",
              "      filter: drop-shadow(0px 1px 2px rgba(0, 0, 0, 0.3));\n",
              "      fill: #FFFFFF;\n",
              "    }\n",
              "  </style>\n",
              "\n",
              "      <script>\n",
              "        const buttonEl =\n",
              "          document.querySelector('#df-269a8b45-85bf-451c-a39e-4ec945a35c5f button.colab-df-convert');\n",
              "        buttonEl.style.display =\n",
              "          google.colab.kernel.accessAllowed ? 'block' : 'none';\n",
              "\n",
              "        async function convertToInteractive(key) {\n",
              "          const element = document.querySelector('#df-269a8b45-85bf-451c-a39e-4ec945a35c5f');\n",
              "          const dataTable =\n",
              "            await google.colab.kernel.invokeFunction('convertToInteractive',\n",
              "                                                     [key], {});\n",
              "          if (!dataTable) return;\n",
              "\n",
              "          const docLinkHtml = 'Like what you see? Visit the ' +\n",
              "            '<a target=\"_blank\" href=https://colab.research.google.com/notebooks/data_table.ipynb>data table notebook</a>'\n",
              "            + ' to learn more about interactive tables.';\n",
              "          element.innerHTML = '';\n",
              "          dataTable['output_type'] = 'display_data';\n",
              "          await google.colab.output.renderOutput(dataTable, element);\n",
              "          const docLink = document.createElement('div');\n",
              "          docLink.innerHTML = docLinkHtml;\n",
              "          element.appendChild(docLink);\n",
              "        }\n",
              "      </script>\n",
              "    </div>\n",
              "  </div>\n",
              "  "
            ]
          },
          "metadata": {},
          "execution_count": 4
        }
      ]
    },
    {
      "cell_type": "markdown",
      "source": [
        "### Dataset Rows & Columns count"
      ],
      "metadata": {
        "id": "7hBIi_osiCS2"
      }
    },
    {
      "cell_type": "code",
      "source": [
        "# Dataset Rows & Columns count\n",
        "email_data.shape"
      ],
      "metadata": {
        "id": "Kllu7SJgmLij",
        "colab": {
          "base_uri": "https://localhost:8080/"
        },
        "outputId": "b70ed690-475d-47be-eede-6c117adcc444"
      },
      "execution_count": 5,
      "outputs": [
        {
          "output_type": "execute_result",
          "data": {
            "text/plain": [
              "(68353, 12)"
            ]
          },
          "metadata": {},
          "execution_count": 5
        }
      ]
    },
    {
      "cell_type": "markdown",
      "source": [
        "### Dataset Information"
      ],
      "metadata": {
        "id": "JlHwYmJAmNHm"
      }
    },
    {
      "cell_type": "code",
      "source": [
        "# Dataset Info\n",
        "email_data.info()"
      ],
      "metadata": {
        "id": "e9hRXRi6meOf",
        "colab": {
          "base_uri": "https://localhost:8080/"
        },
        "outputId": "ddc27714-b817-4fd7-f606-7bfe679385c4"
      },
      "execution_count": 6,
      "outputs": [
        {
          "output_type": "stream",
          "name": "stdout",
          "text": [
            "<class 'pandas.core.frame.DataFrame'>\n",
            "RangeIndex: 68353 entries, 0 to 68352\n",
            "Data columns (total 12 columns):\n",
            " #   Column                     Non-Null Count  Dtype  \n",
            "---  ------                     --------------  -----  \n",
            " 0   Email_ID                   68353 non-null  object \n",
            " 1   Email_Type                 68353 non-null  int64  \n",
            " 2   Subject_Hotness_Score      68353 non-null  float64\n",
            " 3   Email_Source_Type          68353 non-null  int64  \n",
            " 4   Customer_Location          56758 non-null  object \n",
            " 5   Email_Campaign_Type        68353 non-null  int64  \n",
            " 6   Total_Past_Communications  61528 non-null  float64\n",
            " 7   Time_Email_sent_Category   68353 non-null  int64  \n",
            " 8   Word_Count                 68353 non-null  int64  \n",
            " 9   Total_Links                66152 non-null  float64\n",
            " 10  Total_Images               66676 non-null  float64\n",
            " 11  Email_Status               68353 non-null  int64  \n",
            "dtypes: float64(4), int64(6), object(2)\n",
            "memory usage: 6.3+ MB\n"
          ]
        }
      ]
    },
    {
      "cell_type": "markdown",
      "source": [
        "#### Duplicate Values"
      ],
      "metadata": {
        "id": "35m5QtbWiB9F"
      }
    },
    {
      "cell_type": "code",
      "source": [
        "# Dataset Duplicate Value Count\n",
        "email_data.duplicated().sum()"
      ],
      "metadata": {
        "id": "1sLdpKYkmox0",
        "colab": {
          "base_uri": "https://localhost:8080/"
        },
        "outputId": "f4b07fec-ab83-40d9-8bca-ff177e4f1ca5"
      },
      "execution_count": 7,
      "outputs": [
        {
          "output_type": "execute_result",
          "data": {
            "text/plain": [
              "0"
            ]
          },
          "metadata": {},
          "execution_count": 7
        }
      ]
    },
    {
      "cell_type": "markdown",
      "source": [
        "#### Missing Values/Null Values"
      ],
      "metadata": {
        "id": "PoPl-ycgm1ru"
      }
    },
    {
      "cell_type": "code",
      "source": [
        "# Missing Values/Null Values Count\n",
        "email_data.isnull().sum()"
      ],
      "metadata": {
        "id": "GgHWkxvamxVg",
        "colab": {
          "base_uri": "https://localhost:8080/"
        },
        "outputId": "9f0e1964-02ed-4fad-ffb3-273b3de62cd7"
      },
      "execution_count": 8,
      "outputs": [
        {
          "output_type": "execute_result",
          "data": {
            "text/plain": [
              "Email_ID                         0\n",
              "Email_Type                       0\n",
              "Subject_Hotness_Score            0\n",
              "Email_Source_Type                0\n",
              "Customer_Location            11595\n",
              "Email_Campaign_Type              0\n",
              "Total_Past_Communications     6825\n",
              "Time_Email_sent_Category         0\n",
              "Word_Count                       0\n",
              "Total_Links                   2201\n",
              "Total_Images                  1677\n",
              "Email_Status                     0\n",
              "dtype: int64"
            ]
          },
          "metadata": {},
          "execution_count": 8
        }
      ]
    },
    {
      "cell_type": "code",
      "source": [
        "# Missing Value Count Function\n",
        "def showMissing():\n",
        "    missing = email_data.columns[email_data.isnull().any()].tolist()\n",
        "    return missing\n",
        "\n",
        "missingVal = pd.DataFrame()\n",
        "missingVal['Missing Data Count'] = email_data[showMissing()].isnull().sum().sort_values(ascending = False)\n",
        "missingVal['Missing Data Percentage'] = email_data[showMissing()].isnull().sum().sort_values(ascending = False)/len(email_data)*100\n",
        "\n",
        "missingVal\n",
        "     "
      ],
      "metadata": {
        "colab": {
          "base_uri": "https://localhost:8080/",
          "height": 175
        },
        "id": "aYVmxKES_cso",
        "outputId": "4a99984a-0379-42e9-c117-715389f5180a"
      },
      "execution_count": 9,
      "outputs": [
        {
          "output_type": "execute_result",
          "data": {
            "text/plain": [
              "                           Missing Data Count  Missing Data Percentage\n",
              "Customer_Location                       11595                16.963411\n",
              "Total_Past_Communications                6825                 9.984931\n",
              "Total_Links                              2201                 3.220049\n",
              "Total_Images                             1677                 2.453440"
            ],
            "text/html": [
              "\n",
              "  <div id=\"df-5e6a13a1-8c5e-443e-8e09-8e023e9f0379\">\n",
              "    <div class=\"colab-df-container\">\n",
              "      <div>\n",
              "<style scoped>\n",
              "    .dataframe tbody tr th:only-of-type {\n",
              "        vertical-align: middle;\n",
              "    }\n",
              "\n",
              "    .dataframe tbody tr th {\n",
              "        vertical-align: top;\n",
              "    }\n",
              "\n",
              "    .dataframe thead th {\n",
              "        text-align: right;\n",
              "    }\n",
              "</style>\n",
              "<table border=\"1\" class=\"dataframe\">\n",
              "  <thead>\n",
              "    <tr style=\"text-align: right;\">\n",
              "      <th></th>\n",
              "      <th>Missing Data Count</th>\n",
              "      <th>Missing Data Percentage</th>\n",
              "    </tr>\n",
              "  </thead>\n",
              "  <tbody>\n",
              "    <tr>\n",
              "      <th>Customer_Location</th>\n",
              "      <td>11595</td>\n",
              "      <td>16.963411</td>\n",
              "    </tr>\n",
              "    <tr>\n",
              "      <th>Total_Past_Communications</th>\n",
              "      <td>6825</td>\n",
              "      <td>9.984931</td>\n",
              "    </tr>\n",
              "    <tr>\n",
              "      <th>Total_Links</th>\n",
              "      <td>2201</td>\n",
              "      <td>3.220049</td>\n",
              "    </tr>\n",
              "    <tr>\n",
              "      <th>Total_Images</th>\n",
              "      <td>1677</td>\n",
              "      <td>2.453440</td>\n",
              "    </tr>\n",
              "  </tbody>\n",
              "</table>\n",
              "</div>\n",
              "      <button class=\"colab-df-convert\" onclick=\"convertToInteractive('df-5e6a13a1-8c5e-443e-8e09-8e023e9f0379')\"\n",
              "              title=\"Convert this dataframe to an interactive table.\"\n",
              "              style=\"display:none;\">\n",
              "        \n",
              "  <svg xmlns=\"http://www.w3.org/2000/svg\" height=\"24px\"viewBox=\"0 0 24 24\"\n",
              "       width=\"24px\">\n",
              "    <path d=\"M0 0h24v24H0V0z\" fill=\"none\"/>\n",
              "    <path d=\"M18.56 5.44l.94 2.06.94-2.06 2.06-.94-2.06-.94-.94-2.06-.94 2.06-2.06.94zm-11 1L8.5 8.5l.94-2.06 2.06-.94-2.06-.94L8.5 2.5l-.94 2.06-2.06.94zm10 10l.94 2.06.94-2.06 2.06-.94-2.06-.94-.94-2.06-.94 2.06-2.06.94z\"/><path d=\"M17.41 7.96l-1.37-1.37c-.4-.4-.92-.59-1.43-.59-.52 0-1.04.2-1.43.59L10.3 9.45l-7.72 7.72c-.78.78-.78 2.05 0 2.83L4 21.41c.39.39.9.59 1.41.59.51 0 1.02-.2 1.41-.59l7.78-7.78 2.81-2.81c.8-.78.8-2.07 0-2.86zM5.41 20L4 18.59l7.72-7.72 1.47 1.35L5.41 20z\"/>\n",
              "  </svg>\n",
              "      </button>\n",
              "      \n",
              "  <style>\n",
              "    .colab-df-container {\n",
              "      display:flex;\n",
              "      flex-wrap:wrap;\n",
              "      gap: 12px;\n",
              "    }\n",
              "\n",
              "    .colab-df-convert {\n",
              "      background-color: #E8F0FE;\n",
              "      border: none;\n",
              "      border-radius: 50%;\n",
              "      cursor: pointer;\n",
              "      display: none;\n",
              "      fill: #1967D2;\n",
              "      height: 32px;\n",
              "      padding: 0 0 0 0;\n",
              "      width: 32px;\n",
              "    }\n",
              "\n",
              "    .colab-df-convert:hover {\n",
              "      background-color: #E2EBFA;\n",
              "      box-shadow: 0px 1px 2px rgba(60, 64, 67, 0.3), 0px 1px 3px 1px rgba(60, 64, 67, 0.15);\n",
              "      fill: #174EA6;\n",
              "    }\n",
              "\n",
              "    [theme=dark] .colab-df-convert {\n",
              "      background-color: #3B4455;\n",
              "      fill: #D2E3FC;\n",
              "    }\n",
              "\n",
              "    [theme=dark] .colab-df-convert:hover {\n",
              "      background-color: #434B5C;\n",
              "      box-shadow: 0px 1px 3px 1px rgba(0, 0, 0, 0.15);\n",
              "      filter: drop-shadow(0px 1px 2px rgba(0, 0, 0, 0.3));\n",
              "      fill: #FFFFFF;\n",
              "    }\n",
              "  </style>\n",
              "\n",
              "      <script>\n",
              "        const buttonEl =\n",
              "          document.querySelector('#df-5e6a13a1-8c5e-443e-8e09-8e023e9f0379 button.colab-df-convert');\n",
              "        buttonEl.style.display =\n",
              "          google.colab.kernel.accessAllowed ? 'block' : 'none';\n",
              "\n",
              "        async function convertToInteractive(key) {\n",
              "          const element = document.querySelector('#df-5e6a13a1-8c5e-443e-8e09-8e023e9f0379');\n",
              "          const dataTable =\n",
              "            await google.colab.kernel.invokeFunction('convertToInteractive',\n",
              "                                                     [key], {});\n",
              "          if (!dataTable) return;\n",
              "\n",
              "          const docLinkHtml = 'Like what you see? Visit the ' +\n",
              "            '<a target=\"_blank\" href=https://colab.research.google.com/notebooks/data_table.ipynb>data table notebook</a>'\n",
              "            + ' to learn more about interactive tables.';\n",
              "          element.innerHTML = '';\n",
              "          dataTable['output_type'] = 'display_data';\n",
              "          await google.colab.output.renderOutput(dataTable, element);\n",
              "          const docLink = document.createElement('div');\n",
              "          docLink.innerHTML = docLinkHtml;\n",
              "          element.appendChild(docLink);\n",
              "        }\n",
              "      </script>\n",
              "    </div>\n",
              "  </div>\n",
              "  "
            ]
          },
          "metadata": {},
          "execution_count": 9
        }
      ]
    },
    {
      "cell_type": "code",
      "source": [
        "# Visualizing the missing values\n",
        "# Checking Null Value by plotting Heatmap\n",
        "sns.heatmap(email_data.isnull(),cbar=False);"
      ],
      "metadata": {
        "id": "3q5wnI3om9sJ",
        "colab": {
          "base_uri": "https://localhost:8080/",
          "height": 398
        },
        "outputId": "1ac06da9-d773-4b62-dcdf-a6f746308bd5"
      },
      "execution_count": 10,
      "outputs": [
        {
          "output_type": "display_data",
          "data": {
            "text/plain": [
              "<Figure size 432x288 with 1 Axes>"
            ],
            "image/png": "[encoded data removed]"
          },
          "metadata": {
            "needs_background": "light"
          }
        }
      ]
    },
    {
      "cell_type": "markdown",
      "source": [
        "### What did you know about your dataset?"
      ],
      "metadata": {
        "id": "H0kj-8xxnORC"
      }
    },
    {
      "cell_type": "markdown",
      "source": [
        "* Dataset has total of 68353 observation and 12 features.\n",
        "\n",
        "\n",
        "* Dataset is a mixture of integer, float and object data type.\n",
        "* Dataset has all unique values i.e., there is no duplicate which means data is free from bias as duplicates can cause problems in downstream analyses, such as biasing results or making it difficult to accurately summarize the data.\n",
        "* Features like customer location (11595 i.e., 16.9%), total past communication (6825 i.e., 10%), total link (2201 i.e., 3,2%), total images (1677 i.e., 2.4%) has null values."
      ],
      "metadata": {
        "id": "gfoNAAC-nUe_"
      }
    },
    {
      "cell_type": "markdown",
      "source": [
        "## ***2. Understanding Your Variables***"
      ],
      "metadata": {
        "id": "nA9Y7ga8ng1Z"
      }
    },
    {
      "cell_type": "code",
      "source": [
        "# Dataset Columns\n",
        "email_data.columns"
      ],
      "metadata": {
        "id": "j7xfkqrt5Ag5",
        "colab": {
          "base_uri": "https://localhost:8080/"
        },
        "outputId": "1d0ea877-2650-4b92-9cd4-e770fb5378e3"
      },
      "execution_count": 11,
      "outputs": [
        {
          "output_type": "execute_result",
          "data": {
            "text/plain": [
              "Index(['Email_ID', 'Email_Type', 'Subject_Hotness_Score', 'Email_Source_Type',\n",
              "       'Customer_Location', 'Email_Campaign_Type', 'Total_Past_Communications',\n",
              "       'Time_Email_sent_Category', 'Word_Count', 'Total_Links', 'Total_Images',\n",
              "       'Email_Status'],\n",
              "      dtype='object')"
            ]
          },
          "metadata": {},
          "execution_count": 11
        }
      ]
    },
    {
      "cell_type": "code",
      "source": [
        "# Dataset Describe\n",
        "email_data.describe()"
      ],
      "metadata": {
        "id": "DnOaZdaE5Q5t",
        "colab": {
          "base_uri": "https://localhost:8080/",
          "height": 364
        },
        "outputId": "97ff8c11-70dc-4ef4-a785-4ea14098c295"
      },
      "execution_count": 12,
      "outputs": [
        {
          "output_type": "execute_result",
          "data": {
            "text/plain": [
              "         Email_Type  Subject_Hotness_Score  Email_Source_Type  \\\n",
              "count  68353.000000           68353.000000       68353.000000   \n",
              "mean       1.285094               1.095481           1.456513   \n",
              "std        0.451462               0.997578           0.498109   \n",
              "min        1.000000               0.000000           1.000000   \n",
              "25%        1.000000               0.200000           1.000000   \n",
              "50%        1.000000               0.800000           1.000000   \n",
              "75%        2.000000               1.800000           2.000000   \n",
              "max        2.000000               5.000000           2.000000   \n",
              "\n",
              "       Email_Campaign_Type  Total_Past_Communications  \\\n",
              "count         68353.000000               61528.000000   \n",
              "mean              2.272234                  28.933250   \n",
              "std               0.468680                  12.536518   \n",
              "min               1.000000                   0.000000   \n",
              "25%               2.000000                  20.000000   \n",
              "50%               2.000000                  28.000000   \n",
              "75%               3.000000                  38.000000   \n",
              "max               3.000000                  67.000000   \n",
              "\n",
              "       Time_Email_sent_Category    Word_Count   Total_Links  Total_Images  \\\n",
              "count              68353.000000  68353.000000  66152.000000  66676.000000   \n",
              "mean                   1.999298    699.931751     10.429526      3.550678   \n",
              "std                    0.631103    271.719440      6.383270      5.596983   \n",
              "min                    1.000000     40.000000      1.000000      0.000000   \n",
              "25%                    2.000000    521.000000      6.000000      0.000000   \n",
              "50%                    2.000000    694.000000      9.000000      0.000000   \n",
              "75%                    2.000000    880.000000     14.000000      5.000000   \n",
              "max                    3.000000   1316.000000     49.000000     45.000000   \n",
              "\n",
              "       Email_Status  \n",
              "count  68353.000000  \n",
              "mean       0.230934  \n",
              "std        0.497032  \n",
              "min        0.000000  \n",
              "25%        0.000000  \n",
              "50%        0.000000  \n",
              "75%        0.000000  \n",
              "max        2.000000  "
            ],
            "text/html": [
              "\n",
              "  <div id=\"df-d5305157-7cbd-4c8c-a861-e2bbb5777d56\">\n",
              "    <div class=\"colab-df-container\">\n",
              "      <div>\n",
              "<style scoped>\n",
              "    .dataframe tbody tr th:only-of-type {\n",
              "        vertical-align: middle;\n",
              "    }\n",
              "\n",
              "    .dataframe tbody tr th {\n",
              "        vertical-align: top;\n",
              "    }\n",
              "\n",
              "    .dataframe thead th {\n",
              "        text-align: right;\n",
              "    }\n",
              "</style>\n",
              "<table border=\"1\" class=\"dataframe\">\n",
              "  <thead>\n",
              "    <tr style=\"text-align: right;\">\n",
              "      <th></th>\n",
              "      <th>Email_Type</th>\n",
              "      <th>Subject_Hotness_Score</th>\n",
              "      <th>Email_Source_Type</th>\n",
              "      <th>Email_Campaign_Type</th>\n",
              "      <th>Total_Past_Communications</th>\n",
              "      <th>Time_Email_sent_Category</th>\n",
              "      <th>Word_Count</th>\n",
              "      <th>Total_Links</th>\n",
              "      <th>Total_Images</th>\n",
              "      <th>Email_Status</th>\n",
              "    </tr>\n",
              "  </thead>\n",
              "  <tbody>\n",
              "    <tr>\n",
              "      <th>count</th>\n",
              "      <td>68353.000000</td>\n",
              "      <td>68353.000000</td>\n",
              "      <td>68353.000000</td>\n",
              "      <td>68353.000000</td>\n",
              "      <td>61528.000000</td>\n",
              "      <td>68353.000000</td>\n",
              "      <td>68353.000000</td>\n",
              "      <td>66152.000000</td>\n",
              "      <td>66676.000000</td>\n",
              "      <td>68353.000000</td>\n",
              "    </tr>\n",
              "    <tr>\n",
              "      <th>mean</th>\n",
              "      <td>1.285094</td>\n",
              "      <td>1.095481</td>\n",
              "      <td>1.456513</td>\n",
              "      <td>2.272234</td>\n",
              "      <td>28.933250</td>\n",
              "      <td>1.999298</td>\n",
              "      <td>699.931751</td>\n",
              "      <td>10.429526</td>\n",
              "      <td>3.550678</td>\n",
              "      <td>0.230934</td>\n",
              "    </tr>\n",
              "    <tr>\n",
              "      <th>std</th>\n",
              "      <td>0.451462</td>\n",
              "      <td>0.997578</td>\n",
              "      <td>0.498109</td>\n",
              "      <td>0.468680</td>\n",
              "      <td>12.536518</td>\n",
              "      <td>0.631103</td>\n",
              "      <td>271.719440</td>\n",
              "      <td>6.383270</td>\n",
              "      <td>5.596983</td>\n",
              "      <td>0.497032</td>\n",
              "    </tr>\n",
              "    <tr>\n",
              "      <th>min</th>\n",
              "      <td>1.000000</td>\n",
              "      <td>0.000000</td>\n",
              "      <td>1.000000</td>\n",
              "      <td>1.000000</td>\n",
              "      <td>0.000000</td>\n",
              "      <td>1.000000</td>\n",
              "      <td>40.000000</td>\n",
              "      <td>1.000000</td>\n",
              "      <td>0.000000</td>\n",
              "      <td>0.000000</td>\n",
              "    </tr>\n",
              "    <tr>\n",
              "      <th>25%</th>\n",
              "      <td>1.000000</td>\n",
              "      <td>0.200000</td>\n",
              "      <td>1.000000</td>\n",
              "      <td>2.000000</td>\n",
              "      <td>20.000000</td>\n",
              "      <td>2.000000</td>\n",
              "      <td>521.000000</td>\n",
              "      <td>6.000000</td>\n",
              "      <td>0.000000</td>\n",
              "      <td>0.000000</td>\n",
              "    </tr>\n",
              "    <tr>\n",
              "      <th>50%</th>\n",
              "      <td>1.000000</td>\n",
              "      <td>0.800000</td>\n",
              "      <td>1.000000</td>\n",
              "      <td>2.000000</td>\n",
              "      <td>28.000000</td>\n",
              "      <td>2.000000</td>\n",
              "      <td>694.000000</td>\n",
              "      <td>9.000000</td>\n",
              "      <td>0.000000</td>\n",
              "      <td>0.000000</td>\n",
              "    </tr>\n",
              "    <tr>\n",
              "      <th>75%</th>\n",
              "      <td>2.000000</td>\n",
              "      <td>1.800000</td>\n",
              "      <td>2.000000</td>\n",
              "      <td>3.000000</td>\n",
              "      <td>38.000000</td>\n",
              "      <td>2.000000</td>\n",
              "      <td>880.000000</td>\n",
              "      <td>14.000000</td>\n",
              "      <td>5.000000</td>\n",
              "      <td>0.000000</td>\n",
              "    </tr>\n",
              "    <tr>\n",
              "      <th>max</th>\n",
              "      <td>2.000000</td>\n",
              "      <td>5.000000</td>\n",
              "      <td>2.000000</td>\n",
              "      <td>3.000000</td>\n",
              "      <td>67.000000</td>\n",
              "      <td>3.000000</td>\n",
              "      <td>1316.000000</td>\n",
              "      <td>49.000000</td>\n",
              "      <td>45.000000</td>\n",
              "      <td>2.000000</td>\n",
              "    </tr>\n",
              "  </tbody>\n",
              "</table>\n",
              "</div>\n",
              "      <button class=\"colab-df-convert\" onclick=\"convertToInteractive('df-d5305157-7cbd-4c8c-a861-e2bbb5777d56')\"\n",
              "              title=\"Convert this dataframe to an interactive table.\"\n",
              "              style=\"display:none;\">\n",
              "        \n",
              "  <svg xmlns=\"http://www.w3.org/2000/svg\" height=\"24px\"viewBox=\"0 0 24 24\"\n",
              "       width=\"24px\">\n",
              "    <path d=\"M0 0h24v24H0V0z\" fill=\"none\"/>\n",
              "    <path d=\"M18.56 5.44l.94 2.06.94-2.06 2.06-.94-2.06-.94-.94-2.06-.94 2.06-2.06.94zm-11 1L8.5 8.5l.94-2.06 2.06-.94-2.06-.94L8.5 2.5l-.94 2.06-2.06.94zm10 10l.94 2.06.94-2.06 2.06-.94-2.06-.94-.94-2.06-.94 2.06-2.06.94z\"/><path d=\"M17.41 7.96l-1.37-1.37c-.4-.4-.92-.59-1.43-.59-.52 0-1.04.2-1.43.59L10.3 9.45l-7.72 7.72c-.78.78-.78 2.05 0 2.83L4 21.41c.39.39.9.59 1.41.59.51 0 1.02-.2 1.41-.59l7.78-7.78 2.81-2.81c.8-.78.8-2.07 0-2.86zM5.41 20L4 18.59l7.72-7.72 1.47 1.35L5.41 20z\"/>\n",
              "  </svg>\n",
              "      </button>\n",
              "      \n",
              "  <style>\n",
              "    .colab-df-container {\n",
              "      display:flex;\n",
              "      flex-wrap:wrap;\n",
              "      gap: 12px;\n",
              "    }\n",
              "\n",
              "    .colab-df-convert {\n",
              "      background-color: #E8F0FE;\n",
              "      border: none;\n",
              "      border-radius: 50%;\n",
              "      cursor: pointer;\n",
              "      display: none;\n",
              "      fill: #1967D2;\n",
              "      height: 32px;\n",
              "      padding: 0 0 0 0;\n",
              "      width: 32px;\n",
              "    }\n",
              "\n",
              "    .colab-df-convert:hover {\n",
              "      background-color: #E2EBFA;\n",
              "      box-shadow: 0px 1px 2px rgba(60, 64, 67, 0.3), 0px 1px 3px 1px rgba(60, 64, 67, 0.15);\n",
              "      fill: #174EA6;\n",
              "    }\n",
              "\n",
              "    [theme=dark] .colab-df-convert {\n",
              "      background-color: #3B4455;\n",
              "      fill: #D2E3FC;\n",
              "    }\n",
              "\n",
              "    [theme=dark] .colab-df-convert:hover {\n",
              "      background-color: #434B5C;\n",
              "      box-shadow: 0px 1px 3px 1px rgba(0, 0, 0, 0.15);\n",
              "      filter: drop-shadow(0px 1px 2px rgba(0, 0, 0, 0.3));\n",
              "      fill: #FFFFFF;\n",
              "    }\n",
              "  </style>\n",
              "\n",
              "      <script>\n",
              "        const buttonEl =\n",
              "          document.querySelector('#df-d5305157-7cbd-4c8c-a861-e2bbb5777d56 button.colab-df-convert');\n",
              "        buttonEl.style.display =\n",
              "          google.colab.kernel.accessAllowed ? 'block' : 'none';\n",
              "\n",
              "        async function convertToInteractive(key) {\n",
              "          const element = document.querySelector('#df-d5305157-7cbd-4c8c-a861-e2bbb5777d56');\n",
              "          const dataTable =\n",
              "            await google.colab.kernel.invokeFunction('convertToInteractive',\n",
              "                                                     [key], {});\n",
              "          if (!dataTable) return;\n",
              "\n",
              "          const docLinkHtml = 'Like what you see? Visit the ' +\n",
              "            '<a target=\"_blank\" href=https://colab.research.google.com/notebooks/data_table.ipynb>data table notebook</a>'\n",
              "            + ' to learn more about interactive tables.';\n",
              "          element.innerHTML = '';\n",
              "          dataTable['output_type'] = 'display_data';\n",
              "          await google.colab.output.renderOutput(dataTable, element);\n",
              "          const docLink = document.createElement('div');\n",
              "          docLink.innerHTML = docLinkHtml;\n",
              "          element.appendChild(docLink);\n",
              "        }\n",
              "      </script>\n",
              "    </div>\n",
              "  </div>\n",
              "  "
            ]
          },
          "metadata": {},
          "execution_count": 12
        }
      ]
    },
    {
      "cell_type": "markdown",
      "source": [
        "### Variables Description "
      ],
      "metadata": {
        "id": "PBTbrJXOngz2"
      }
    },
    {
      "cell_type": "markdown",
      "source": [
        " * **Email_Id** - Email id of customer\n",
        " * **Email_Type** - There are two categories 1 and 2. We can think of them as marketing emails or important updates and notices like emails regarding business\n",
        " * **Subject_Hotness_Score** - It is the email's subject's score on the basis of how good and effective the content is\n",
        " * **Email_Source_Type** - It represents the source of the email like sales and marketing or important admin mails related to the product\n",
        " * **Email_Campaign_Type** - The campaign type of the email.\n",
        " * **Customer_Location** - Contains demographical data of the customer, the location where the customer resides.\n",
        " * **Total_Past_Communications** - This columns contains the total previous mails from the same source, the number of communications had.\n",
        " * **Time_Email_sent_Category** - It has three categories 1,2 and 3, Time of the day when the email was sent, either morning, evening and night time\n",
        " * **Word_Count**- Total count of word in each email\n",
        " * **Total_links** - Total number of links in the email\n",
        " * **Total_Images** - Total Number of images in the email\n",
        " * **Email_Status** - Our target variable which contains whether the mail was ignored, read, acknowledged by the reader"
      ],
      "metadata": {
        "id": "aJV4KIxSnxay"
      }
    },
    {
      "cell_type": "markdown",
      "source": [
        "### Check Unique Values for each variable."
      ],
      "metadata": {
        "id": "u3PMJOP6ngxN"
      }
    },
    {
      "cell_type": "code",
      "source": [
        "# Check Unique Values for each variable.\n",
        "# Check Unique Values for each variable.\n",
        "for i in email_data.columns:\n",
        "  print(\"No. of unique values in '{}' is {}.\".format(i, email_data[i].nunique()))\n",
        "     "
      ],
      "metadata": {
        "id": "zms12Yq5n-jE",
        "colab": {
          "base_uri": "https://localhost:8080/"
        },
        "outputId": "125cb16a-aab6-476d-a02d-26cfc51e414f"
      },
      "execution_count": 13,
      "outputs": [
        {
          "output_type": "stream",
          "name": "stdout",
          "text": [
            "No. of unique values in 'Email_ID' is 68353.\n",
            "No. of unique values in 'Email_Type' is 2.\n",
            "No. of unique values in 'Subject_Hotness_Score' is 51.\n",
            "No. of unique values in 'Email_Source_Type' is 2.\n",
            "No. of unique values in 'Customer_Location' is 7.\n",
            "No. of unique values in 'Email_Campaign_Type' is 3.\n",
            "No. of unique values in 'Total_Past_Communications' is 64.\n",
            "No. of unique values in 'Time_Email_sent_Category' is 3.\n",
            "No. of unique values in 'Word_Count' is 151.\n",
            "No. of unique values in 'Total_Links' is 37.\n",
            "No. of unique values in 'Total_Images' is 45.\n",
            "No. of unique values in 'Email_Status' is 3.\n"
          ]
        }
      ]
    },
    {
      "cell_type": "markdown",
      "source": [
        "## 3. ***Data Wrangling***"
      ],
      "metadata": {
        "id": "dauF4eBmngu3"
      }
    },
    {
      "cell_type": "markdown",
      "source": [
        "### Data Wrangling Code"
      ],
      "metadata": {
        "id": "bKJF3rekwFvQ"
      }
    },
    {
      "cell_type": "code",
      "source": [
        "# Write your code to make your dataset analysis ready.\n",
        "# Checking Shape of Email Read\n",
        "print(\"No. of Email Read : \",len(email_data[email_data['Email_Status'] == 1]))\n",
        "# Checking Shape of Email Acknowledged by Reader\n",
        "print(\"No. of Email Acknowledged : \",len(email_data[email_data['Email_Status'] == 2]))\n",
        "# Checking Shape of Email Ignored\n",
        "print(\"No. of Email Ignored : \",len(email_data[email_data['Email_Status'] == 0]))"
      ],
      "metadata": {
        "id": "wk-9a2fpoLcV",
        "colab": {
          "base_uri": "https://localhost:8080/"
        },
        "outputId": "26f35d28-a543-4806-de0f-6bca041320af"
      },
      "execution_count": 15,
      "outputs": [
        {
          "output_type": "stream",
          "name": "stdout",
          "text": [
            "No. of Email Read :  11039\n",
            "No. of Email Acknowledged :  2373\n",
            "No. of Email Ignored :  54941\n"
          ]
        }
      ]
    },
    {
      "cell_type": "code",
      "source": [
        "# Email Status groupby Email_Type\n",
        "pd.DataFrame(email_data.groupby('Email_Type')['Email_Status'].value_counts().reset_index(name=\"Count\"))"
      ],
      "metadata": {
        "colab": {
          "base_uri": "https://localhost:8080/",
          "height": 237
        },
        "id": "51Ewd5aqE_1I",
        "outputId": "bfd3ab7c-a24f-43b2-fc3d-409fe66b2461"
      },
      "execution_count": 16,
      "outputs": [
        {
          "output_type": "execute_result",
          "data": {
            "text/plain": [
              "   Email_Type  Email_Status  Count\n",
              "0           1             0  39004\n",
              "1           1             1   8208\n",
              "2           1             2   1654\n",
              "3           2             0  15937\n",
              "4           2             1   2831\n",
              "5           2             2    719"
            ],
            "text/html": [
              "\n",
              "  <div id=\"df-19fcb169-52dc-4861-b7a6-33be9f3e583e\">\n",
              "    <div class=\"colab-df-container\">\n",
              "      <div>\n",
              "<style scoped>\n",
              "    .dataframe tbody tr th:only-of-type {\n",
              "        vertical-align: middle;\n",
              "    }\n",
              "\n",
              "    .dataframe tbody tr th {\n",
              "        vertical-align: top;\n",
              "    }\n",
              "\n",
              "    .dataframe thead th {\n",
              "        text-align: right;\n",
              "    }\n",
              "</style>\n",
              "<table border=\"1\" class=\"dataframe\">\n",
              "  <thead>\n",
              "    <tr style=\"text-align: right;\">\n",
              "      <th></th>\n",
              "      <th>Email_Type</th>\n",
              "      <th>Email_Status</th>\n",
              "      <th>Count</th>\n",
              "    </tr>\n",
              "  </thead>\n",
              "  <tbody>\n",
              "    <tr>\n",
              "      <th>0</th>\n",
              "      <td>1</td>\n",
              "      <td>0</td>\n",
              "      <td>39004</td>\n",
              "    </tr>\n",
              "    <tr>\n",
              "      <th>1</th>\n",
              "      <td>1</td>\n",
              "      <td>1</td>\n",
              "      <td>8208</td>\n",
              "    </tr>\n",
              "    <tr>\n",
              "      <th>2</th>\n",
              "      <td>1</td>\n",
              "      <td>2</td>\n",
              "      <td>1654</td>\n",
              "    </tr>\n",
              "    <tr>\n",
              "      <th>3</th>\n",
              "      <td>2</td>\n",
              "      <td>0</td>\n",
              "      <td>15937</td>\n",
              "    </tr>\n",
              "    <tr>\n",
              "      <th>4</th>\n",
              "      <td>2</td>\n",
              "      <td>1</td>\n",
              "      <td>2831</td>\n",
              "    </tr>\n",
              "    <tr>\n",
              "      <th>5</th>\n",
              "      <td>2</td>\n",
              "      <td>2</td>\n",
              "      <td>719</td>\n",
              "    </tr>\n",
              "  </tbody>\n",
              "</table>\n",
              "</div>\n",
              "      <button class=\"colab-df-convert\" onclick=\"convertToInteractive('df-19fcb169-52dc-4861-b7a6-33be9f3e583e')\"\n",
              "              title=\"Convert this dataframe to an interactive table.\"\n",
              "              style=\"display:none;\">\n",
              "        \n",
              "  <svg xmlns=\"http://www.w3.org/2000/svg\" height=\"24px\"viewBox=\"0 0 24 24\"\n",
              "       width=\"24px\">\n",
              "    <path d=\"M0 0h24v24H0V0z\" fill=\"none\"/>\n",
              "    <path d=\"M18.56 5.44l.94 2.06.94-2.06 2.06-.94-2.06-.94-.94-2.06-.94 2.06-2.06.94zm-11 1L8.5 8.5l.94-2.06 2.06-.94-2.06-.94L8.5 2.5l-.94 2.06-2.06.94zm10 10l.94 2.06.94-2.06 2.06-.94-2.06-.94-.94-2.06-.94 2.06-2.06.94z\"/><path d=\"M17.41 7.96l-1.37-1.37c-.4-.4-.92-.59-1.43-.59-.52 0-1.04.2-1.43.59L10.3 9.45l-7.72 7.72c-.78.78-.78 2.05 0 2.83L4 21.41c.39.39.9.59 1.41.59.51 0 1.02-.2 1.41-.59l7.78-7.78 2.81-2.81c.8-.78.8-2.07 0-2.86zM5.41 20L4 18.59l7.72-7.72 1.47 1.35L5.41 20z\"/>\n",
              "  </svg>\n",
              "      </button>\n",
              "      \n",
              "  <style>\n",
              "    .colab-df-container {\n",
              "      display:flex;\n",
              "      flex-wrap:wrap;\n",
              "      gap: 12px;\n",
              "    }\n",
              "\n",
              "    .colab-df-convert {\n",
              "      background-color: #E8F0FE;\n",
              "      border: none;\n",
              "      border-radius: 50%;\n",
              "      cursor: pointer;\n",
              "      display: none;\n",
              "      fill: #1967D2;\n",
              "      height: 32px;\n",
              "      padding: 0 0 0 0;\n",
              "      width: 32px;\n",
              "    }\n",
              "\n",
              "    .colab-df-convert:hover {\n",
              "      background-color: #E2EBFA;\n",
              "      box-shadow: 0px 1px 2px rgba(60, 64, 67, 0.3), 0px 1px 3px 1px rgba(60, 64, 67, 0.15);\n",
              "      fill: #174EA6;\n",
              "    }\n",
              "\n",
              "    [theme=dark] .colab-df-convert {\n",
              "      background-color: #3B4455;\n",
              "      fill: #D2E3FC;\n",
              "    }\n",
              "\n",
              "    [theme=dark] .colab-df-convert:hover {\n",
              "      background-color: #434B5C;\n",
              "      box-shadow: 0px 1px 3px 1px rgba(0, 0, 0, 0.15);\n",
              "      filter: drop-shadow(0px 1px 2px rgba(0, 0, 0, 0.3));\n",
              "      fill: #FFFFFF;\n",
              "    }\n",
              "  </style>\n",
              "\n",
              "      <script>\n",
              "        const buttonEl =\n",
              "          document.querySelector('#df-19fcb169-52dc-4861-b7a6-33be9f3e583e button.colab-df-convert');\n",
              "        buttonEl.style.display =\n",
              "          google.colab.kernel.accessAllowed ? 'block' : 'none';\n",
              "\n",
              "        async function convertToInteractive(key) {\n",
              "          const element = document.querySelector('#df-19fcb169-52dc-4861-b7a6-33be9f3e583e');\n",
              "          const dataTable =\n",
              "            await google.colab.kernel.invokeFunction('convertToInteractive',\n",
              "                                                     [key], {});\n",
              "          if (!dataTable) return;\n",
              "\n",
              "          const docLinkHtml = 'Like what you see? Visit the ' +\n",
              "            '<a target=\"_blank\" href=https://colab.research.google.com/notebooks/data_table.ipynb>data table notebook</a>'\n",
              "            + ' to learn more about interactive tables.';\n",
              "          element.innerHTML = '';\n",
              "          dataTable['output_type'] = 'display_data';\n",
              "          await google.colab.output.renderOutput(dataTable, element);\n",
              "          const docLink = document.createElement('div');\n",
              "          docLink.innerHTML = docLinkHtml;\n",
              "          element.appendChild(docLink);\n",
              "        }\n",
              "      </script>\n",
              "    </div>\n",
              "  </div>\n",
              "  "
            ]
          },
          "metadata": {},
          "execution_count": 16
        }
      ]
    },
    {
      "cell_type": "code",
      "source": [
        "# Email Status groupby Email_Source_Type\n",
        "pd.DataFrame(email_data.groupby('Email_Source_Type')['Email_Status'].value_counts().reset_index(name=\"Count\"))\n",
        "     "
      ],
      "metadata": {
        "colab": {
          "base_uri": "https://localhost:8080/",
          "height": 237
        },
        "id": "6PzsRCh_FUab",
        "outputId": "073729b2-de50-4233-bbc1-96d4b5bb6fe2"
      },
      "execution_count": 17,
      "outputs": [
        {
          "output_type": "execute_result",
          "data": {
            "text/plain": [
              "   Email_Source_Type  Email_Status  Count\n",
              "0                  1             0  29577\n",
              "1                  1             1   6150\n",
              "2                  1             2   1422\n",
              "3                  2             0  25364\n",
              "4                  2             1   4889\n",
              "5                  2             2    951"
            ],
            "text/html": [
              "\n",
              "  <div id=\"df-43b8ab5c-6cbe-4ca9-bf3e-0b74e796a4d2\">\n",
              "    <div class=\"colab-df-container\">\n",
              "      <div>\n",
              "<style scoped>\n",
              "    .dataframe tbody tr th:only-of-type {\n",
              "        vertical-align: middle;\n",
              "    }\n",
              "\n",
              "    .dataframe tbody tr th {\n",
              "        vertical-align: top;\n",
              "    }\n",
              "\n",
              "    .dataframe thead th {\n",
              "        text-align: right;\n",
              "    }\n",
              "</style>\n",
              "<table border=\"1\" class=\"dataframe\">\n",
              "  <thead>\n",
              "    <tr style=\"text-align: right;\">\n",
              "      <th></th>\n",
              "      <th>Email_Source_Type</th>\n",
              "      <th>Email_Status</th>\n",
              "      <th>Count</th>\n",
              "    </tr>\n",
              "  </thead>\n",
              "  <tbody>\n",
              "    <tr>\n",
              "      <th>0</th>\n",
              "      <td>1</td>\n",
              "      <td>0</td>\n",
              "      <td>29577</td>\n",
              "    </tr>\n",
              "    <tr>\n",
              "      <th>1</th>\n",
              "      <td>1</td>\n",
              "      <td>1</td>\n",
              "      <td>6150</td>\n",
              "    </tr>\n",
              "    <tr>\n",
              "      <th>2</th>\n",
              "      <td>1</td>\n",
              "      <td>2</td>\n",
              "      <td>1422</td>\n",
              "    </tr>\n",
              "    <tr>\n",
              "      <th>3</th>\n",
              "      <td>2</td>\n",
              "      <td>0</td>\n",
              "      <td>25364</td>\n",
              "    </tr>\n",
              "    <tr>\n",
              "      <th>4</th>\n",
              "      <td>2</td>\n",
              "      <td>1</td>\n",
              "      <td>4889</td>\n",
              "    </tr>\n",
              "    <tr>\n",
              "      <th>5</th>\n",
              "      <td>2</td>\n",
              "      <td>2</td>\n",
              "      <td>951</td>\n",
              "    </tr>\n",
              "  </tbody>\n",
              "</table>\n",
              "</div>\n",
              "      <button class=\"colab-df-convert\" onclick=\"convertToInteractive('df-43b8ab5c-6cbe-4ca9-bf3e-0b74e796a4d2')\"\n",
              "              title=\"Convert this dataframe to an interactive table.\"\n",
              "              style=\"display:none;\">\n",
              "        \n",
              "  <svg xmlns=\"http://www.w3.org/2000/svg\" height=\"24px\"viewBox=\"0 0 24 24\"\n",
              "       width=\"24px\">\n",
              "    <path d=\"M0 0h24v24H0V0z\" fill=\"none\"/>\n",
              "    <path d=\"M18.56 5.44l.94 2.06.94-2.06 2.06-.94-2.06-.94-.94-2.06-.94 2.06-2.06.94zm-11 1L8.5 8.5l.94-2.06 2.06-.94-2.06-.94L8.5 2.5l-.94 2.06-2.06.94zm10 10l.94 2.06.94-2.06 2.06-.94-2.06-.94-.94-2.06-.94 2.06-2.06.94z\"/><path d=\"M17.41 7.96l-1.37-1.37c-.4-.4-.92-.59-1.43-.59-.52 0-1.04.2-1.43.59L10.3 9.45l-7.72 7.72c-.78.78-.78 2.05 0 2.83L4 21.41c.39.39.9.59 1.41.59.51 0 1.02-.2 1.41-.59l7.78-7.78 2.81-2.81c.8-.78.8-2.07 0-2.86zM5.41 20L4 18.59l7.72-7.72 1.47 1.35L5.41 20z\"/>\n",
              "  </svg>\n",
              "      </button>\n",
              "      \n",
              "  <style>\n",
              "    .colab-df-container {\n",
              "      display:flex;\n",
              "      flex-wrap:wrap;\n",
              "      gap: 12px;\n",
              "    }\n",
              "\n",
              "    .colab-df-convert {\n",
              "      background-color: #E8F0FE;\n",
              "      border: none;\n",
              "      border-radius: 50%;\n",
              "      cursor: pointer;\n",
              "      display: none;\n",
              "      fill: #1967D2;\n",
              "      height: 32px;\n",
              "      padding: 0 0 0 0;\n",
              "      width: 32px;\n",
              "    }\n",
              "\n",
              "    .colab-df-convert:hover {\n",
              "      background-color: #E2EBFA;\n",
              "      box-shadow: 0px 1px 2px rgba(60, 64, 67, 0.3), 0px 1px 3px 1px rgba(60, 64, 67, 0.15);\n",
              "      fill: #174EA6;\n",
              "    }\n",
              "\n",
              "    [theme=dark] .colab-df-convert {\n",
              "      background-color: #3B4455;\n",
              "      fill: #D2E3FC;\n",
              "    }\n",
              "\n",
              "    [theme=dark] .colab-df-convert:hover {\n",
              "      background-color: #434B5C;\n",
              "      box-shadow: 0px 1px 3px 1px rgba(0, 0, 0, 0.15);\n",
              "      filter: drop-shadow(0px 1px 2px rgba(0, 0, 0, 0.3));\n",
              "      fill: #FFFFFF;\n",
              "    }\n",
              "  </style>\n",
              "\n",
              "      <script>\n",
              "        const buttonEl =\n",
              "          document.querySelector('#df-43b8ab5c-6cbe-4ca9-bf3e-0b74e796a4d2 button.colab-df-convert');\n",
              "        buttonEl.style.display =\n",
              "          google.colab.kernel.accessAllowed ? 'block' : 'none';\n",
              "\n",
              "        async function convertToInteractive(key) {\n",
              "          const element = document.querySelector('#df-43b8ab5c-6cbe-4ca9-bf3e-0b74e796a4d2');\n",
              "          const dataTable =\n",
              "            await google.colab.kernel.invokeFunction('convertToInteractive',\n",
              "                                                     [key], {});\n",
              "          if (!dataTable) return;\n",
              "\n",
              "          const docLinkHtml = 'Like what you see? Visit the ' +\n",
              "            '<a target=\"_blank\" href=https://colab.research.google.com/notebooks/data_table.ipynb>data table notebook</a>'\n",
              "            + ' to learn more about interactive tables.';\n",
              "          element.innerHTML = '';\n",
              "          dataTable['output_type'] = 'display_data';\n",
              "          await google.colab.output.renderOutput(dataTable, element);\n",
              "          const docLink = document.createElement('div');\n",
              "          docLink.innerHTML = docLinkHtml;\n",
              "          element.appendChild(docLink);\n",
              "        }\n",
              "      </script>\n",
              "    </div>\n",
              "  </div>\n",
              "  "
            ]
          },
          "metadata": {},
          "execution_count": 17
        }
      ]
    },
    {
      "cell_type": "code",
      "source": [
        "# Email Status groupby Customer_Location\n",
        "pd.DataFrame(email_data.groupby('Customer_Location')['Email_Status'].value_counts().reset_index(name=\"Count\"))"
      ],
      "metadata": {
        "colab": {
          "base_uri": "https://localhost:8080/",
          "height": 708
        },
        "id": "CyxzlRAcFg7M",
        "outputId": "fa4cec48-7c76-4e13-ba11-a1ad428aa33d"
      },
      "execution_count": 20,
      "outputs": [
        {
          "output_type": "execute_result",
          "data": {
            "text/plain": [
              "   Customer_Location  Email_Status  Count\n",
              "0                  A             0   1160\n",
              "1                  A             1    245\n",
              "2                  A             2     49\n",
              "3                  B             0   3502\n",
              "4                  B             1    714\n",
              "5                  B             2    125\n",
              "6                  C             0   4654\n",
              "7                  C             1    890\n",
              "8                  C             2    214\n",
              "9                  D             0   5950\n",
              "10                 D             1   1206\n",
              "11                 D             2    250\n",
              "12                 E             0   8136\n",
              "13                 E             1   1693\n",
              "14                 E             2    364\n",
              "15                 F             0   3579\n",
              "16                 F             1    698\n",
              "17                 F             2    156\n",
              "18                 G             0  18609\n",
              "19                 G             1   3745\n",
              "20                 G             2    819"
            ],
            "text/html": [
              "\n",
              "  <div id=\"df-c1c16534-ae62-42b0-a453-0a79e03fa26e\">\n",
              "    <div class=\"colab-df-container\">\n",
              "      <div>\n",
              "<style scoped>\n",
              "    .dataframe tbody tr th:only-of-type {\n",
              "        vertical-align: middle;\n",
              "    }\n",
              "\n",
              "    .dataframe tbody tr th {\n",
              "        vertical-align: top;\n",
              "    }\n",
              "\n",
              "    .dataframe thead th {\n",
              "        text-align: right;\n",
              "    }\n",
              "</style>\n",
              "<table border=\"1\" class=\"dataframe\">\n",
              "  <thead>\n",
              "    <tr style=\"text-align: right;\">\n",
              "      <th></th>\n",
              "      <th>Customer_Location</th>\n",
              "      <th>Email_Status</th>\n",
              "      <th>Count</th>\n",
              "    </tr>\n",
              "  </thead>\n",
              "  <tbody>\n",
              "    <tr>\n",
              "      <th>0</th>\n",
              "      <td>A</td>\n",
              "      <td>0</td>\n",
              "      <td>1160</td>\n",
              "    </tr>\n",
              "    <tr>\n",
              "      <th>1</th>\n",
              "      <td>A</td>\n",
              "      <td>1</td>\n",
              "      <td>245</td>\n",
              "    </tr>\n",
              "    <tr>\n",
              "      <th>2</th>\n",
              "      <td>A</td>\n",
              "      <td>2</td>\n",
              "      <td>49</td>\n",
              "    </tr>\n",
              "    <tr>\n",
              "      <th>3</th>\n",
              "      <td>B</td>\n",
              "      <td>0</td>\n",
              "      <td>3502</td>\n",
              "    </tr>\n",
              "    <tr>\n",
              "      <th>4</th>\n",
              "      <td>B</td>\n",
              "      <td>1</td>\n",
              "      <td>714</td>\n",
              "    </tr>\n",
              "    <tr>\n",
              "      <th>5</th>\n",
              "      <td>B</td>\n",
              "      <td>2</td>\n",
              "      <td>125</td>\n",
              "    </tr>\n",
              "    <tr>\n",
              "      <th>6</th>\n",
              "      <td>C</td>\n",
              "      <td>0</td>\n",
              "      <td>4654</td>\n",
              "    </tr>\n",
              "    <tr>\n",
              "      <th>7</th>\n",
              "      <td>C</td>\n",
              "      <td>1</td>\n",
              "      <td>890</td>\n",
              "    </tr>\n",
              "    <tr>\n",
              "      <th>8</th>\n",
              "      <td>C</td>\n",
              "      <td>2</td>\n",
              "      <td>214</td>\n",
              "    </tr>\n",
              "    <tr>\n",
              "      <th>9</th>\n",
              "      <td>D</td>\n",
              "      <td>0</td>\n",
              "      <td>5950</td>\n",
              "    </tr>\n",
              "    <tr>\n",
              "      <th>10</th>\n",
              "      <td>D</td>\n",
              "      <td>1</td>\n",
              "      <td>1206</td>\n",
              "    </tr>\n",
              "    <tr>\n",
              "      <th>11</th>\n",
              "      <td>D</td>\n",
              "      <td>2</td>\n",
              "      <td>250</td>\n",
              "    </tr>\n",
              "    <tr>\n",
              "      <th>12</th>\n",
              "      <td>E</td>\n",
              "      <td>0</td>\n",
              "      <td>8136</td>\n",
              "    </tr>\n",
              "    <tr>\n",
              "      <th>13</th>\n",
              "      <td>E</td>\n",
              "      <td>1</td>\n",
              "      <td>1693</td>\n",
              "    </tr>\n",
              "    <tr>\n",
              "      <th>14</th>\n",
              "      <td>E</td>\n",
              "      <td>2</td>\n",
              "      <td>364</td>\n",
              "    </tr>\n",
              "    <tr>\n",
              "      <th>15</th>\n",
              "      <td>F</td>\n",
              "      <td>0</td>\n",
              "      <td>3579</td>\n",
              "    </tr>\n",
              "    <tr>\n",
              "      <th>16</th>\n",
              "      <td>F</td>\n",
              "      <td>1</td>\n",
              "      <td>698</td>\n",
              "    </tr>\n",
              "    <tr>\n",
              "      <th>17</th>\n",
              "      <td>F</td>\n",
              "      <td>2</td>\n",
              "      <td>156</td>\n",
              "    </tr>\n",
              "    <tr>\n",
              "      <th>18</th>\n",
              "      <td>G</td>\n",
              "      <td>0</td>\n",
              "      <td>18609</td>\n",
              "    </tr>\n",
              "    <tr>\n",
              "      <th>19</th>\n",
              "      <td>G</td>\n",
              "      <td>1</td>\n",
              "      <td>3745</td>\n",
              "    </tr>\n",
              "    <tr>\n",
              "      <th>20</th>\n",
              "      <td>G</td>\n",
              "      <td>2</td>\n",
              "      <td>819</td>\n",
              "    </tr>\n",
              "  </tbody>\n",
              "</table>\n",
              "</div>\n",
              "      <button class=\"colab-df-convert\" onclick=\"convertToInteractive('df-c1c16534-ae62-42b0-a453-0a79e03fa26e')\"\n",
              "              title=\"Convert this dataframe to an interactive table.\"\n",
              "              style=\"display:none;\">\n",
              "        \n",
              "  <svg xmlns=\"http://www.w3.org/2000/svg\" height=\"24px\"viewBox=\"0 0 24 24\"\n",
              "       width=\"24px\">\n",
              "    <path d=\"M0 0h24v24H0V0z\" fill=\"none\"/>\n",
              "    <path d=\"M18.56 5.44l.94 2.06.94-2.06 2.06-.94-2.06-.94-.94-2.06-.94 2.06-2.06.94zm-11 1L8.5 8.5l.94-2.06 2.06-.94-2.06-.94L8.5 2.5l-.94 2.06-2.06.94zm10 10l.94 2.06.94-2.06 2.06-.94-2.06-.94-.94-2.06-.94 2.06-2.06.94z\"/><path d=\"M17.41 7.96l-1.37-1.37c-.4-.4-.92-.59-1.43-.59-.52 0-1.04.2-1.43.59L10.3 9.45l-7.72 7.72c-.78.78-.78 2.05 0 2.83L4 21.41c.39.39.9.59 1.41.59.51 0 1.02-.2 1.41-.59l7.78-7.78 2.81-2.81c.8-.78.8-2.07 0-2.86zM5.41 20L4 18.59l7.72-7.72 1.47 1.35L5.41 20z\"/>\n",
              "  </svg>\n",
              "      </button>\n",
              "      \n",
              "  <style>\n",
              "    .colab-df-container {\n",
              "      display:flex;\n",
              "      flex-wrap:wrap;\n",
              "      gap: 12px;\n",
              "    }\n",
              "\n",
              "    .colab-df-convert {\n",
              "      background-color: #E8F0FE;\n",
              "      border: none;\n",
              "      border-radius: 50%;\n",
              "      cursor: pointer;\n",
              "      display: none;\n",
              "      fill: #1967D2;\n",
              "      height: 32px;\n",
              "      padding: 0 0 0 0;\n",
              "      width: 32px;\n",
              "    }\n",
              "\n",
              "    .colab-df-convert:hover {\n",
              "      background-color: #E2EBFA;\n",
              "      box-shadow: 0px 1px 2px rgba(60, 64, 67, 0.3), 0px 1px 3px 1px rgba(60, 64, 67, 0.15);\n",
              "      fill: #174EA6;\n",
              "    }\n",
              "\n",
              "    [theme=dark] .colab-df-convert {\n",
              "      background-color: #3B4455;\n",
              "      fill: #D2E3FC;\n",
              "    }\n",
              "\n",
              "    [theme=dark] .colab-df-convert:hover {\n",
              "      background-color: #434B5C;\n",
              "      box-shadow: 0px 1px 3px 1px rgba(0, 0, 0, 0.15);\n",
              "      filter: drop-shadow(0px 1px 2px rgba(0, 0, 0, 0.3));\n",
              "      fill: #FFFFFF;\n",
              "    }\n",
              "  </style>\n",
              "\n",
              "      <script>\n",
              "        const buttonEl =\n",
              "          document.querySelector('#df-c1c16534-ae62-42b0-a453-0a79e03fa26e button.colab-df-convert');\n",
              "        buttonEl.style.display =\n",
              "          google.colab.kernel.accessAllowed ? 'block' : 'none';\n",
              "\n",
              "        async function convertToInteractive(key) {\n",
              "          const element = document.querySelector('#df-c1c16534-ae62-42b0-a453-0a79e03fa26e');\n",
              "          const dataTable =\n",
              "            await google.colab.kernel.invokeFunction('convertToInteractive',\n",
              "                                                     [key], {});\n",
              "          if (!dataTable) return;\n",
              "\n",
              "          const docLinkHtml = 'Like what you see? Visit the ' +\n",
              "            '<a target=\"_blank\" href=https://colab.research.google.com/notebooks/data_table.ipynb>data table notebook</a>'\n",
              "            + ' to learn more about interactive tables.';\n",
              "          element.innerHTML = '';\n",
              "          dataTable['output_type'] = 'display_data';\n",
              "          await google.colab.output.renderOutput(dataTable, element);\n",
              "          const docLink = document.createElement('div');\n",
              "          docLink.innerHTML = docLinkHtml;\n",
              "          element.appendChild(docLink);\n",
              "        }\n",
              "      </script>\n",
              "    </div>\n",
              "  </div>\n",
              "  "
            ]
          },
          "metadata": {},
          "execution_count": 20
        }
      ]
    },
    {
      "cell_type": "code",
      "source": [
        "# Email Status groupby Email_Campaign_Type\n",
        "pd.DataFrame(email_data.groupby('Email_Campaign_Type')['Email_Status'].value_counts().reset_index(name=\"Count\"))"
      ],
      "metadata": {
        "colab": {
          "base_uri": "https://localhost:8080/",
          "height": 331
        },
        "id": "9Comc5afF-gd",
        "outputId": "16b4bd16-fc06-42e3-e4c9-5183c7028b17"
      },
      "execution_count": 21,
      "outputs": [
        {
          "output_type": "execute_result",
          "data": {
            "text/plain": [
              "   Email_Campaign_Type  Email_Status  Count\n",
              "0                    1             1    486\n",
              "1                    1             2    173\n",
              "2                    1             0     77\n",
              "3                    2             0  42115\n",
              "4                    2             1   5446\n",
              "5                    2             2    712\n",
              "6                    3             0  12749\n",
              "7                    3             1   5107\n",
              "8                    3             2   1488"
            ],
            "text/html": [
              "\n",
              "  <div id=\"df-8aaa0d2c-5e3b-445e-bb8f-3cf61ddf94a4\">\n",
              "    <div class=\"colab-df-container\">\n",
              "      <div>\n",
              "<style scoped>\n",
              "    .dataframe tbody tr th:only-of-type {\n",
              "        vertical-align: middle;\n",
              "    }\n",
              "\n",
              "    .dataframe tbody tr th {\n",
              "        vertical-align: top;\n",
              "    }\n",
              "\n",
              "    .dataframe thead th {\n",
              "        text-align: right;\n",
              "    }\n",
              "</style>\n",
              "<table border=\"1\" class=\"dataframe\">\n",
              "  <thead>\n",
              "    <tr style=\"text-align: right;\">\n",
              "      <th></th>\n",
              "      <th>Email_Campaign_Type</th>\n",
              "      <th>Email_Status</th>\n",
              "      <th>Count</th>\n",
              "    </tr>\n",
              "  </thead>\n",
              "  <tbody>\n",
              "    <tr>\n",
              "      <th>0</th>\n",
              "      <td>1</td>\n",
              "      <td>1</td>\n",
              "      <td>486</td>\n",
              "    </tr>\n",
              "    <tr>\n",
              "      <th>1</th>\n",
              "      <td>1</td>\n",
              "      <td>2</td>\n",
              "      <td>173</td>\n",
              "    </tr>\n",
              "    <tr>\n",
              "      <th>2</th>\n",
              "      <td>1</td>\n",
              "      <td>0</td>\n",
              "      <td>77</td>\n",
              "    </tr>\n",
              "    <tr>\n",
              "      <th>3</th>\n",
              "      <td>2</td>\n",
              "      <td>0</td>\n",
              "      <td>42115</td>\n",
              "    </tr>\n",
              "    <tr>\n",
              "      <th>4</th>\n",
              "      <td>2</td>\n",
              "      <td>1</td>\n",
              "      <td>5446</td>\n",
              "    </tr>\n",
              "    <tr>\n",
              "      <th>5</th>\n",
              "      <td>2</td>\n",
              "      <td>2</td>\n",
              "      <td>712</td>\n",
              "    </tr>\n",
              "    <tr>\n",
              "      <th>6</th>\n",
              "      <td>3</td>\n",
              "      <td>0</td>\n",
              "      <td>12749</td>\n",
              "    </tr>\n",
              "    <tr>\n",
              "      <th>7</th>\n",
              "      <td>3</td>\n",
              "      <td>1</td>\n",
              "      <td>5107</td>\n",
              "    </tr>\n",
              "    <tr>\n",
              "      <th>8</th>\n",
              "      <td>3</td>\n",
              "      <td>2</td>\n",
              "      <td>1488</td>\n",
              "    </tr>\n",
              "  </tbody>\n",
              "</table>\n",
              "</div>\n",
              "      <button class=\"colab-df-convert\" onclick=\"convertToInteractive('df-8aaa0d2c-5e3b-445e-bb8f-3cf61ddf94a4')\"\n",
              "              title=\"Convert this dataframe to an interactive table.\"\n",
              "              style=\"display:none;\">\n",
              "        \n",
              "  <svg xmlns=\"http://www.w3.org/2000/svg\" height=\"24px\"viewBox=\"0 0 24 24\"\n",
              "       width=\"24px\">\n",
              "    <path d=\"M0 0h24v24H0V0z\" fill=\"none\"/>\n",
              "    <path d=\"M18.56 5.44l.94 2.06.94-2.06 2.06-.94-2.06-.94-.94-2.06-.94 2.06-2.06.94zm-11 1L8.5 8.5l.94-2.06 2.06-.94-2.06-.94L8.5 2.5l-.94 2.06-2.06.94zm10 10l.94 2.06.94-2.06 2.06-.94-2.06-.94-.94-2.06-.94 2.06-2.06.94z\"/><path d=\"M17.41 7.96l-1.37-1.37c-.4-.4-.92-.59-1.43-.59-.52 0-1.04.2-1.43.59L10.3 9.45l-7.72 7.72c-.78.78-.78 2.05 0 2.83L4 21.41c.39.39.9.59 1.41.59.51 0 1.02-.2 1.41-.59l7.78-7.78 2.81-2.81c.8-.78.8-2.07 0-2.86zM5.41 20L4 18.59l7.72-7.72 1.47 1.35L5.41 20z\"/>\n",
              "  </svg>\n",
              "      </button>\n",
              "      \n",
              "  <style>\n",
              "    .colab-df-container {\n",
              "      display:flex;\n",
              "      flex-wrap:wrap;\n",
              "      gap: 12px;\n",
              "    }\n",
              "\n",
              "    .colab-df-convert {\n",
              "      background-color: #E8F0FE;\n",
              "      border: none;\n",
              "      border-radius: 50%;\n",
              "      cursor: pointer;\n",
              "      display: none;\n",
              "      fill: #1967D2;\n",
              "      height: 32px;\n",
              "      padding: 0 0 0 0;\n",
              "      width: 32px;\n",
              "    }\n",
              "\n",
              "    .colab-df-convert:hover {\n",
              "      background-color: #E2EBFA;\n",
              "      box-shadow: 0px 1px 2px rgba(60, 64, 67, 0.3), 0px 1px 3px 1px rgba(60, 64, 67, 0.15);\n",
              "      fill: #174EA6;\n",
              "    }\n",
              "\n",
              "    [theme=dark] .colab-df-convert {\n",
              "      background-color: #3B4455;\n",
              "      fill: #D2E3FC;\n",
              "    }\n",
              "\n",
              "    [theme=dark] .colab-df-convert:hover {\n",
              "      background-color: #434B5C;\n",
              "      box-shadow: 0px 1px 3px 1px rgba(0, 0, 0, 0.15);\n",
              "      filter: drop-shadow(0px 1px 2px rgba(0, 0, 0, 0.3));\n",
              "      fill: #FFFFFF;\n",
              "    }\n",
              "  </style>\n",
              "\n",
              "      <script>\n",
              "        const buttonEl =\n",
              "          document.querySelector('#df-8aaa0d2c-5e3b-445e-bb8f-3cf61ddf94a4 button.colab-df-convert');\n",
              "        buttonEl.style.display =\n",
              "          google.colab.kernel.accessAllowed ? 'block' : 'none';\n",
              "\n",
              "        async function convertToInteractive(key) {\n",
              "          const element = document.querySelector('#df-8aaa0d2c-5e3b-445e-bb8f-3cf61ddf94a4');\n",
              "          const dataTable =\n",
              "            await google.colab.kernel.invokeFunction('convertToInteractive',\n",
              "                                                     [key], {});\n",
              "          if (!dataTable) return;\n",
              "\n",
              "          const docLinkHtml = 'Like what you see? Visit the ' +\n",
              "            '<a target=\"_blank\" href=https://colab.research.google.com/notebooks/data_table.ipynb>data table notebook</a>'\n",
              "            + ' to learn more about interactive tables.';\n",
              "          element.innerHTML = '';\n",
              "          dataTable['output_type'] = 'display_data';\n",
              "          await google.colab.output.renderOutput(dataTable, element);\n",
              "          const docLink = document.createElement('div');\n",
              "          docLink.innerHTML = docLinkHtml;\n",
              "          element.appendChild(docLink);\n",
              "        }\n",
              "      </script>\n",
              "    </div>\n",
              "  </div>\n",
              "  "
            ]
          },
          "metadata": {},
          "execution_count": 21
        }
      ]
    },
    {
      "cell_type": "code",
      "source": [
        "# Email Status groupby Time_Email_sent_Category\n",
        "pd.DataFrame(email_data.groupby('Time_Email_sent_Category')['Email_Status'].value_counts().reset_index(name=\"Count\"))"
      ],
      "metadata": {
        "colab": {
          "base_uri": "https://localhost:8080/",
          "height": 331
        },
        "id": "Ij8EJYJIGG2B",
        "outputId": "da1dd640-c6e2-472a-c47d-2c4919c60f88"
      },
      "execution_count": 23,
      "outputs": [
        {
          "output_type": "execute_result",
          "data": {
            "text/plain": [
              "   Time_Email_sent_Category  Email_Status  Count\n",
              "0                         1             0  10970\n",
              "1                         1             1   2186\n",
              "2                         1             2    480\n",
              "3                         2             0  33062\n",
              "4                         2             1   6631\n",
              "5                         2             2   1436\n",
              "6                         3             0  10909\n",
              "7                         3             1   2222\n",
              "8                         3             2    457"
            ],
            "text/html": [
              "\n",
              "  <div id=\"df-a5cdfcd0-8a4e-45b8-ba22-bc7f254409cd\">\n",
              "    <div class=\"colab-df-container\">\n",
              "      <div>\n",
              "<style scoped>\n",
              "    .dataframe tbody tr th:only-of-type {\n",
              "        vertical-align: middle;\n",
              "    }\n",
              "\n",
              "    .dataframe tbody tr th {\n",
              "        vertical-align: top;\n",
              "    }\n",
              "\n",
              "    .dataframe thead th {\n",
              "        text-align: right;\n",
              "    }\n",
              "</style>\n",
              "<table border=\"1\" class=\"dataframe\">\n",
              "  <thead>\n",
              "    <tr style=\"text-align: right;\">\n",
              "      <th></th>\n",
              "      <th>Time_Email_sent_Category</th>\n",
              "      <th>Email_Status</th>\n",
              "      <th>Count</th>\n",
              "    </tr>\n",
              "  </thead>\n",
              "  <tbody>\n",
              "    <tr>\n",
              "      <th>0</th>\n",
              "      <td>1</td>\n",
              "      <td>0</td>\n",
              "      <td>10970</td>\n",
              "    </tr>\n",
              "    <tr>\n",
              "      <th>1</th>\n",
              "      <td>1</td>\n",
              "      <td>1</td>\n",
              "      <td>2186</td>\n",
              "    </tr>\n",
              "    <tr>\n",
              "      <th>2</th>\n",
              "      <td>1</td>\n",
              "      <td>2</td>\n",
              "      <td>480</td>\n",
              "    </tr>\n",
              "    <tr>\n",
              "      <th>3</th>\n",
              "      <td>2</td>\n",
              "      <td>0</td>\n",
              "      <td>33062</td>\n",
              "    </tr>\n",
              "    <tr>\n",
              "      <th>4</th>\n",
              "      <td>2</td>\n",
              "      <td>1</td>\n",
              "      <td>6631</td>\n",
              "    </tr>\n",
              "    <tr>\n",
              "      <th>5</th>\n",
              "      <td>2</td>\n",
              "      <td>2</td>\n",
              "      <td>1436</td>\n",
              "    </tr>\n",
              "    <tr>\n",
              "      <th>6</th>\n",
              "      <td>3</td>\n",
              "      <td>0</td>\n",
              "      <td>10909</td>\n",
              "    </tr>\n",
              "    <tr>\n",
              "      <th>7</th>\n",
              "      <td>3</td>\n",
              "      <td>1</td>\n",
              "      <td>2222</td>\n",
              "    </tr>\n",
              "    <tr>\n",
              "      <th>8</th>\n",
              "      <td>3</td>\n",
              "      <td>2</td>\n",
              "      <td>457</td>\n",
              "    </tr>\n",
              "  </tbody>\n",
              "</table>\n",
              "</div>\n",
              "      <button class=\"colab-df-convert\" onclick=\"convertToInteractive('df-a5cdfcd0-8a4e-45b8-ba22-bc7f254409cd')\"\n",
              "              title=\"Convert this dataframe to an interactive table.\"\n",
              "              style=\"display:none;\">\n",
              "        \n",
              "  <svg xmlns=\"http://www.w3.org/2000/svg\" height=\"24px\"viewBox=\"0 0 24 24\"\n",
              "       width=\"24px\">\n",
              "    <path d=\"M0 0h24v24H0V0z\" fill=\"none\"/>\n",
              "    <path d=\"M18.56 5.44l.94 2.06.94-2.06 2.06-.94-2.06-.94-.94-2.06-.94 2.06-2.06.94zm-11 1L8.5 8.5l.94-2.06 2.06-.94-2.06-.94L8.5 2.5l-.94 2.06-2.06.94zm10 10l.94 2.06.94-2.06 2.06-.94-2.06-.94-.94-2.06-.94 2.06-2.06.94z\"/><path d=\"M17.41 7.96l-1.37-1.37c-.4-.4-.92-.59-1.43-.59-.52 0-1.04.2-1.43.59L10.3 9.45l-7.72 7.72c-.78.78-.78 2.05 0 2.83L4 21.41c.39.39.9.59 1.41.59.51 0 1.02-.2 1.41-.59l7.78-7.78 2.81-2.81c.8-.78.8-2.07 0-2.86zM5.41 20L4 18.59l7.72-7.72 1.47 1.35L5.41 20z\"/>\n",
              "  </svg>\n",
              "      </button>\n",
              "      \n",
              "  <style>\n",
              "    .colab-df-container {\n",
              "      display:flex;\n",
              "      flex-wrap:wrap;\n",
              "      gap: 12px;\n",
              "    }\n",
              "\n",
              "    .colab-df-convert {\n",
              "      background-color: #E8F0FE;\n",
              "      border: none;\n",
              "      border-radius: 50%;\n",
              "      cursor: pointer;\n",
              "      display: none;\n",
              "      fill: #1967D2;\n",
              "      height: 32px;\n",
              "      padding: 0 0 0 0;\n",
              "      width: 32px;\n",
              "    }\n",
              "\n",
              "    .colab-df-convert:hover {\n",
              "      background-color: #E2EBFA;\n",
              "      box-shadow: 0px 1px 2px rgba(60, 64, 67, 0.3), 0px 1px 3px 1px rgba(60, 64, 67, 0.15);\n",
              "      fill: #174EA6;\n",
              "    }\n",
              "\n",
              "    [theme=dark] .colab-df-convert {\n",
              "      background-color: #3B4455;\n",
              "      fill: #D2E3FC;\n",
              "    }\n",
              "\n",
              "    [theme=dark] .colab-df-convert:hover {\n",
              "      background-color: #434B5C;\n",
              "      box-shadow: 0px 1px 3px 1px rgba(0, 0, 0, 0.15);\n",
              "      filter: drop-shadow(0px 1px 2px rgba(0, 0, 0, 0.3));\n",
              "      fill: #FFFFFF;\n",
              "    }\n",
              "  </style>\n",
              "\n",
              "      <script>\n",
              "        const buttonEl =\n",
              "          document.querySelector('#df-a5cdfcd0-8a4e-45b8-ba22-bc7f254409cd button.colab-df-convert');\n",
              "        buttonEl.style.display =\n",
              "          google.colab.kernel.accessAllowed ? 'block' : 'none';\n",
              "\n",
              "        async function convertToInteractive(key) {\n",
              "          const element = document.querySelector('#df-a5cdfcd0-8a4e-45b8-ba22-bc7f254409cd');\n",
              "          const dataTable =\n",
              "            await google.colab.kernel.invokeFunction('convertToInteractive',\n",
              "                                                     [key], {});\n",
              "          if (!dataTable) return;\n",
              "\n",
              "          const docLinkHtml = 'Like what you see? Visit the ' +\n",
              "            '<a target=\"_blank\" href=https://colab.research.google.com/notebooks/data_table.ipynb>data table notebook</a>'\n",
              "            + ' to learn more about interactive tables.';\n",
              "          element.innerHTML = '';\n",
              "          dataTable['output_type'] = 'display_data';\n",
              "          await google.colab.output.renderOutput(dataTable, element);\n",
              "          const docLink = document.createElement('div');\n",
              "          docLink.innerHTML = docLinkHtml;\n",
              "          element.appendChild(docLink);\n",
              "        }\n",
              "      </script>\n",
              "    </div>\n",
              "  </div>\n",
              "  "
            ]
          },
          "metadata": {},
          "execution_count": 23
        }
      ]
    },
    {
      "cell_type": "code",
      "source": [
        "#creating variable to store numerical feature\n",
        "num_feature = email_data.select_dtypes(include = 'float').columns.to_list()\n",
        "num_feature.append('Word_Count')\n",
        "num_feature\n",
        "#word_count have numeric data\n",
        "     "
      ],
      "metadata": {
        "colab": {
          "base_uri": "https://localhost:8080/"
        },
        "id": "sD8ioHuLGQOT",
        "outputId": "d9b93f1f-df59-42ef-9674-dc6a33c52eff"
      },
      "execution_count": 28,
      "outputs": [
        {
          "output_type": "execute_result",
          "data": {
            "text/plain": [
              "['Subject_Hotness_Score',\n",
              " 'Total_Past_Communications',\n",
              " 'Total_Links',\n",
              " 'Total_Images',\n",
              " 'Word_Count']"
            ]
          },
          "metadata": {},
          "execution_count": 28
        }
      ]
    },
    {
      "cell_type": "code",
      "source": [
        "#creating variable to store categorial features\n",
        "cat_feature = [feature for feature in email_data.columns.to_list() if feature not in num_feature]\n",
        "cat_feature  "
      ],
      "metadata": {
        "colab": {
          "base_uri": "https://localhost:8080/"
        },
        "id": "5EngrgOxI0Mg",
        "outputId": "7894bdec-7385-4f03-bb83-b183f5341de1"
      },
      "execution_count": 30,
      "outputs": [
        {
          "output_type": "execute_result",
          "data": {
            "text/plain": [
              "['Email_ID',\n",
              " 'Email_Type',\n",
              " 'Email_Source_Type',\n",
              " 'Customer_Location',\n",
              " 'Email_Campaign_Type',\n",
              " 'Time_Email_sent_Category',\n",
              " 'Email_Status']"
            ]
          },
          "metadata": {},
          "execution_count": 30
        }
      ]
    },
    {
      "cell_type": "code",
      "source": [
        "#finding count, sum, mean and median based on Email Type\n",
        "email_data.groupby('Email_Type')[num_feature].agg(['count','sum','mean','median']).T"
      ],
      "metadata": {
        "colab": {
          "base_uri": "https://localhost:8080/",
          "height": 676
        },
        "id": "bbMolxbJJaQG",
        "outputId": "3c5e2fbe-df4e-4da4-dba5-c1a944a72fef"
      },
      "execution_count": 36,
      "outputs": [
        {
          "output_type": "execute_result",
          "data": {
            "text/plain": [
              "Email_Type                                   1             2\n",
              "Subject_Hotness_Score     count   4.886600e+04  1.948700e+04\n",
              "                          sum     6.078070e+04  1.409870e+04\n",
              "                          mean    1.243824e+00  7.234926e-01\n",
              "                          median  1.100000e+00  3.000000e-01\n",
              "Total_Past_Communications count   4.406500e+04  1.746300e+04\n",
              "                          sum     1.291275e+06  4.889300e+05\n",
              "                          mean    2.930387e+01  2.799805e+01\n",
              "                          median  2.900000e+01  2.800000e+01\n",
              "Total_Links               count   4.728600e+04  1.886600e+04\n",
              "                          sum     5.241490e+05  1.657850e+05\n",
              "                          mean    1.108466e+01  8.787501e+00\n",
              "                          median  9.000000e+00  8.000000e+00\n",
              "Total_Images              count   4.765500e+04  1.902100e+04\n",
              "                          sum     1.875460e+05  4.919900e+04\n",
              "                          mean    3.935495e+00  2.586562e+00\n",
              "                          median  1.000000e+00  0.000000e+00\n",
              "Word_Count                count   4.886600e+04  1.948700e+04\n",
              "                          sum     3.354937e+07  1.429306e+07\n",
              "                          mean    6.865586e+02  7.334665e+02\n",
              "                          median  6.780000e+02  7.220000e+02"
            ],
            "text/html": [
              "\n",
              "  <div id=\"df-57f9fb0c-0314-4ec3-b9e2-91fdb914858b\">\n",
              "    <div class=\"colab-df-container\">\n",
              "      <div>\n",
              "<style scoped>\n",
              "    .dataframe tbody tr th:only-of-type {\n",
              "        vertical-align: middle;\n",
              "    }\n",
              "\n",
              "    .dataframe tbody tr th {\n",
              "        vertical-align: top;\n",
              "    }\n",
              "\n",
              "    .dataframe thead th {\n",
              "        text-align: right;\n",
              "    }\n",
              "</style>\n",
              "<table border=\"1\" class=\"dataframe\">\n",
              "  <thead>\n",
              "    <tr style=\"text-align: right;\">\n",
              "      <th></th>\n",
              "      <th>Email_Type</th>\n",
              "      <th>1</th>\n",
              "      <th>2</th>\n",
              "    </tr>\n",
              "  </thead>\n",
              "  <tbody>\n",
              "    <tr>\n",
              "      <th rowspan=\"4\" valign=\"top\">Subject_Hotness_Score</th>\n",
              "      <th>count</th>\n",
              "      <td>4.886600e+04</td>\n",
              "      <td>1.948700e+04</td>\n",
              "    </tr>\n",
              "    <tr>\n",
              "      <th>sum</th>\n",
              "      <td>6.078070e+04</td>\n",
              "      <td>1.409870e+04</td>\n",
              "    </tr>\n",
              "    <tr>\n",
              "      <th>mean</th>\n",
              "      <td>1.243824e+00</td>\n",
              "      <td>7.234926e-01</td>\n",
              "    </tr>\n",
              "    <tr>\n",
              "      <th>median</th>\n",
              "      <td>1.100000e+00</td>\n",
              "      <td>3.000000e-01</td>\n",
              "    </tr>\n",
              "    <tr>\n",
              "      <th rowspan=\"4\" valign=\"top\">Total_Past_Communications</th>\n",
              "      <th>count</th>\n",
              "      <td>4.406500e+04</td>\n",
              "      <td>1.746300e+04</td>\n",
              "    </tr>\n",
              "    <tr>\n",
              "      <th>sum</th>\n",
              "      <td>1.291275e+06</td>\n",
              "      <td>4.889300e+05</td>\n",
              "    </tr>\n",
              "    <tr>\n",
              "      <th>mean</th>\n",
              "      <td>2.930387e+01</td>\n",
              "      <td>2.799805e+01</td>\n",
              "    </tr>\n",
              "    <tr>\n",
              "      <th>median</th>\n",
              "      <td>2.900000e+01</td>\n",
              "      <td>2.800000e+01</td>\n",
              "    </tr>\n",
              "    <tr>\n",
              "      <th rowspan=\"4\" valign=\"top\">Total_Links</th>\n",
              "      <th>count</th>\n",
              "      <td>4.728600e+04</td>\n",
              "      <td>1.886600e+04</td>\n",
              "    </tr>\n",
              "    <tr>\n",
              "      <th>sum</th>\n",
              "      <td>5.241490e+05</td>\n",
              "      <td>1.657850e+05</td>\n",
              "    </tr>\n",
              "    <tr>\n",
              "      <th>mean</th>\n",
              "      <td>1.108466e+01</td>\n",
              "      <td>8.787501e+00</td>\n",
              "    </tr>\n",
              "    <tr>\n",
              "      <th>median</th>\n",
              "      <td>9.000000e+00</td>\n",
              "      <td>8.000000e+00</td>\n",
              "    </tr>\n",
              "    <tr>\n",
              "      <th rowspan=\"4\" valign=\"top\">Total_Images</th>\n",
              "      <th>count</th>\n",
              "      <td>4.765500e+04</td>\n",
              "      <td>1.902100e+04</td>\n",
              "    </tr>\n",
              "    <tr>\n",
              "      <th>sum</th>\n",
              "      <td>1.875460e+05</td>\n",
              "      <td>4.919900e+04</td>\n",
              "    </tr>\n",
              "    <tr>\n",
              "      <th>mean</th>\n",
              "      <td>3.935495e+00</td>\n",
              "      <td>2.586562e+00</td>\n",
              "    </tr>\n",
              "    <tr>\n",
              "      <th>median</th>\n",
              "      <td>1.000000e+00</td>\n",
              "      <td>0.000000e+00</td>\n",
              "    </tr>\n",
              "    <tr>\n",
              "      <th rowspan=\"4\" valign=\"top\">Word_Count</th>\n",
              "      <th>count</th>\n",
              "      <td>4.886600e+04</td>\n",
              "      <td>1.948700e+04</td>\n",
              "    </tr>\n",
              "    <tr>\n",
              "      <th>sum</th>\n",
              "      <td>3.354937e+07</td>\n",
              "      <td>1.429306e+07</td>\n",
              "    </tr>\n",
              "    <tr>\n",
              "      <th>mean</th>\n",
              "      <td>6.865586e+02</td>\n",
              "      <td>7.334665e+02</td>\n",
              "    </tr>\n",
              "    <tr>\n",
              "      <th>median</th>\n",
              "      <td>6.780000e+02</td>\n",
              "      <td>7.220000e+02</td>\n",
              "    </tr>\n",
              "  </tbody>\n",
              "</table>\n",
              "</div>\n",
              "      <button class=\"colab-df-convert\" onclick=\"convertToInteractive('df-57f9fb0c-0314-4ec3-b9e2-91fdb914858b')\"\n",
              "              title=\"Convert this dataframe to an interactive table.\"\n",
              "              style=\"display:none;\">\n",
              "        \n",
              "  <svg xmlns=\"http://www.w3.org/2000/svg\" height=\"24px\"viewBox=\"0 0 24 24\"\n",
              "       width=\"24px\">\n",
              "    <path d=\"M0 0h24v24H0V0z\" fill=\"none\"/>\n",
              "    <path d=\"M18.56 5.44l.94 2.06.94-2.06 2.06-.94-2.06-.94-.94-2.06-.94 2.06-2.06.94zm-11 1L8.5 8.5l.94-2.06 2.06-.94-2.06-.94L8.5 2.5l-.94 2.06-2.06.94zm10 10l.94 2.06.94-2.06 2.06-.94-2.06-.94-.94-2.06-.94 2.06-2.06.94z\"/><path d=\"M17.41 7.96l-1.37-1.37c-.4-.4-.92-.59-1.43-.59-.52 0-1.04.2-1.43.59L10.3 9.45l-7.72 7.72c-.78.78-.78 2.05 0 2.83L4 21.41c.39.39.9.59 1.41.59.51 0 1.02-.2 1.41-.59l7.78-7.78 2.81-2.81c.8-.78.8-2.07 0-2.86zM5.41 20L4 18.59l7.72-7.72 1.47 1.35L5.41 20z\"/>\n",
              "  </svg>\n",
              "      </button>\n",
              "      \n",
              "  <style>\n",
              "    .colab-df-container {\n",
              "      display:flex;\n",
              "      flex-wrap:wrap;\n",
              "      gap: 12px;\n",
              "    }\n",
              "\n",
              "    .colab-df-convert {\n",
              "      background-color: #E8F0FE;\n",
              "      border: none;\n",
              "      border-radius: 50%;\n",
              "      cursor: pointer;\n",
              "      display: none;\n",
              "      fill: #1967D2;\n",
              "      height: 32px;\n",
              "      padding: 0 0 0 0;\n",
              "      width: 32px;\n",
              "    }\n",
              "\n",
              "    .colab-df-convert:hover {\n",
              "      background-color: #E2EBFA;\n",
              "      box-shadow: 0px 1px 2px rgba(60, 64, 67, 0.3), 0px 1px 3px 1px rgba(60, 64, 67, 0.15);\n",
              "      fill: #174EA6;\n",
              "    }\n",
              "\n",
              "    [theme=dark] .colab-df-convert {\n",
              "      background-color: #3B4455;\n",
              "      fill: #D2E3FC;\n",
              "    }\n",
              "\n",
              "    [theme=dark] .colab-df-convert:hover {\n",
              "      background-color: #434B5C;\n",
              "      box-shadow: 0px 1px 3px 1px rgba(0, 0, 0, 0.15);\n",
              "      filter: drop-shadow(0px 1px 2px rgba(0, 0, 0, 0.3));\n",
              "      fill: #FFFFFF;\n",
              "    }\n",
              "  </style>\n",
              "\n",
              "      <script>\n",
              "        const buttonEl =\n",
              "          document.querySelector('#df-57f9fb0c-0314-4ec3-b9e2-91fdb914858b button.colab-df-convert');\n",
              "        buttonEl.style.display =\n",
              "          google.colab.kernel.accessAllowed ? 'block' : 'none';\n",
              "\n",
              "        async function convertToInteractive(key) {\n",
              "          const element = document.querySelector('#df-57f9fb0c-0314-4ec3-b9e2-91fdb914858b');\n",
              "          const dataTable =\n",
              "            await google.colab.kernel.invokeFunction('convertToInteractive',\n",
              "                                                     [key], {});\n",
              "          if (!dataTable) return;\n",
              "\n",
              "          const docLinkHtml = 'Like what you see? Visit the ' +\n",
              "            '<a target=\"_blank\" href=https://colab.research.google.com/notebooks/data_table.ipynb>data table notebook</a>'\n",
              "            + ' to learn more about interactive tables.';\n",
              "          element.innerHTML = '';\n",
              "          dataTable['output_type'] = 'display_data';\n",
              "          await google.colab.output.renderOutput(dataTable, element);\n",
              "          const docLink = document.createElement('div');\n",
              "          docLink.innerHTML = docLinkHtml;\n",
              "          element.appendChild(docLink);\n",
              "        }\n",
              "      </script>\n",
              "    </div>\n",
              "  </div>\n",
              "  "
            ]
          },
          "metadata": {},
          "execution_count": 36
        }
      ]
    },
    {
      "cell_type": "code",
      "source": [
        "#finding count, sum, mean and median based on Email_Source_Type\n",
        "email_data.groupby('Email_Source_Type')[num_feature].agg(['count','sum','mean','median']).T\n",
        "     "
      ],
      "metadata": {
        "colab": {
          "base_uri": "https://localhost:8080/",
          "height": 676
        },
        "id": "mOQaFCZxKESs",
        "outputId": "4ad3b988-567b-4258-b003-f9d8232c22c5"
      },
      "execution_count": 37,
      "outputs": [
        {
          "output_type": "execute_result",
          "data": {
            "text/plain": [
              "Email_Source_Type                            1             2\n",
              "Subject_Hotness_Score     count   3.714900e+04  3.120400e+04\n",
              "                          sum     4.048740e+04  3.439200e+04\n",
              "                          mean    1.089865e+00  1.102166e+00\n",
              "                          median  8.000000e-01  8.000000e-01\n",
              "Total_Past_Communications count   3.335300e+04  2.817500e+04\n",
              "                          sum     9.918520e+05  7.883530e+05\n",
              "                          mean    2.973801e+01  2.798059e+01\n",
              "                          median  3.000000e+01  2.700000e+01\n",
              "Total_Links               count   3.595000e+04  3.020200e+04\n",
              "                          sum     3.628040e+05  3.271300e+05\n",
              "                          mean    1.009191e+01  1.083140e+01\n",
              "                          median  9.000000e+00  9.000000e+00\n",
              "Total_Images              count   3.624400e+04  3.043200e+04\n",
              "                          sum     1.214220e+05  1.153230e+05\n",
              "                          mean    3.350127e+00  3.789531e+00\n",
              "                          median  0.000000e+00  0.000000e+00\n",
              "Word_Count                count   3.714900e+04  3.120400e+04\n",
              "                          sum     2.555477e+07  2.228767e+07\n",
              "                          mean    6.878992e+02  7.142568e+02\n",
              "                          median  6.840000e+02  7.040000e+02"
            ],
            "text/html": [
              "\n",
              "  <div id=\"df-f00e22ec-b90d-43dc-bc88-865f812c73eb\">\n",
              "    <div class=\"colab-df-container\">\n",
              "      <div>\n",
              "<style scoped>\n",
              "    .dataframe tbody tr th:only-of-type {\n",
              "        vertical-align: middle;\n",
              "    }\n",
              "\n",
              "    .dataframe tbody tr th {\n",
              "        vertical-align: top;\n",
              "    }\n",
              "\n",
              "    .dataframe thead th {\n",
              "        text-align: right;\n",
              "    }\n",
              "</style>\n",
              "<table border=\"1\" class=\"dataframe\">\n",
              "  <thead>\n",
              "    <tr style=\"text-align: right;\">\n",
              "      <th></th>\n",
              "      <th>Email_Source_Type</th>\n",
              "      <th>1</th>\n",
              "      <th>2</th>\n",
              "    </tr>\n",
              "  </thead>\n",
              "  <tbody>\n",
              "    <tr>\n",
              "      <th rowspan=\"4\" valign=\"top\">Subject_Hotness_Score</th>\n",
              "      <th>count</th>\n",
              "      <td>3.714900e+04</td>\n",
              "      <td>3.120400e+04</td>\n",
              "    </tr>\n",
              "    <tr>\n",
              "      <th>sum</th>\n",
              "      <td>4.048740e+04</td>\n",
              "      <td>3.439200e+04</td>\n",
              "    </tr>\n",
              "    <tr>\n",
              "      <th>mean</th>\n",
              "      <td>1.089865e+00</td>\n",
              "      <td>1.102166e+00</td>\n",
              "    </tr>\n",
              "    <tr>\n",
              "      <th>median</th>\n",
              "      <td>8.000000e-01</td>\n",
              "      <td>8.000000e-01</td>\n",
              "    </tr>\n",
              "    <tr>\n",
              "      <th rowspan=\"4\" valign=\"top\">Total_Past_Communications</th>\n",
              "      <th>count</th>\n",
              "      <td>3.335300e+04</td>\n",
              "      <td>2.817500e+04</td>\n",
              "    </tr>\n",
              "    <tr>\n",
              "      <th>sum</th>\n",
              "      <td>9.918520e+05</td>\n",
              "      <td>7.883530e+05</td>\n",
              "    </tr>\n",
              "    <tr>\n",
              "      <th>mean</th>\n",
              "      <td>2.973801e+01</td>\n",
              "      <td>2.798059e+01</td>\n",
              "    </tr>\n",
              "    <tr>\n",
              "      <th>median</th>\n",
              "      <td>3.000000e+01</td>\n",
              "      <td>2.700000e+01</td>\n",
              "    </tr>\n",
              "    <tr>\n",
              "      <th rowspan=\"4\" valign=\"top\">Total_Links</th>\n",
              "      <th>count</th>\n",
              "      <td>3.595000e+04</td>\n",
              "      <td>3.020200e+04</td>\n",
              "    </tr>\n",
              "    <tr>\n",
              "      <th>sum</th>\n",
              "      <td>3.628040e+05</td>\n",
              "      <td>3.271300e+05</td>\n",
              "    </tr>\n",
              "    <tr>\n",
              "      <th>mean</th>\n",
              "      <td>1.009191e+01</td>\n",
              "      <td>1.083140e+01</td>\n",
              "    </tr>\n",
              "    <tr>\n",
              "      <th>median</th>\n",
              "      <td>9.000000e+00</td>\n",
              "      <td>9.000000e+00</td>\n",
              "    </tr>\n",
              "    <tr>\n",
              "      <th rowspan=\"4\" valign=\"top\">Total_Images</th>\n",
              "      <th>count</th>\n",
              "      <td>3.624400e+04</td>\n",
              "      <td>3.043200e+04</td>\n",
              "    </tr>\n",
              "    <tr>\n",
              "      <th>sum</th>\n",
              "      <td>1.214220e+05</td>\n",
              "      <td>1.153230e+05</td>\n",
              "    </tr>\n",
              "    <tr>\n",
              "      <th>mean</th>\n",
              "      <td>3.350127e+00</td>\n",
              "      <td>3.789531e+00</td>\n",
              "    </tr>\n",
              "    <tr>\n",
              "      <th>median</th>\n",
              "      <td>0.000000e+00</td>\n",
              "      <td>0.000000e+00</td>\n",
              "    </tr>\n",
              "    <tr>\n",
              "      <th rowspan=\"4\" valign=\"top\">Word_Count</th>\n",
              "      <th>count</th>\n",
              "      <td>3.714900e+04</td>\n",
              "      <td>3.120400e+04</td>\n",
              "    </tr>\n",
              "    <tr>\n",
              "      <th>sum</th>\n",
              "      <td>2.555477e+07</td>\n",
              "      <td>2.228767e+07</td>\n",
              "    </tr>\n",
              "    <tr>\n",
              "      <th>mean</th>\n",
              "      <td>6.878992e+02</td>\n",
              "      <td>7.142568e+02</td>\n",
              "    </tr>\n",
              "    <tr>\n",
              "      <th>median</th>\n",
              "      <td>6.840000e+02</td>\n",
              "      <td>7.040000e+02</td>\n",
              "    </tr>\n",
              "  </tbody>\n",
              "</table>\n",
              "</div>\n",
              "      <button class=\"colab-df-convert\" onclick=\"convertToInteractive('df-f00e22ec-b90d-43dc-bc88-865f812c73eb')\"\n",
              "              title=\"Convert this dataframe to an interactive table.\"\n",
              "              style=\"display:none;\">\n",
              "        \n",
              "  <svg xmlns=\"http://www.w3.org/2000/svg\" height=\"24px\"viewBox=\"0 0 24 24\"\n",
              "       width=\"24px\">\n",
              "    <path d=\"M0 0h24v24H0V0z\" fill=\"none\"/>\n",
              "    <path d=\"M18.56 5.44l.94 2.06.94-2.06 2.06-.94-2.06-.94-.94-2.06-.94 2.06-2.06.94zm-11 1L8.5 8.5l.94-2.06 2.06-.94-2.06-.94L8.5 2.5l-.94 2.06-2.06.94zm10 10l.94 2.06.94-2.06 2.06-.94-2.06-.94-.94-2.06-.94 2.06-2.06.94z\"/><path d=\"M17.41 7.96l-1.37-1.37c-.4-.4-.92-.59-1.43-.59-.52 0-1.04.2-1.43.59L10.3 9.45l-7.72 7.72c-.78.78-.78 2.05 0 2.83L4 21.41c.39.39.9.59 1.41.59.51 0 1.02-.2 1.41-.59l7.78-7.78 2.81-2.81c.8-.78.8-2.07 0-2.86zM5.41 20L4 18.59l7.72-7.72 1.47 1.35L5.41 20z\"/>\n",
              "  </svg>\n",
              "      </button>\n",
              "      \n",
              "  <style>\n",
              "    .colab-df-container {\n",
              "      display:flex;\n",
              "      flex-wrap:wrap;\n",
              "      gap: 12px;\n",
              "    }\n",
              "\n",
              "    .colab-df-convert {\n",
              "      background-color: #E8F0FE;\n",
              "      border: none;\n",
              "      border-radius: 50%;\n",
              "      cursor: pointer;\n",
              "      display: none;\n",
              "      fill: #1967D2;\n",
              "      height: 32px;\n",
              "      padding: 0 0 0 0;\n",
              "      width: 32px;\n",
              "    }\n",
              "\n",
              "    .colab-df-convert:hover {\n",
              "      background-color: #E2EBFA;\n",
              "      box-shadow: 0px 1px 2px rgba(60, 64, 67, 0.3), 0px 1px 3px 1px rgba(60, 64, 67, 0.15);\n",
              "      fill: #174EA6;\n",
              "    }\n",
              "\n",
              "    [theme=dark] .colab-df-convert {\n",
              "      background-color: #3B4455;\n",
              "      fill: #D2E3FC;\n",
              "    }\n",
              "\n",
              "    [theme=dark] .colab-df-convert:hover {\n",
              "      background-color: #434B5C;\n",
              "      box-shadow: 0px 1px 3px 1px rgba(0, 0, 0, 0.15);\n",
              "      filter: drop-shadow(0px 1px 2px rgba(0, 0, 0, 0.3));\n",
              "      fill: #FFFFFF;\n",
              "    }\n",
              "  </style>\n",
              "\n",
              "      <script>\n",
              "        const buttonEl =\n",
              "          document.querySelector('#df-f00e22ec-b90d-43dc-bc88-865f812c73eb button.colab-df-convert');\n",
              "        buttonEl.style.display =\n",
              "          google.colab.kernel.accessAllowed ? 'block' : 'none';\n",
              "\n",
              "        async function convertToInteractive(key) {\n",
              "          const element = document.querySelector('#df-f00e22ec-b90d-43dc-bc88-865f812c73eb');\n",
              "          const dataTable =\n",
              "            await google.colab.kernel.invokeFunction('convertToInteractive',\n",
              "                                                     [key], {});\n",
              "          if (!dataTable) return;\n",
              "\n",
              "          const docLinkHtml = 'Like what you see? Visit the ' +\n",
              "            '<a target=\"_blank\" href=https://colab.research.google.com/notebooks/data_table.ipynb>data table notebook</a>'\n",
              "            + ' to learn more about interactive tables.';\n",
              "          element.innerHTML = '';\n",
              "          dataTable['output_type'] = 'display_data';\n",
              "          await google.colab.output.renderOutput(dataTable, element);\n",
              "          const docLink = document.createElement('div');\n",
              "          docLink.innerHTML = docLinkHtml;\n",
              "          element.appendChild(docLink);\n",
              "        }\n",
              "      </script>\n",
              "    </div>\n",
              "  </div>\n",
              "  "
            ]
          },
          "metadata": {},
          "execution_count": 37
        }
      ]
    },
    {
      "cell_type": "code",
      "source": [
        "#finding count, sum, mean and median based on Customer_Location\n",
        "email_data.groupby('Customer_Location')[num_feature].agg(['count','sum','mean','median']).T"
      ],
      "metadata": {
        "colab": {
          "base_uri": "https://localhost:8080/",
          "height": 676
        },
        "id": "Lb6hwigTKfco",
        "outputId": "19b1667e-8212-46cf-9f21-70b70490a63f"
      },
      "execution_count": 38,
      "outputs": [
        {
          "output_type": "execute_result",
          "data": {
            "text/plain": [
              "Customer_Location                            A             B             C  \\\n",
              "Subject_Hotness_Score     count   1.454000e+03  4.341000e+03  5.758000e+03   \n",
              "                          sum     1.644400e+03  4.847900e+03  6.351100e+03   \n",
              "                          mean    1.130949e+00  1.116770e+00  1.103005e+00   \n",
              "                          median  9.000000e-01  9.000000e-01  8.000000e-01   \n",
              "Total_Past_Communications count   1.300000e+03  3.939000e+03  5.183000e+03   \n",
              "                          sum     3.697000e+04  1.134620e+05  1.495720e+05   \n",
              "                          mean    2.843846e+01  2.880477e+01  2.885819e+01   \n",
              "                          median  2.700000e+01  2.800000e+01  2.800000e+01   \n",
              "Total_Links               count   1.407000e+03  4.205000e+03  5.573000e+03   \n",
              "                          sum     1.458700e+04  4.397900e+04  5.869700e+04   \n",
              "                          mean    1.036745e+01  1.045874e+01  1.053239e+01   \n",
              "                          median  9.000000e+00  9.000000e+00  9.000000e+00   \n",
              "Total_Images              count   1.416000e+03  4.236000e+03  5.606000e+03   \n",
              "                          sum     4.795000e+03  1.543400e+04  2.020200e+04   \n",
              "                          mean    3.386299e+00  3.643532e+00  3.603639e+00   \n",
              "                          median  0.000000e+00  0.000000e+00  0.000000e+00   \n",
              "Word_Count                count   1.454000e+03  4.341000e+03  5.758000e+03   \n",
              "                          sum     1.004166e+06  3.045906e+06  4.053360e+06   \n",
              "                          mean    6.906231e+02  7.016600e+02  7.039528e+02   \n",
              "                          median  6.940000e+02  6.940000e+02  6.940000e+02   \n",
              "\n",
              "Customer_Location                            D             E             F  \\\n",
              "Subject_Hotness_Score     count   7.406000e+03  1.019300e+04  4.433000e+03   \n",
              "                          sum     8.187800e+03  1.111640e+04  4.794400e+03   \n",
              "                          mean    1.105563e+00  1.090592e+00  1.081525e+00   \n",
              "                          median  8.000000e-01  8.000000e-01  8.000000e-01   \n",
              "Total_Past_Communications count   6.625000e+03  9.170000e+03  3.980000e+03   \n",
              "                          sum     1.902230e+05  2.671770e+05  1.150360e+05   \n",
              "                          mean    2.871291e+01  2.913599e+01  2.890352e+01   \n",
              "                          median  2.800000e+01  2.900000e+01  2.800000e+01   \n",
              "Total_Links               count   7.157000e+03  9.872000e+03  4.311000e+03   \n",
              "                          sum     7.454800e+04  1.020920e+05  4.563100e+04   \n",
              "                          mean    1.041610e+01  1.034157e+01  1.058478e+01   \n",
              "                          median  9.000000e+00  9.000000e+00  9.000000e+00   \n",
              "Total_Images              count   7.244000e+03  9.938000e+03  4.319000e+03   \n",
              "                          sum     2.547100e+04  3.481300e+04  1.594900e+04   \n",
              "                          mean    3.516151e+00  3.503019e+00  3.692753e+00   \n",
              "                          median  0.000000e+00  0.000000e+00  0.000000e+00   \n",
              "Word_Count                count   7.406000e+03  1.019300e+04  4.433000e+03   \n",
              "                          sum     5.183849e+06  7.128244e+06  3.099054e+06   \n",
              "                          mean    6.999526e+02  6.993274e+02  6.990873e+02   \n",
              "                          median  6.940000e+02  6.940000e+02  6.940000e+02   \n",
              "\n",
              "Customer_Location                            G  \n",
              "Subject_Hotness_Score     count   2.317300e+04  \n",
              "                          sum     2.524040e+04  \n",
              "                          mean    1.089216e+00  \n",
              "                          median  8.000000e-01  \n",
              "Total_Past_Communications count   2.091800e+04  \n",
              "                          sum     6.057270e+05  \n",
              "                          mean    2.895721e+01  \n",
              "                          median  2.900000e+01  \n",
              "Total_Links               count   2.242900e+04  \n",
              "                          sum     2.332460e+05  \n",
              "                          mean    1.039930e+01  \n",
              "                          median  9.000000e+00  \n",
              "Total_Images              count   2.261400e+04  \n",
              "                          sum     7.987500e+04  \n",
              "                          mean    3.532104e+00  \n",
              "                          median  0.000000e+00  \n",
              "Word_Count                count   2.317300e+04  \n",
              "                          sum     1.626364e+07  \n",
              "                          mean    7.018355e+02  \n",
              "                          median  6.940000e+02  "
            ],
            "text/html": [
              "\n",
              "  <div id=\"df-29ee7e30-775a-40b8-8425-d972fe4fcff9\">\n",
              "    <div class=\"colab-df-container\">\n",
              "      <div>\n",
              "<style scoped>\n",
              "    .dataframe tbody tr th:only-of-type {\n",
              "        vertical-align: middle;\n",
              "    }\n",
              "\n",
              "    .dataframe tbody tr th {\n",
              "        vertical-align: top;\n",
              "    }\n",
              "\n",
              "    .dataframe thead th {\n",
              "        text-align: right;\n",
              "    }\n",
              "</style>\n",
              "<table border=\"1\" class=\"dataframe\">\n",
              "  <thead>\n",
              "    <tr style=\"text-align: right;\">\n",
              "      <th></th>\n",
              "      <th>Customer_Location</th>\n",
              "      <th>A</th>\n",
              "      <th>B</th>\n",
              "      <th>C</th>\n",
              "      <th>D</th>\n",
              "      <th>E</th>\n",
              "      <th>F</th>\n",
              "      <th>G</th>\n",
              "    </tr>\n",
              "  </thead>\n",
              "  <tbody>\n",
              "    <tr>\n",
              "      <th rowspan=\"4\" valign=\"top\">Subject_Hotness_Score</th>\n",
              "      <th>count</th>\n",
              "      <td>1.454000e+03</td>\n",
              "      <td>4.341000e+03</td>\n",
              "      <td>5.758000e+03</td>\n",
              "      <td>7.406000e+03</td>\n",
              "      <td>1.019300e+04</td>\n",
              "      <td>4.433000e+03</td>\n",
              "      <td>2.317300e+04</td>\n",
              "    </tr>\n",
              "    <tr>\n",
              "      <th>sum</th>\n",
              "      <td>1.644400e+03</td>\n",
              "      <td>4.847900e+03</td>\n",
              "      <td>6.351100e+03</td>\n",
              "      <td>8.187800e+03</td>\n",
              "      <td>1.111640e+04</td>\n",
              "      <td>4.794400e+03</td>\n",
              "      <td>2.524040e+04</td>\n",
              "    </tr>\n",
              "    <tr>\n",
              "      <th>mean</th>\n",
              "      <td>1.130949e+00</td>\n",
              "      <td>1.116770e+00</td>\n",
              "      <td>1.103005e+00</td>\n",
              "      <td>1.105563e+00</td>\n",
              "      <td>1.090592e+00</td>\n",
              "      <td>1.081525e+00</td>\n",
              "      <td>1.089216e+00</td>\n",
              "    </tr>\n",
              "    <tr>\n",
              "      <th>median</th>\n",
              "      <td>9.000000e-01</td>\n",
              "      <td>9.000000e-01</td>\n",
              "      <td>8.000000e-01</td>\n",
              "      <td>8.000000e-01</td>\n",
              "      <td>8.000000e-01</td>\n",
              "      <td>8.000000e-01</td>\n",
              "      <td>8.000000e-01</td>\n",
              "    </tr>\n",
              "    <tr>\n",
              "      <th rowspan=\"4\" valign=\"top\">Total_Past_Communications</th>\n",
              "      <th>count</th>\n",
              "      <td>1.300000e+03</td>\n",
              "      <td>3.939000e+03</td>\n",
              "      <td>5.183000e+03</td>\n",
              "      <td>6.625000e+03</td>\n",
              "      <td>9.170000e+03</td>\n",
              "      <td>3.980000e+03</td>\n",
              "      <td>2.091800e+04</td>\n",
              "    </tr>\n",
              "    <tr>\n",
              "      <th>sum</th>\n",
              "      <td>3.697000e+04</td>\n",
              "      <td>1.134620e+05</td>\n",
              "      <td>1.495720e+05</td>\n",
              "      <td>1.902230e+05</td>\n",
              "      <td>2.671770e+05</td>\n",
              "      <td>1.150360e+05</td>\n",
              "      <td>6.057270e+05</td>\n",
              "    </tr>\n",
              "    <tr>\n",
              "      <th>mean</th>\n",
              "      <td>2.843846e+01</td>\n",
              "      <td>2.880477e+01</td>\n",
              "      <td>2.885819e+01</td>\n",
              "      <td>2.871291e+01</td>\n",
              "      <td>2.913599e+01</td>\n",
              "      <td>2.890352e+01</td>\n",
              "      <td>2.895721e+01</td>\n",
              "    </tr>\n",
              "    <tr>\n",
              "      <th>median</th>\n",
              "      <td>2.700000e+01</td>\n",
              "      <td>2.800000e+01</td>\n",
              "      <td>2.800000e+01</td>\n",
              "      <td>2.800000e+01</td>\n",
              "      <td>2.900000e+01</td>\n",
              "      <td>2.800000e+01</td>\n",
              "      <td>2.900000e+01</td>\n",
              "    </tr>\n",
              "    <tr>\n",
              "      <th rowspan=\"4\" valign=\"top\">Total_Links</th>\n",
              "      <th>count</th>\n",
              "      <td>1.407000e+03</td>\n",
              "      <td>4.205000e+03</td>\n",
              "      <td>5.573000e+03</td>\n",
              "      <td>7.157000e+03</td>\n",
              "      <td>9.872000e+03</td>\n",
              "      <td>4.311000e+03</td>\n",
              "      <td>2.242900e+04</td>\n",
              "    </tr>\n",
              "    <tr>\n",
              "      <th>sum</th>\n",
              "      <td>1.458700e+04</td>\n",
              "      <td>4.397900e+04</td>\n",
              "      <td>5.869700e+04</td>\n",
              "      <td>7.454800e+04</td>\n",
              "      <td>1.020920e+05</td>\n",
              "      <td>4.563100e+04</td>\n",
              "      <td>2.332460e+05</td>\n",
              "    </tr>\n",
              "    <tr>\n",
              "      <th>mean</th>\n",
              "      <td>1.036745e+01</td>\n",
              "      <td>1.045874e+01</td>\n",
              "      <td>1.053239e+01</td>\n",
              "      <td>1.041610e+01</td>\n",
              "      <td>1.034157e+01</td>\n",
              "      <td>1.058478e+01</td>\n",
              "      <td>1.039930e+01</td>\n",
              "    </tr>\n",
              "    <tr>\n",
              "      <th>median</th>\n",
              "      <td>9.000000e+00</td>\n",
              "      <td>9.000000e+00</td>\n",
              "      <td>9.000000e+00</td>\n",
              "      <td>9.000000e+00</td>\n",
              "      <td>9.000000e+00</td>\n",
              "      <td>9.000000e+00</td>\n",
              "      <td>9.000000e+00</td>\n",
              "    </tr>\n",
              "    <tr>\n",
              "      <th rowspan=\"4\" valign=\"top\">Total_Images</th>\n",
              "      <th>count</th>\n",
              "      <td>1.416000e+03</td>\n",
              "      <td>4.236000e+03</td>\n",
              "      <td>5.606000e+03</td>\n",
              "      <td>7.244000e+03</td>\n",
              "      <td>9.938000e+03</td>\n",
              "      <td>4.319000e+03</td>\n",
              "      <td>2.261400e+04</td>\n",
              "    </tr>\n",
              "    <tr>\n",
              "      <th>sum</th>\n",
              "      <td>4.795000e+03</td>\n",
              "      <td>1.543400e+04</td>\n",
              "      <td>2.020200e+04</td>\n",
              "      <td>2.547100e+04</td>\n",
              "      <td>3.481300e+04</td>\n",
              "      <td>1.594900e+04</td>\n",
              "      <td>7.987500e+04</td>\n",
              "    </tr>\n",
              "    <tr>\n",
              "      <th>mean</th>\n",
              "      <td>3.386299e+00</td>\n",
              "      <td>3.643532e+00</td>\n",
              "      <td>3.603639e+00</td>\n",
              "      <td>3.516151e+00</td>\n",
              "      <td>3.503019e+00</td>\n",
              "      <td>3.692753e+00</td>\n",
              "      <td>3.532104e+00</td>\n",
              "    </tr>\n",
              "    <tr>\n",
              "      <th>median</th>\n",
              "      <td>0.000000e+00</td>\n",
              "      <td>0.000000e+00</td>\n",
              "      <td>0.000000e+00</td>\n",
              "      <td>0.000000e+00</td>\n",
              "      <td>0.000000e+00</td>\n",
              "      <td>0.000000e+00</td>\n",
              "      <td>0.000000e+00</td>\n",
              "    </tr>\n",
              "    <tr>\n",
              "      <th rowspan=\"4\" valign=\"top\">Word_Count</th>\n",
              "      <th>count</th>\n",
              "      <td>1.454000e+03</td>\n",
              "      <td>4.341000e+03</td>\n",
              "      <td>5.758000e+03</td>\n",
              "      <td>7.406000e+03</td>\n",
              "      <td>1.019300e+04</td>\n",
              "      <td>4.433000e+03</td>\n",
              "      <td>2.317300e+04</td>\n",
              "    </tr>\n",
              "    <tr>\n",
              "      <th>sum</th>\n",
              "      <td>1.004166e+06</td>\n",
              "      <td>3.045906e+06</td>\n",
              "      <td>4.053360e+06</td>\n",
              "      <td>5.183849e+06</td>\n",
              "      <td>7.128244e+06</td>\n",
              "      <td>3.099054e+06</td>\n",
              "      <td>1.626364e+07</td>\n",
              "    </tr>\n",
              "    <tr>\n",
              "      <th>mean</th>\n",
              "      <td>6.906231e+02</td>\n",
              "      <td>7.016600e+02</td>\n",
              "      <td>7.039528e+02</td>\n",
              "      <td>6.999526e+02</td>\n",
              "      <td>6.993274e+02</td>\n",
              "      <td>6.990873e+02</td>\n",
              "      <td>7.018355e+02</td>\n",
              "    </tr>\n",
              "    <tr>\n",
              "      <th>median</th>\n",
              "      <td>6.940000e+02</td>\n",
              "      <td>6.940000e+02</td>\n",
              "      <td>6.940000e+02</td>\n",
              "      <td>6.940000e+02</td>\n",
              "      <td>6.940000e+02</td>\n",
              "      <td>6.940000e+02</td>\n",
              "      <td>6.940000e+02</td>\n",
              "    </tr>\n",
              "  </tbody>\n",
              "</table>\n",
              "</div>\n",
              "      <button class=\"colab-df-convert\" onclick=\"convertToInteractive('df-29ee7e30-775a-40b8-8425-d972fe4fcff9')\"\n",
              "              title=\"Convert this dataframe to an interactive table.\"\n",
              "              style=\"display:none;\">\n",
              "        \n",
              "  <svg xmlns=\"http://www.w3.org/2000/svg\" height=\"24px\"viewBox=\"0 0 24 24\"\n",
              "       width=\"24px\">\n",
              "    <path d=\"M0 0h24v24H0V0z\" fill=\"none\"/>\n",
              "    <path d=\"M18.56 5.44l.94 2.06.94-2.06 2.06-.94-2.06-.94-.94-2.06-.94 2.06-2.06.94zm-11 1L8.5 8.5l.94-2.06 2.06-.94-2.06-.94L8.5 2.5l-.94 2.06-2.06.94zm10 10l.94 2.06.94-2.06 2.06-.94-2.06-.94-.94-2.06-.94 2.06-2.06.94z\"/><path d=\"M17.41 7.96l-1.37-1.37c-.4-.4-.92-.59-1.43-.59-.52 0-1.04.2-1.43.59L10.3 9.45l-7.72 7.72c-.78.78-.78 2.05 0 2.83L4 21.41c.39.39.9.59 1.41.59.51 0 1.02-.2 1.41-.59l7.78-7.78 2.81-2.81c.8-.78.8-2.07 0-2.86zM5.41 20L4 18.59l7.72-7.72 1.47 1.35L5.41 20z\"/>\n",
              "  </svg>\n",
              "      </button>\n",
              "      \n",
              "  <style>\n",
              "    .colab-df-container {\n",
              "      display:flex;\n",
              "      flex-wrap:wrap;\n",
              "      gap: 12px;\n",
              "    }\n",
              "\n",
              "    .colab-df-convert {\n",
              "      background-color: #E8F0FE;\n",
              "      border: none;\n",
              "      border-radius: 50%;\n",
              "      cursor: pointer;\n",
              "      display: none;\n",
              "      fill: #1967D2;\n",
              "      height: 32px;\n",
              "      padding: 0 0 0 0;\n",
              "      width: 32px;\n",
              "    }\n",
              "\n",
              "    .colab-df-convert:hover {\n",
              "      background-color: #E2EBFA;\n",
              "      box-shadow: 0px 1px 2px rgba(60, 64, 67, 0.3), 0px 1px 3px 1px rgba(60, 64, 67, 0.15);\n",
              "      fill: #174EA6;\n",
              "    }\n",
              "\n",
              "    [theme=dark] .colab-df-convert {\n",
              "      background-color: #3B4455;\n",
              "      fill: #D2E3FC;\n",
              "    }\n",
              "\n",
              "    [theme=dark] .colab-df-convert:hover {\n",
              "      background-color: #434B5C;\n",
              "      box-shadow: 0px 1px 3px 1px rgba(0, 0, 0, 0.15);\n",
              "      filter: drop-shadow(0px 1px 2px rgba(0, 0, 0, 0.3));\n",
              "      fill: #FFFFFF;\n",
              "    }\n",
              "  </style>\n",
              "\n",
              "      <script>\n",
              "        const buttonEl =\n",
              "          document.querySelector('#df-29ee7e30-775a-40b8-8425-d972fe4fcff9 button.colab-df-convert');\n",
              "        buttonEl.style.display =\n",
              "          google.colab.kernel.accessAllowed ? 'block' : 'none';\n",
              "\n",
              "        async function convertToInteractive(key) {\n",
              "          const element = document.querySelector('#df-29ee7e30-775a-40b8-8425-d972fe4fcff9');\n",
              "          const dataTable =\n",
              "            await google.colab.kernel.invokeFunction('convertToInteractive',\n",
              "                                                     [key], {});\n",
              "          if (!dataTable) return;\n",
              "\n",
              "          const docLinkHtml = 'Like what you see? Visit the ' +\n",
              "            '<a target=\"_blank\" href=https://colab.research.google.com/notebooks/data_table.ipynb>data table notebook</a>'\n",
              "            + ' to learn more about interactive tables.';\n",
              "          element.innerHTML = '';\n",
              "          dataTable['output_type'] = 'display_data';\n",
              "          await google.colab.output.renderOutput(dataTable, element);\n",
              "          const docLink = document.createElement('div');\n",
              "          docLink.innerHTML = docLinkHtml;\n",
              "          element.appendChild(docLink);\n",
              "        }\n",
              "      </script>\n",
              "    </div>\n",
              "  </div>\n",
              "  "
            ]
          },
          "metadata": {},
          "execution_count": 38
        }
      ]
    },
    {
      "cell_type": "code",
      "source": [
        "#finding count, sum, mean and median based on Email_Campaign_Type\n",
        "email_data.groupby('Email_Campaign_Type')[num_feature].agg(['count','sum','mean','median']).T\n",
        "     "
      ],
      "metadata": {
        "colab": {
          "base_uri": "https://localhost:8080/",
          "height": 676
        },
        "id": "8KPQ4cPhKlLP",
        "outputId": "82388229-1593-413d-b457-be3d4b9b4858"
      },
      "execution_count": 40,
      "outputs": [
        {
          "output_type": "execute_result",
          "data": {
            "text/plain": [
              "Email_Campaign_Type                           1             2             3\n",
              "Subject_Hotness_Score     count      736.000000  4.827300e+04  1.934400e+04\n",
              "                          sum        111.700000  7.186960e+04  2.898100e+03\n",
              "                          mean         0.151766  1.488816e+00  1.498191e-01\n",
              "                          median       0.200000  1.400000e+00  1.000000e-01\n",
              "Total_Past_Communications count      657.000000  4.347500e+04  1.739600e+04\n",
              "                          sum          0.000000  1.165934e+06  6.142710e+05\n",
              "                          mean         0.000000  2.681849e+01  3.531105e+01\n",
              "                          median       0.000000  2.600000e+01  3.600000e+01\n",
              "Total_Links               count      706.000000  4.672700e+04  1.871900e+04\n",
              "                          sum        706.000000  4.997010e+05  1.895270e+05\n",
              "                          mean         1.000000  1.069405e+01  1.012485e+01\n",
              "                          median       1.000000  9.000000e+00  9.000000e+00\n",
              "Total_Images              count      722.000000  4.710600e+04  1.884800e+04\n",
              "                          sum          0.000000  1.738800e+05  6.286500e+04\n",
              "                          mean         0.000000  3.691250e+00  3.335367e+00\n",
              "                          median       0.000000  0.000000e+00  0.000000e+00\n",
              "Word_Count                count      736.000000  4.827300e+04  1.934400e+04\n",
              "                          sum     482278.000000  3.330046e+07  1.405970e+07\n",
              "                          mean       655.269022  6.898360e+02  7.268250e+02\n",
              "                          median     662.000000  6.840000e+02  7.210000e+02"
            ],
            "text/html": [
              "\n",
              "  <div id=\"df-5d58cc0a-e502-4880-98ac-f19fb041f6ec\">\n",
              "    <div class=\"colab-df-container\">\n",
              "      <div>\n",
              "<style scoped>\n",
              "    .dataframe tbody tr th:only-of-type {\n",
              "        vertical-align: middle;\n",
              "    }\n",
              "\n",
              "    .dataframe tbody tr th {\n",
              "        vertical-align: top;\n",
              "    }\n",
              "\n",
              "    .dataframe thead th {\n",
              "        text-align: right;\n",
              "    }\n",
              "</style>\n",
              "<table border=\"1\" class=\"dataframe\">\n",
              "  <thead>\n",
              "    <tr style=\"text-align: right;\">\n",
              "      <th></th>\n",
              "      <th>Email_Campaign_Type</th>\n",
              "      <th>1</th>\n",
              "      <th>2</th>\n",
              "      <th>3</th>\n",
              "    </tr>\n",
              "  </thead>\n",
              "  <tbody>\n",
              "    <tr>\n",
              "      <th rowspan=\"4\" valign=\"top\">Subject_Hotness_Score</th>\n",
              "      <th>count</th>\n",
              "      <td>736.000000</td>\n",
              "      <td>4.827300e+04</td>\n",
              "      <td>1.934400e+04</td>\n",
              "    </tr>\n",
              "    <tr>\n",
              "      <th>sum</th>\n",
              "      <td>111.700000</td>\n",
              "      <td>7.186960e+04</td>\n",
              "      <td>2.898100e+03</td>\n",
              "    </tr>\n",
              "    <tr>\n",
              "      <th>mean</th>\n",
              "      <td>0.151766</td>\n",
              "      <td>1.488816e+00</td>\n",
              "      <td>1.498191e-01</td>\n",
              "    </tr>\n",
              "    <tr>\n",
              "      <th>median</th>\n",
              "      <td>0.200000</td>\n",
              "      <td>1.400000e+00</td>\n",
              "      <td>1.000000e-01</td>\n",
              "    </tr>\n",
              "    <tr>\n",
              "      <th rowspan=\"4\" valign=\"top\">Total_Past_Communications</th>\n",
              "      <th>count</th>\n",
              "      <td>657.000000</td>\n",
              "      <td>4.347500e+04</td>\n",
              "      <td>1.739600e+04</td>\n",
              "    </tr>\n",
              "    <tr>\n",
              "      <th>sum</th>\n",
              "      <td>0.000000</td>\n",
              "      <td>1.165934e+06</td>\n",
              "      <td>6.142710e+05</td>\n",
              "    </tr>\n",
              "    <tr>\n",
              "      <th>mean</th>\n",
              "      <td>0.000000</td>\n",
              "      <td>2.681849e+01</td>\n",
              "      <td>3.531105e+01</td>\n",
              "    </tr>\n",
              "    <tr>\n",
              "      <th>median</th>\n",
              "      <td>0.000000</td>\n",
              "      <td>2.600000e+01</td>\n",
              "      <td>3.600000e+01</td>\n",
              "    </tr>\n",
              "    <tr>\n",
              "      <th rowspan=\"4\" valign=\"top\">Total_Links</th>\n",
              "      <th>count</th>\n",
              "      <td>706.000000</td>\n",
              "      <td>4.672700e+04</td>\n",
              "      <td>1.871900e+04</td>\n",
              "    </tr>\n",
              "    <tr>\n",
              "      <th>sum</th>\n",
              "      <td>706.000000</td>\n",
              "      <td>4.997010e+05</td>\n",
              "      <td>1.895270e+05</td>\n",
              "    </tr>\n",
              "    <tr>\n",
              "      <th>mean</th>\n",
              "      <td>1.000000</td>\n",
              "      <td>1.069405e+01</td>\n",
              "      <td>1.012485e+01</td>\n",
              "    </tr>\n",
              "    <tr>\n",
              "      <th>median</th>\n",
              "      <td>1.000000</td>\n",
              "      <td>9.000000e+00</td>\n",
              "      <td>9.000000e+00</td>\n",
              "    </tr>\n",
              "    <tr>\n",
              "      <th rowspan=\"4\" valign=\"top\">Total_Images</th>\n",
              "      <th>count</th>\n",
              "      <td>722.000000</td>\n",
              "      <td>4.710600e+04</td>\n",
              "      <td>1.884800e+04</td>\n",
              "    </tr>\n",
              "    <tr>\n",
              "      <th>sum</th>\n",
              "      <td>0.000000</td>\n",
              "      <td>1.738800e+05</td>\n",
              "      <td>6.286500e+04</td>\n",
              "    </tr>\n",
              "    <tr>\n",
              "      <th>mean</th>\n",
              "      <td>0.000000</td>\n",
              "      <td>3.691250e+00</td>\n",
              "      <td>3.335367e+00</td>\n",
              "    </tr>\n",
              "    <tr>\n",
              "      <th>median</th>\n",
              "      <td>0.000000</td>\n",
              "      <td>0.000000e+00</td>\n",
              "      <td>0.000000e+00</td>\n",
              "    </tr>\n",
              "    <tr>\n",
              "      <th rowspan=\"4\" valign=\"top\">Word_Count</th>\n",
              "      <th>count</th>\n",
              "      <td>736.000000</td>\n",
              "      <td>4.827300e+04</td>\n",
              "      <td>1.934400e+04</td>\n",
              "    </tr>\n",
              "    <tr>\n",
              "      <th>sum</th>\n",
              "      <td>482278.000000</td>\n",
              "      <td>3.330046e+07</td>\n",
              "      <td>1.405970e+07</td>\n",
              "    </tr>\n",
              "    <tr>\n",
              "      <th>mean</th>\n",
              "      <td>655.269022</td>\n",
              "      <td>6.898360e+02</td>\n",
              "      <td>7.268250e+02</td>\n",
              "    </tr>\n",
              "    <tr>\n",
              "      <th>median</th>\n",
              "      <td>662.000000</td>\n",
              "      <td>6.840000e+02</td>\n",
              "      <td>7.210000e+02</td>\n",
              "    </tr>\n",
              "  </tbody>\n",
              "</table>\n",
              "</div>\n",
              "      <button class=\"colab-df-convert\" onclick=\"convertToInteractive('df-5d58cc0a-e502-4880-98ac-f19fb041f6ec')\"\n",
              "              title=\"Convert this dataframe to an interactive table.\"\n",
              "              style=\"display:none;\">\n",
              "        \n",
              "  <svg xmlns=\"http://www.w3.org/2000/svg\" height=\"24px\"viewBox=\"0 0 24 24\"\n",
              "       width=\"24px\">\n",
              "    <path d=\"M0 0h24v24H0V0z\" fill=\"none\"/>\n",
              "    <path d=\"M18.56 5.44l.94 2.06.94-2.06 2.06-.94-2.06-.94-.94-2.06-.94 2.06-2.06.94zm-11 1L8.5 8.5l.94-2.06 2.06-.94-2.06-.94L8.5 2.5l-.94 2.06-2.06.94zm10 10l.94 2.06.94-2.06 2.06-.94-2.06-.94-.94-2.06-.94 2.06-2.06.94z\"/><path d=\"M17.41 7.96l-1.37-1.37c-.4-.4-.92-.59-1.43-.59-.52 0-1.04.2-1.43.59L10.3 9.45l-7.72 7.72c-.78.78-.78 2.05 0 2.83L4 21.41c.39.39.9.59 1.41.59.51 0 1.02-.2 1.41-.59l7.78-7.78 2.81-2.81c.8-.78.8-2.07 0-2.86zM5.41 20L4 18.59l7.72-7.72 1.47 1.35L5.41 20z\"/>\n",
              "  </svg>\n",
              "      </button>\n",
              "      \n",
              "  <style>\n",
              "    .colab-df-container {\n",
              "      display:flex;\n",
              "      flex-wrap:wrap;\n",
              "      gap: 12px;\n",
              "    }\n",
              "\n",
              "    .colab-df-convert {\n",
              "      background-color: #E8F0FE;\n",
              "      border: none;\n",
              "      border-radius: 50%;\n",
              "      cursor: pointer;\n",
              "      display: none;\n",
              "      fill: #1967D2;\n",
              "      height: 32px;\n",
              "      padding: 0 0 0 0;\n",
              "      width: 32px;\n",
              "    }\n",
              "\n",
              "    .colab-df-convert:hover {\n",
              "      background-color: #E2EBFA;\n",
              "      box-shadow: 0px 1px 2px rgba(60, 64, 67, 0.3), 0px 1px 3px 1px rgba(60, 64, 67, 0.15);\n",
              "      fill: #174EA6;\n",
              "    }\n",
              "\n",
              "    [theme=dark] .colab-df-convert {\n",
              "      background-color: #3B4455;\n",
              "      fill: #D2E3FC;\n",
              "    }\n",
              "\n",
              "    [theme=dark] .colab-df-convert:hover {\n",
              "      background-color: #434B5C;\n",
              "      box-shadow: 0px 1px 3px 1px rgba(0, 0, 0, 0.15);\n",
              "      filter: drop-shadow(0px 1px 2px rgba(0, 0, 0, 0.3));\n",
              "      fill: #FFFFFF;\n",
              "    }\n",
              "  </style>\n",
              "\n",
              "      <script>\n",
              "        const buttonEl =\n",
              "          document.querySelector('#df-5d58cc0a-e502-4880-98ac-f19fb041f6ec button.colab-df-convert');\n",
              "        buttonEl.style.display =\n",
              "          google.colab.kernel.accessAllowed ? 'block' : 'none';\n",
              "\n",
              "        async function convertToInteractive(key) {\n",
              "          const element = document.querySelector('#df-5d58cc0a-e502-4880-98ac-f19fb041f6ec');\n",
              "          const dataTable =\n",
              "            await google.colab.kernel.invokeFunction('convertToInteractive',\n",
              "                                                     [key], {});\n",
              "          if (!dataTable) return;\n",
              "\n",
              "          const docLinkHtml = 'Like what you see? Visit the ' +\n",
              "            '<a target=\"_blank\" href=https://colab.research.google.com/notebooks/data_table.ipynb>data table notebook</a>'\n",
              "            + ' to learn more about interactive tables.';\n",
              "          element.innerHTML = '';\n",
              "          dataTable['output_type'] = 'display_data';\n",
              "          await google.colab.output.renderOutput(dataTable, element);\n",
              "          const docLink = document.createElement('div');\n",
              "          docLink.innerHTML = docLinkHtml;\n",
              "          element.appendChild(docLink);\n",
              "        }\n",
              "      </script>\n",
              "    </div>\n",
              "  </div>\n",
              "  "
            ]
          },
          "metadata": {},
          "execution_count": 40
        }
      ]
    },
    {
      "cell_type": "code",
      "source": [
        "#finding count, sum, mean and median based on Time_Email_sent_Category\n",
        "email_data.groupby('Time_Email_sent_Category')[num_feature].agg(['count','sum','mean','median']).T"
      ],
      "metadata": {
        "colab": {
          "base_uri": "https://localhost:8080/",
          "height": 676
        },
        "id": "1mlhWvxaK2S7",
        "outputId": "29a40c54-6ff7-4217-b908-7d625b77bfd1"
      },
      "execution_count": 41,
      "outputs": [
        {
          "output_type": "execute_result",
          "data": {
            "text/plain": [
              "Time_Email_sent_Category                     1             2             3\n",
              "Subject_Hotness_Score     count   1.363600e+04  4.112900e+04  1.358800e+04\n",
              "                          sum     1.518700e+04  4.471570e+04  1.497670e+04\n",
              "                          mean    1.113743e+00  1.087206e+00  1.102200e+00\n",
              "                          median  9.000000e-01  8.000000e-01  8.000000e-01\n",
              "Total_Past_Communications count   1.224400e+04  3.704600e+04  1.223800e+04\n",
              "                          sum     3.533750e+05  1.074034e+06  3.527960e+05\n",
              "                          mean    2.886107e+01  2.899190e+01  2.882791e+01\n",
              "                          median  2.800000e+01  2.800000e+01  2.800000e+01\n",
              "Total_Links               count   1.319100e+04  3.979800e+04  1.316300e+04\n",
              "                          sum     1.384270e+05  4.139040e+05  1.376030e+05\n",
              "                          mean    1.049405e+01  1.040012e+01  1.045377e+01\n",
              "                          median  9.000000e+00  9.000000e+00  9.000000e+00\n",
              "Total_Images              count   1.330600e+04  4.011800e+04  1.325200e+04\n",
              "                          sum     4.736100e+04  1.421880e+05  4.719600e+04\n",
              "                          mean    3.559372e+00  3.544244e+00  3.561425e+00\n",
              "                          median  0.000000e+00  0.000000e+00  0.000000e+00\n",
              "Word_Count                count   1.363600e+04  4.112900e+04  1.358800e+04\n",
              "                          sum     9.522852e+06  2.883628e+07  9.483300e+06\n",
              "                          mean    6.983611e+02  7.011180e+02  6.979173e+02\n",
              "                          median  6.940000e+02  6.940000e+02  6.940000e+02"
            ],
            "text/html": [
              "\n",
              "  <div id=\"df-8428e841-c6e8-4c68-a4ee-8881b5f76718\">\n",
              "    <div class=\"colab-df-container\">\n",
              "      <div>\n",
              "<style scoped>\n",
              "    .dataframe tbody tr th:only-of-type {\n",
              "        vertical-align: middle;\n",
              "    }\n",
              "\n",
              "    .dataframe tbody tr th {\n",
              "        vertical-align: top;\n",
              "    }\n",
              "\n",
              "    .dataframe thead th {\n",
              "        text-align: right;\n",
              "    }\n",
              "</style>\n",
              "<table border=\"1\" class=\"dataframe\">\n",
              "  <thead>\n",
              "    <tr style=\"text-align: right;\">\n",
              "      <th></th>\n",
              "      <th>Time_Email_sent_Category</th>\n",
              "      <th>1</th>\n",
              "      <th>2</th>\n",
              "      <th>3</th>\n",
              "    </tr>\n",
              "  </thead>\n",
              "  <tbody>\n",
              "    <tr>\n",
              "      <th rowspan=\"4\" valign=\"top\">Subject_Hotness_Score</th>\n",
              "      <th>count</th>\n",
              "      <td>1.363600e+04</td>\n",
              "      <td>4.112900e+04</td>\n",
              "      <td>1.358800e+04</td>\n",
              "    </tr>\n",
              "    <tr>\n",
              "      <th>sum</th>\n",
              "      <td>1.518700e+04</td>\n",
              "      <td>4.471570e+04</td>\n",
              "      <td>1.497670e+04</td>\n",
              "    </tr>\n",
              "    <tr>\n",
              "      <th>mean</th>\n",
              "      <td>1.113743e+00</td>\n",
              "      <td>1.087206e+00</td>\n",
              "      <td>1.102200e+00</td>\n",
              "    </tr>\n",
              "    <tr>\n",
              "      <th>median</th>\n",
              "      <td>9.000000e-01</td>\n",
              "      <td>8.000000e-01</td>\n",
              "      <td>8.000000e-01</td>\n",
              "    </tr>\n",
              "    <tr>\n",
              "      <th rowspan=\"4\" valign=\"top\">Total_Past_Communications</th>\n",
              "      <th>count</th>\n",
              "      <td>1.224400e+04</td>\n",
              "      <td>3.704600e+04</td>\n",
              "      <td>1.223800e+04</td>\n",
              "    </tr>\n",
              "    <tr>\n",
              "      <th>sum</th>\n",
              "      <td>3.533750e+05</td>\n",
              "      <td>1.074034e+06</td>\n",
              "      <td>3.527960e+05</td>\n",
              "    </tr>\n",
              "    <tr>\n",
              "      <th>mean</th>\n",
              "      <td>2.886107e+01</td>\n",
              "      <td>2.899190e+01</td>\n",
              "      <td>2.882791e+01</td>\n",
              "    </tr>\n",
              "    <tr>\n",
              "      <th>median</th>\n",
              "      <td>2.800000e+01</td>\n",
              "      <td>2.800000e+01</td>\n",
              "      <td>2.800000e+01</td>\n",
              "    </tr>\n",
              "    <tr>\n",
              "      <th rowspan=\"4\" valign=\"top\">Total_Links</th>\n",
              "      <th>count</th>\n",
              "      <td>1.319100e+04</td>\n",
              "      <td>3.979800e+04</td>\n",
              "      <td>1.316300e+04</td>\n",
              "    </tr>\n",
              "    <tr>\n",
              "      <th>sum</th>\n",
              "      <td>1.384270e+05</td>\n",
              "      <td>4.139040e+05</td>\n",
              "      <td>1.376030e+05</td>\n",
              "    </tr>\n",
              "    <tr>\n",
              "      <th>mean</th>\n",
              "      <td>1.049405e+01</td>\n",
              "      <td>1.040012e+01</td>\n",
              "      <td>1.045377e+01</td>\n",
              "    </tr>\n",
              "    <tr>\n",
              "      <th>median</th>\n",
              "      <td>9.000000e+00</td>\n",
              "      <td>9.000000e+00</td>\n",
              "      <td>9.000000e+00</td>\n",
              "    </tr>\n",
              "    <tr>\n",
              "      <th rowspan=\"4\" valign=\"top\">Total_Images</th>\n",
              "      <th>count</th>\n",
              "      <td>1.330600e+04</td>\n",
              "      <td>4.011800e+04</td>\n",
              "      <td>1.325200e+04</td>\n",
              "    </tr>\n",
              "    <tr>\n",
              "      <th>sum</th>\n",
              "      <td>4.736100e+04</td>\n",
              "      <td>1.421880e+05</td>\n",
              "      <td>4.719600e+04</td>\n",
              "    </tr>\n",
              "    <tr>\n",
              "      <th>mean</th>\n",
              "      <td>3.559372e+00</td>\n",
              "      <td>3.544244e+00</td>\n",
              "      <td>3.561425e+00</td>\n",
              "    </tr>\n",
              "    <tr>\n",
              "      <th>median</th>\n",
              "      <td>0.000000e+00</td>\n",
              "      <td>0.000000e+00</td>\n",
              "      <td>0.000000e+00</td>\n",
              "    </tr>\n",
              "    <tr>\n",
              "      <th rowspan=\"4\" valign=\"top\">Word_Count</th>\n",
              "      <th>count</th>\n",
              "      <td>1.363600e+04</td>\n",
              "      <td>4.112900e+04</td>\n",
              "      <td>1.358800e+04</td>\n",
              "    </tr>\n",
              "    <tr>\n",
              "      <th>sum</th>\n",
              "      <td>9.522852e+06</td>\n",
              "      <td>2.883628e+07</td>\n",
              "      <td>9.483300e+06</td>\n",
              "    </tr>\n",
              "    <tr>\n",
              "      <th>mean</th>\n",
              "      <td>6.983611e+02</td>\n",
              "      <td>7.011180e+02</td>\n",
              "      <td>6.979173e+02</td>\n",
              "    </tr>\n",
              "    <tr>\n",
              "      <th>median</th>\n",
              "      <td>6.940000e+02</td>\n",
              "      <td>6.940000e+02</td>\n",
              "      <td>6.940000e+02</td>\n",
              "    </tr>\n",
              "  </tbody>\n",
              "</table>\n",
              "</div>\n",
              "      <button class=\"colab-df-convert\" onclick=\"convertToInteractive('df-8428e841-c6e8-4c68-a4ee-8881b5f76718')\"\n",
              "              title=\"Convert this dataframe to an interactive table.\"\n",
              "              style=\"display:none;\">\n",
              "        \n",
              "  <svg xmlns=\"http://www.w3.org/2000/svg\" height=\"24px\"viewBox=\"0 0 24 24\"\n",
              "       width=\"24px\">\n",
              "    <path d=\"M0 0h24v24H0V0z\" fill=\"none\"/>\n",
              "    <path d=\"M18.56 5.44l.94 2.06.94-2.06 2.06-.94-2.06-.94-.94-2.06-.94 2.06-2.06.94zm-11 1L8.5 8.5l.94-2.06 2.06-.94-2.06-.94L8.5 2.5l-.94 2.06-2.06.94zm10 10l.94 2.06.94-2.06 2.06-.94-2.06-.94-.94-2.06-.94 2.06-2.06.94z\"/><path d=\"M17.41 7.96l-1.37-1.37c-.4-.4-.92-.59-1.43-.59-.52 0-1.04.2-1.43.59L10.3 9.45l-7.72 7.72c-.78.78-.78 2.05 0 2.83L4 21.41c.39.39.9.59 1.41.59.51 0 1.02-.2 1.41-.59l7.78-7.78 2.81-2.81c.8-.78.8-2.07 0-2.86zM5.41 20L4 18.59l7.72-7.72 1.47 1.35L5.41 20z\"/>\n",
              "  </svg>\n",
              "      </button>\n",
              "      \n",
              "  <style>\n",
              "    .colab-df-container {\n",
              "      display:flex;\n",
              "      flex-wrap:wrap;\n",
              "      gap: 12px;\n",
              "    }\n",
              "\n",
              "    .colab-df-convert {\n",
              "      background-color: #E8F0FE;\n",
              "      border: none;\n",
              "      border-radius: 50%;\n",
              "      cursor: pointer;\n",
              "      display: none;\n",
              "      fill: #1967D2;\n",
              "      height: 32px;\n",
              "      padding: 0 0 0 0;\n",
              "      width: 32px;\n",
              "    }\n",
              "\n",
              "    .colab-df-convert:hover {\n",
              "      background-color: #E2EBFA;\n",
              "      box-shadow: 0px 1px 2px rgba(60, 64, 67, 0.3), 0px 1px 3px 1px rgba(60, 64, 67, 0.15);\n",
              "      fill: #174EA6;\n",
              "    }\n",
              "\n",
              "    [theme=dark] .colab-df-convert {\n",
              "      background-color: #3B4455;\n",
              "      fill: #D2E3FC;\n",
              "    }\n",
              "\n",
              "    [theme=dark] .colab-df-convert:hover {\n",
              "      background-color: #434B5C;\n",
              "      box-shadow: 0px 1px 3px 1px rgba(0, 0, 0, 0.15);\n",
              "      filter: drop-shadow(0px 1px 2px rgba(0, 0, 0, 0.3));\n",
              "      fill: #FFFFFF;\n",
              "    }\n",
              "  </style>\n",
              "\n",
              "      <script>\n",
              "        const buttonEl =\n",
              "          document.querySelector('#df-8428e841-c6e8-4c68-a4ee-8881b5f76718 button.colab-df-convert');\n",
              "        buttonEl.style.display =\n",
              "          google.colab.kernel.accessAllowed ? 'block' : 'none';\n",
              "\n",
              "        async function convertToInteractive(key) {\n",
              "          const element = document.querySelector('#df-8428e841-c6e8-4c68-a4ee-8881b5f76718');\n",
              "          const dataTable =\n",
              "            await google.colab.kernel.invokeFunction('convertToInteractive',\n",
              "                                                     [key], {});\n",
              "          if (!dataTable) return;\n",
              "\n",
              "          const docLinkHtml = 'Like what you see? Visit the ' +\n",
              "            '<a target=\"_blank\" href=https://colab.research.google.com/notebooks/data_table.ipynb>data table notebook</a>'\n",
              "            + ' to learn more about interactive tables.';\n",
              "          element.innerHTML = '';\n",
              "          dataTable['output_type'] = 'display_data';\n",
              "          await google.colab.output.renderOutput(dataTable, element);\n",
              "          const docLink = document.createElement('div');\n",
              "          docLink.innerHTML = docLinkHtml;\n",
              "          element.appendChild(docLink);\n",
              "        }\n",
              "      </script>\n",
              "    </div>\n",
              "  </div>\n",
              "  "
            ]
          },
          "metadata": {},
          "execution_count": 41
        }
      ]
    },
    {
      "cell_type": "code",
      "source": [
        "#Analyzing mean median and sum based on Email status with respect to numerical features\n",
        "email_data.groupby('Email_Status')[num_feature].agg(['sum','mean','median']).T"
      ],
      "metadata": {
        "colab": {
          "base_uri": "https://localhost:8080/",
          "height": 519
        },
        "id": "vkSGdkFrLCaX",
        "outputId": "bcb1edaa-93d8-4947-e9f6-fbef431455fc"
      },
      "execution_count": 42,
      "outputs": [
        {
          "output_type": "execute_result",
          "data": {
            "text/plain": [
              "Email_Status                                 0             1             2\n",
              "Subject_Hotness_Score     sum     6.370730e+04  1.001810e+04  1.154000e+03\n",
              "                          mean    1.159558e+00  9.075188e-01  4.863043e-01\n",
              "                          median  1.000000e+00  3.000000e-01  2.000000e-01\n",
              "Total_Past_Communications sum     1.355183e+06  3.452040e+05  7.981800e+04\n",
              "                          mean    2.740013e+01  3.470782e+01  3.759680e+01\n",
              "                          median  2.600000e+01  3.600000e+01  4.000000e+01\n",
              "Total_Links               sum     5.606030e+05  1.052940e+05  2.403700e+04\n",
              "                          mean    1.054320e+01  9.854375e+00  1.047364e+01\n",
              "                          median  9.000000e+00  9.000000e+00  9.000000e+00\n",
              "Total_Images              sum     1.939020e+05  3.429600e+04  8.547000e+03\n",
              "                          mean    3.617575e+00  3.187361e+00  3.690415e+00\n",
              "                          median  0.000000e+00  0.000000e+00  0.000000e+00\n",
              "Word_Count                sum     3.984633e+07  6.523382e+06  1.472720e+06\n",
              "                          mean    7.252568e+02  5.909396e+02  6.206153e+02\n",
              "                          median  7.130000e+02  5.780000e+02  6.100000e+02"
            ],
            "text/html": [
              "\n",
              "  <div id=\"df-3f10a76c-cf62-4b5f-9373-fb3bd77f04a9\">\n",
              "    <div class=\"colab-df-container\">\n",
              "      <div>\n",
              "<style scoped>\n",
              "    .dataframe tbody tr th:only-of-type {\n",
              "        vertical-align: middle;\n",
              "    }\n",
              "\n",
              "    .dataframe tbody tr th {\n",
              "        vertical-align: top;\n",
              "    }\n",
              "\n",
              "    .dataframe thead th {\n",
              "        text-align: right;\n",
              "    }\n",
              "</style>\n",
              "<table border=\"1\" class=\"dataframe\">\n",
              "  <thead>\n",
              "    <tr style=\"text-align: right;\">\n",
              "      <th></th>\n",
              "      <th>Email_Status</th>\n",
              "      <th>0</th>\n",
              "      <th>1</th>\n",
              "      <th>2</th>\n",
              "    </tr>\n",
              "  </thead>\n",
              "  <tbody>\n",
              "    <tr>\n",
              "      <th rowspan=\"3\" valign=\"top\">Subject_Hotness_Score</th>\n",
              "      <th>sum</th>\n",
              "      <td>6.370730e+04</td>\n",
              "      <td>1.001810e+04</td>\n",
              "      <td>1.154000e+03</td>\n",
              "    </tr>\n",
              "    <tr>\n",
              "      <th>mean</th>\n",
              "      <td>1.159558e+00</td>\n",
              "      <td>9.075188e-01</td>\n",
              "      <td>4.863043e-01</td>\n",
              "    </tr>\n",
              "    <tr>\n",
              "      <th>median</th>\n",
              "      <td>1.000000e+00</td>\n",
              "      <td>3.000000e-01</td>\n",
              "      <td>2.000000e-01</td>\n",
              "    </tr>\n",
              "    <tr>\n",
              "      <th rowspan=\"3\" valign=\"top\">Total_Past_Communications</th>\n",
              "      <th>sum</th>\n",
              "      <td>1.355183e+06</td>\n",
              "      <td>3.452040e+05</td>\n",
              "      <td>7.981800e+04</td>\n",
              "    </tr>\n",
              "    <tr>\n",
              "      <th>mean</th>\n",
              "      <td>2.740013e+01</td>\n",
              "      <td>3.470782e+01</td>\n",
              "      <td>3.759680e+01</td>\n",
              "    </tr>\n",
              "    <tr>\n",
              "      <th>median</th>\n",
              "      <td>2.600000e+01</td>\n",
              "      <td>3.600000e+01</td>\n",
              "      <td>4.000000e+01</td>\n",
              "    </tr>\n",
              "    <tr>\n",
              "      <th rowspan=\"3\" valign=\"top\">Total_Links</th>\n",
              "      <th>sum</th>\n",
              "      <td>5.606030e+05</td>\n",
              "      <td>1.052940e+05</td>\n",
              "      <td>2.403700e+04</td>\n",
              "    </tr>\n",
              "    <tr>\n",
              "      <th>mean</th>\n",
              "      <td>1.054320e+01</td>\n",
              "      <td>9.854375e+00</td>\n",
              "      <td>1.047364e+01</td>\n",
              "    </tr>\n",
              "    <tr>\n",
              "      <th>median</th>\n",
              "      <td>9.000000e+00</td>\n",
              "      <td>9.000000e+00</td>\n",
              "      <td>9.000000e+00</td>\n",
              "    </tr>\n",
              "    <tr>\n",
              "      <th rowspan=\"3\" valign=\"top\">Total_Images</th>\n",
              "      <th>sum</th>\n",
              "      <td>1.939020e+05</td>\n",
              "      <td>3.429600e+04</td>\n",
              "      <td>8.547000e+03</td>\n",
              "    </tr>\n",
              "    <tr>\n",
              "      <th>mean</th>\n",
              "      <td>3.617575e+00</td>\n",
              "      <td>3.187361e+00</td>\n",
              "      <td>3.690415e+00</td>\n",
              "    </tr>\n",
              "    <tr>\n",
              "      <th>median</th>\n",
              "      <td>0.000000e+00</td>\n",
              "      <td>0.000000e+00</td>\n",
              "      <td>0.000000e+00</td>\n",
              "    </tr>\n",
              "    <tr>\n",
              "      <th rowspan=\"3\" valign=\"top\">Word_Count</th>\n",
              "      <th>sum</th>\n",
              "      <td>3.984633e+07</td>\n",
              "      <td>6.523382e+06</td>\n",
              "      <td>1.472720e+06</td>\n",
              "    </tr>\n",
              "    <tr>\n",
              "      <th>mean</th>\n",
              "      <td>7.252568e+02</td>\n",
              "      <td>5.909396e+02</td>\n",
              "      <td>6.206153e+02</td>\n",
              "    </tr>\n",
              "    <tr>\n",
              "      <th>median</th>\n",
              "      <td>7.130000e+02</td>\n",
              "      <td>5.780000e+02</td>\n",
              "      <td>6.100000e+02</td>\n",
              "    </tr>\n",
              "  </tbody>\n",
              "</table>\n",
              "</div>\n",
              "      <button class=\"colab-df-convert\" onclick=\"convertToInteractive('df-3f10a76c-cf62-4b5f-9373-fb3bd77f04a9')\"\n",
              "              title=\"Convert this dataframe to an interactive table.\"\n",
              "              style=\"display:none;\">\n",
              "        \n",
              "  <svg xmlns=\"http://www.w3.org/2000/svg\" height=\"24px\"viewBox=\"0 0 24 24\"\n",
              "       width=\"24px\">\n",
              "    <path d=\"M0 0h24v24H0V0z\" fill=\"none\"/>\n",
              "    <path d=\"M18.56 5.44l.94 2.06.94-2.06 2.06-.94-2.06-.94-.94-2.06-.94 2.06-2.06.94zm-11 1L8.5 8.5l.94-2.06 2.06-.94-2.06-.94L8.5 2.5l-.94 2.06-2.06.94zm10 10l.94 2.06.94-2.06 2.06-.94-2.06-.94-.94-2.06-.94 2.06-2.06.94z\"/><path d=\"M17.41 7.96l-1.37-1.37c-.4-.4-.92-.59-1.43-.59-.52 0-1.04.2-1.43.59L10.3 9.45l-7.72 7.72c-.78.78-.78 2.05 0 2.83L4 21.41c.39.39.9.59 1.41.59.51 0 1.02-.2 1.41-.59l7.78-7.78 2.81-2.81c.8-.78.8-2.07 0-2.86zM5.41 20L4 18.59l7.72-7.72 1.47 1.35L5.41 20z\"/>\n",
              "  </svg>\n",
              "      </button>\n",
              "      \n",
              "  <style>\n",
              "    .colab-df-container {\n",
              "      display:flex;\n",
              "      flex-wrap:wrap;\n",
              "      gap: 12px;\n",
              "    }\n",
              "\n",
              "    .colab-df-convert {\n",
              "      background-color: #E8F0FE;\n",
              "      border: none;\n",
              "      border-radius: 50%;\n",
              "      cursor: pointer;\n",
              "      display: none;\n",
              "      fill: #1967D2;\n",
              "      height: 32px;\n",
              "      padding: 0 0 0 0;\n",
              "      width: 32px;\n",
              "    }\n",
              "\n",
              "    .colab-df-convert:hover {\n",
              "      background-color: #E2EBFA;\n",
              "      box-shadow: 0px 1px 2px rgba(60, 64, 67, 0.3), 0px 1px 3px 1px rgba(60, 64, 67, 0.15);\n",
              "      fill: #174EA6;\n",
              "    }\n",
              "\n",
              "    [theme=dark] .colab-df-convert {\n",
              "      background-color: #3B4455;\n",
              "      fill: #D2E3FC;\n",
              "    }\n",
              "\n",
              "    [theme=dark] .colab-df-convert:hover {\n",
              "      background-color: #434B5C;\n",
              "      box-shadow: 0px 1px 3px 1px rgba(0, 0, 0, 0.15);\n",
              "      filter: drop-shadow(0px 1px 2px rgba(0, 0, 0, 0.3));\n",
              "      fill: #FFFFFF;\n",
              "    }\n",
              "  </style>\n",
              "\n",
              "      <script>\n",
              "        const buttonEl =\n",
              "          document.querySelector('#df-3f10a76c-cf62-4b5f-9373-fb3bd77f04a9 button.colab-df-convert');\n",
              "        buttonEl.style.display =\n",
              "          google.colab.kernel.accessAllowed ? 'block' : 'none';\n",
              "\n",
              "        async function convertToInteractive(key) {\n",
              "          const element = document.querySelector('#df-3f10a76c-cf62-4b5f-9373-fb3bd77f04a9');\n",
              "          const dataTable =\n",
              "            await google.colab.kernel.invokeFunction('convertToInteractive',\n",
              "                                                     [key], {});\n",
              "          if (!dataTable) return;\n",
              "\n",
              "          const docLinkHtml = 'Like what you see? Visit the ' +\n",
              "            '<a target=\"_blank\" href=https://colab.research.google.com/notebooks/data_table.ipynb>data table notebook</a>'\n",
              "            + ' to learn more about interactive tables.';\n",
              "          element.innerHTML = '';\n",
              "          dataTable['output_type'] = 'display_data';\n",
              "          await google.colab.output.renderOutput(dataTable, element);\n",
              "          const docLink = document.createElement('div');\n",
              "          docLink.innerHTML = docLinkHtml;\n",
              "          element.appendChild(docLink);\n",
              "        }\n",
              "      </script>\n",
              "    </div>\n",
              "  </div>\n",
              "  "
            ]
          },
          "metadata": {},
          "execution_count": 42
        }
      ]
    },
    {
      "cell_type": "code",
      "source": [
        "#Analyzing mean median sum and count based on Email Acknowledged with respect to different category\n",
        "for cat in cat_feature:\n",
        "  if (cat == 'Email_Status') | (cat == 'Email_ID'):\n",
        "    pass\n",
        "  else:\n",
        "    print(f'Email Acknowledged based on {cat} \\n')\n",
        "    print(email_data[email_data['Email_Status'] == 2].groupby(cat)[num_feature\n",
        "                            ].agg(['sum','mean','median']).T)\n",
        "    print('='*100)\n",
        "     "
      ],
      "metadata": {
        "colab": {
          "base_uri": "https://localhost:8080/"
        },
        "id": "fmdIhpSRMjLA",
        "outputId": "1486a23d-f6ed-433f-e4a8-f8080c65e10a"
      },
      "execution_count": 46,
      "outputs": [
        {
          "output_type": "stream",
          "name": "stdout",
          "text": [
            "Email Acknowledged based on Email_Type \n",
            "\n",
            "Email_Type                                    1              2\n",
            "Subject_Hotness_Score     sum        984.700000     169.300000\n",
            "                          mean         0.595345       0.235466\n",
            "                          median       0.300000       0.200000\n",
            "Total_Past_Communications sum      59238.000000   20580.000000\n",
            "                          mean        40.079838      31.906977\n",
            "                          median      41.000000      36.000000\n",
            "Total_Links               sum      17978.000000    6059.000000\n",
            "                          mean        11.222222       8.743146\n",
            "                          median      11.000000       8.000000\n",
            "Total_Images              sum       6612.000000    1935.000000\n",
            "                          mean         4.086527       2.772206\n",
            "                          median       1.000000       0.000000\n",
            "Word_Count                sum     990293.000000  482427.000000\n",
            "                          mean       598.726119     670.969402\n",
            "                          median     593.000000     655.000000\n",
            "====================================================================================================\n",
            "Email Acknowledged based on Email_Source_Type \n",
            "\n",
            "Email_Source_Type                             1              2\n",
            "Subject_Hotness_Score     sum        682.200000     471.800000\n",
            "                          mean         0.479747       0.496109\n",
            "                          median       0.200000       0.200000\n",
            "Total_Past_Communications sum      49758.000000   30060.000000\n",
            "                          mean        38.903831      35.616114\n",
            "                          median      41.000000      38.000000\n",
            "Total_Links               sum      13971.000000   10066.000000\n",
            "                          mean        10.197810      10.882162\n",
            "                          median       9.000000      11.000000\n",
            "Total_Images              sum       4834.000000    3713.000000\n",
            "                          mean         3.490253       3.988185\n",
            "                          median       0.000000       0.000000\n",
            "Word_Count                sum     860702.000000  612018.000000\n",
            "                          mean       605.275668     643.552050\n",
            "                          median     593.000000     649.000000\n",
            "====================================================================================================\n",
            "Email Acknowledged based on Customer_Location \n",
            "\n",
            "Customer_Location                            A             B              C  \\\n",
            "Subject_Hotness_Score     sum        33.800000     60.800000      94.800000   \n",
            "                          mean        0.689796      0.486400       0.442991   \n",
            "                          median      0.300000      0.200000       0.200000   \n",
            "Total_Past_Communications sum      1794.000000   4534.000000    7414.000000   \n",
            "                          mean       39.000000     38.752137      37.070000   \n",
            "                          median     43.000000     40.000000      40.000000   \n",
            "Total_Links               sum       477.000000   1250.000000    2133.000000   \n",
            "                          mean        9.937500     10.245902      10.205742   \n",
            "                          median     11.000000      9.000000       9.000000   \n",
            "Total_Images              sum       146.000000    467.000000     719.000000   \n",
            "                          mean        2.979592      3.827869       3.440191   \n",
            "                          median      0.000000      0.000000       0.000000   \n",
            "Word_Count                sum     26771.000000  75164.000000  135035.000000   \n",
            "                          mean      546.346939    601.312000     631.004673   \n",
            "                          median    518.000000    605.000000     649.000000   \n",
            "\n",
            "Customer_Location                             D              E              F  \\\n",
            "Subject_Hotness_Score     sum        124.800000     173.000000      78.900000   \n",
            "                          mean         0.499200       0.475275       0.505769   \n",
            "                          median       0.200000       0.200000       0.200000   \n",
            "Total_Past_Communications sum       8269.000000   12271.000000    5048.000000   \n",
            "                          mean        37.247748      37.525994      35.300699   \n",
            "                          median      40.000000      40.000000      39.000000   \n",
            "Total_Links               sum       2749.000000    3813.000000    1523.000000   \n",
            "                          mean        11.266393      10.863248      10.290541   \n",
            "                          median      11.000000      11.000000       9.000000   \n",
            "Total_Images              sum       1027.000000    1394.000000     585.000000   \n",
            "                          mean         4.174797       3.937853       3.823529   \n",
            "                          median       2.000000       0.000000       0.000000   \n",
            "Word_Count                sum     156796.000000  227188.000000  100949.000000   \n",
            "                          mean       627.184000     624.142857     647.108974   \n",
            "                          median     608.000000     623.000000     630.500000   \n",
            "\n",
            "Customer_Location                             G  \n",
            "Subject_Hotness_Score     sum        404.200000  \n",
            "                          mean         0.493529  \n",
            "                          median       0.200000  \n",
            "Total_Past_Communications sum      27212.000000  \n",
            "                          mean        37.847010  \n",
            "                          median      40.000000  \n",
            "Total_Links               sum       8119.000000  \n",
            "                          mean        10.225441  \n",
            "                          median       9.000000  \n",
            "Total_Images              sum       2816.000000  \n",
            "                          mean         3.520000  \n",
            "                          median       0.000000  \n",
            "Word_Count                sum     512304.000000  \n",
            "                          mean       625.523810  \n",
            "                          median     610.000000  \n",
            "====================================================================================================\n",
            "Email Acknowledged based on Email_Campaign_Type \n",
            "\n",
            "Email_Campaign_Type                          1              2              3\n",
            "Subject_Hotness_Score     sum        23.800000     906.000000     224.200000\n",
            "                          mean        0.137572       1.272472       0.150672\n",
            "                          median      0.100000       1.200000       0.200000\n",
            "Total_Past_Communications sum         0.000000   23412.000000   56406.000000\n",
            "                          mean        0.000000      36.354037      42.474398\n",
            "                          median      0.000000      37.000000      42.000000\n",
            "Total_Links               sum       169.000000    8329.000000   15539.000000\n",
            "                          mean        1.000000      12.123726      10.798471\n",
            "                          median      1.000000      11.000000      11.000000\n",
            "Total_Images              sum         0.000000    3284.000000    5263.000000\n",
            "                          mean        0.000000       4.698140       3.639696\n",
            "                          median      0.000000       2.000000       0.000000\n",
            "Word_Count                sum     95346.000000  386397.000000  990977.000000\n",
            "                          mean      551.132948     542.692416     665.979167\n",
            "                          median    524.000000     524.000000     655.000000\n",
            "====================================================================================================\n",
            "Email Acknowledged based on Time_Email_sent_Category \n",
            "\n",
            "Time_Email_sent_Category                      1              2              3\n",
            "Subject_Hotness_Score     sum        237.800000     713.700000     202.500000\n",
            "                          mean         0.495417       0.497006       0.443107\n",
            "                          median       0.200000       0.200000       0.200000\n",
            "Total_Past_Communications sum      16139.000000   48048.000000   15631.000000\n",
            "                          mean        37.620047      37.596244      37.574519\n",
            "                          median      40.000000      40.000000      40.000000\n",
            "Total_Links               sum       4836.000000   14530.000000    4671.000000\n",
            "                          mean        10.444924      10.483405      10.473094\n",
            "                          median       9.000000      11.000000       9.000000\n",
            "Total_Images              sum       1636.000000    5253.000000    1658.000000\n",
            "                          mean         3.533477       3.738790       3.700893\n",
            "                          median       0.000000       0.000000       0.000000\n",
            "Word_Count                sum     300156.000000  888491.000000  284073.000000\n",
            "                          mean       625.325000     618.726323     621.603939\n",
            "                          median     610.000000     610.000000     605.000000\n",
            "====================================================================================================\n"
          ]
        }
      ]
    },
    {
      "cell_type": "code",
      "source": [
        "#Analyzing mean median sum and count based on Email Opened\n",
        "for cat in cat_feature:\n",
        "  if (cat == 'Email_Status') | (cat == 'Email_ID'):\n",
        "    pass\n",
        "  else:\n",
        "    print(f'Email Opened based on {cat} \\n')\n",
        "    print(email_data[email_data['Email_Status']==1].groupby(cat)[num_feature\n",
        "                            ].agg(['sum','mean','median']).T)\n",
        "    print('='*100)"
      ],
      "metadata": {
        "colab": {
          "base_uri": "https://localhost:8080/"
        },
        "id": "D9F1HECsNh-b",
        "outputId": "fc79ab47-a8ad-4915-86c7-1be005c5b468"
      },
      "execution_count": 51,
      "outputs": [
        {
          "output_type": "stream",
          "name": "stdout",
          "text": [
            "Email Opened based on Email_Type \n",
            "\n",
            "Email_Type                                   1             2\n",
            "Subject_Hotness_Score     sum     8.861200e+03  1.156900e+03\n",
            "                          mean    1.079581e+00  4.086542e-01\n",
            "                          median  7.000000e-01  2.000000e-01\n",
            "Total_Past_Communications sum     2.612080e+05  8.399600e+04\n",
            "                          mean    3.531747e+01  3.293961e+01\n",
            "                          median  3.600000e+01  3.500000e+01\n",
            "Total_Links               sum     8.327300e+04  2.202100e+04\n",
            "                          mean    1.047591e+01  8.048611e+00\n",
            "                          median  9.000000e+00  8.000000e+00\n",
            "Total_Images              sum     2.843300e+04  5.863000e+03\n",
            "                          mean    3.551461e+00  2.128903e+00\n",
            "                          median  0.000000e+00  0.000000e+00\n",
            "Word_Count                sum     4.697752e+06  1.825630e+06\n",
            "                          mean    5.723382e+02  6.448711e+02\n",
            "                          median  5.650000e+02  6.360000e+02\n",
            "====================================================================================================\n",
            "Email Opened based on Email_Source_Type \n",
            "\n",
            "Email_Source_Type                            1             2\n",
            "Subject_Hotness_Score     sum     5.538500e+03  4.479600e+03\n",
            "                          mean    9.005691e-01  9.162610e-01\n",
            "                          median  3.000000e-01  3.000000e-01\n",
            "Total_Past_Communications sum     1.992140e+05  1.459900e+05\n",
            "                          mean    3.590735e+01  3.319463e+01\n",
            "                          median  3.700000e+01  3.500000e+01\n",
            "Total_Links               sum     5.776200e+04  4.753200e+04\n",
            "                          mean    9.701377e+00  1.004692e+01\n",
            "                          median  8.000000e+00  9.000000e+00\n",
            "Total_Images              sum     1.866600e+04  1.563000e+04\n",
            "                          mean    3.113595e+00  3.280168e+00\n",
            "                          median  0.000000e+00  0.000000e+00\n",
            "Word_Count                sum     3.535594e+06  2.987788e+06\n",
            "                          mean    5.748933e+02  6.111246e+02\n",
            "                          median  5.650000e+02  6.050000e+02\n",
            "====================================================================================================\n",
            "Email Opened based on Customer_Location \n",
            "\n",
            "Customer_Location                             A              B              C  \\\n",
            "Subject_Hotness_Score     sum        226.600000     613.900000     764.700000   \n",
            "                          mean         0.924898       0.859804       0.859213   \n",
            "                          median       0.300000       0.300000       0.300000   \n",
            "Total_Past_Communications sum       7349.000000   22539.000000   27962.000000   \n",
            "                          mean        33.557078      34.944186      34.435961   \n",
            "                          median      33.000000      37.000000      35.000000   \n",
            "Total_Links               sum       2258.000000    6916.000000    8788.000000   \n",
            "                          mean         9.608511       9.994220      10.171296   \n",
            "                          median       8.000000       9.000000       9.000000   \n",
            "Total_Images              sum        749.000000    2225.000000    3023.000000   \n",
            "                          mean         3.120833       3.192253       3.486736   \n",
            "                          median       0.000000       0.000000       0.000000   \n",
            "Word_Count                sum     146660.000000  432224.000000  548921.000000   \n",
            "                          mean       598.612245     605.355742     616.765169   \n",
            "                          median     578.000000     606.500000     608.000000   \n",
            "\n",
            "Customer_Location                             D              E              F  \\\n",
            "Subject_Hotness_Score     sum       1086.600000    1570.600000     614.600000   \n",
            "                          mean         0.900995       0.927702       0.880516   \n",
            "                          median       0.300000       0.300000       0.300000   \n",
            "Total_Past_Communications sum      38406.000000   52388.000000   21833.000000   \n",
            "                          mean        35.299632      34.602378      34.876997   \n",
            "                          median      37.000000      36.000000      37.000000   \n",
            "Total_Links               sum      11387.000000   16461.000000    6752.000000   \n",
            "                          mean         9.699319      10.031079       9.958702   \n",
            "                          median       9.000000       9.000000       8.500000   \n",
            "Total_Images              sum       3536.000000    5331.000000    2348.000000   \n",
            "                          mean         3.019641       3.221148       3.473373   \n",
            "                          median       0.000000       0.000000       0.000000   \n",
            "Word_Count                sum     707794.000000  996982.000000  404574.000000   \n",
            "                          mean       586.893864     588.884820     579.618911   \n",
            "                          median     577.000000     578.000000     571.000000   \n",
            "\n",
            "Customer_Location                            G  \n",
            "Subject_Hotness_Score     sum     3.444100e+03  \n",
            "                          mean    9.196529e-01  \n",
            "                          median  3.000000e-01  \n",
            "Total_Past_Communications sum     1.175150e+05  \n",
            "                          mean    3.465497e+01  \n",
            "                          median  3.600000e+01  \n",
            "Total_Links               sum     3.537900e+04  \n",
            "                          mean    9.757033e+00  \n",
            "                          median  9.000000e+00  \n",
            "Total_Images              sum     1.138900e+04  \n",
            "                          mean    3.120274e+00  \n",
            "                          median  0.000000e+00  \n",
            "Word_Count                sum     2.216851e+06  \n",
            "                          mean    5.919495e+02  \n",
            "                          median  5.930000e+02  \n",
            "====================================================================================================\n",
            "Email Opened based on Email_Campaign_Type \n",
            "\n",
            "Email_Campaign_Type                           1             2             3\n",
            "Subject_Hotness_Score     sum         74.900000  9.174800e+03  7.684000e+02\n",
            "                          mean         0.154115  1.684686e+00  1.504602e-01\n",
            "                          median       0.200000  1.500000e+00  1.000000e-01\n",
            "Total_Past_Communications sum          0.000000  1.545570e+05  1.906470e+05\n",
            "                          mean         0.000000  3.163910e+01  4.122097e+01\n",
            "                          median       0.000000  3.200000e+01  4.100000e+01\n",
            "Total_Links               sum        464.000000  5.747900e+04  4.735100e+04\n",
            "                          mean         1.000000  1.085534e+01  9.612464e+00\n",
            "                          median       1.000000  9.000000e+00  9.000000e+00\n",
            "Total_Images              sum          0.000000  2.030700e+04  1.398900e+04\n",
            "                          mean         0.000000  3.821415e+00  2.814122e+00\n",
            "                          median       0.000000  1.000000e+00  0.000000e+00\n",
            "Word_Count                sum     334166.000000  2.881359e+06  3.307857e+06\n",
            "                          mean       687.584362  5.290780e+02  6.477104e+02\n",
            "                          median     700.000000  5.200000e+02  6.490000e+02\n",
            "====================================================================================================\n",
            "Email Opened based on Time_Email_sent_Category \n",
            "\n",
            "Time_Email_sent_Category                     1             2             3\n",
            "Subject_Hotness_Score     sum     1.965800e+03  6.011400e+03  2.040900e+03\n",
            "                          mean    8.992681e-01  9.065601e-01  9.184968e-01\n",
            "                          median  3.000000e-01  3.000000e-01  3.000000e-01\n",
            "Total_Past_Communications sum     6.736500e+04  2.078790e+05  6.996000e+04\n",
            "                          mean    3.440501e+01  3.477982e+01  3.478866e+01\n",
            "                          median  3.600000e+01  3.600000e+01  3.600000e+01\n",
            "Total_Links               sum     2.072500e+04  6.359600e+04  2.097300e+04\n",
            "                          mean    9.831594e+00  9.888975e+00  9.773066e+00\n",
            "                          median  9.000000e+00  9.000000e+00  9.000000e+00\n",
            "Total_Images              sum     6.590000e+03  2.081500e+04  6.891000e+03\n",
            "                          mean    3.088097e+00  3.228133e+00  3.163912e+00\n",
            "                          median  0.000000e+00  0.000000e+00  0.000000e+00\n",
            "Word_Count                sum     1.300186e+06  3.941963e+06  1.281233e+06\n",
            "                          mean    5.947786e+02  5.944749e+02  5.766125e+02\n",
            "                          median  5.780000e+02  5.930000e+02  5.650000e+02\n",
            "====================================================================================================\n"
          ]
        }
      ]
    },
    {
      "cell_type": "code",
      "source": [
        "#Analyzing mean median sum and count based on Email Ignored\n",
        "for cat in cat_feature:\n",
        "  if (cat == 'Email_Status') | (cat == 'Email_ID'):\n",
        "    pass\n",
        "  else:\n",
        "    print(f'Email Ignored based on {cat} \\n')\n",
        "    print(email_data[email_data['Email_Status'] == 0].groupby(cat)[num_feature\n",
        "                            ].agg(['sum','mean','median']).T)\n",
        "    print('='*100)"
      ],
      "metadata": {
        "colab": {
          "base_uri": "https://localhost:8080/"
        },
        "id": "Uqz5h4xIO6FF",
        "outputId": "ca6d10c5-c482-4503-be4b-b30a505ce18d"
      },
      "execution_count": 52,
      "outputs": [
        {
          "output_type": "stream",
          "name": "stdout",
          "text": [
            "Email Ignored based on Email_Type \n",
            "\n",
            "Email_Type                                   1             2\n",
            "Subject_Hotness_Score     sum     5.093480e+04  1.277250e+04\n",
            "                          mean    1.305887e+00  8.014369e-01\n",
            "                          median  1.200000e+00  4.000000e-01\n",
            "Total_Past_Communications sum     9.708290e+05  3.843540e+05\n",
            "                          mean    2.758742e+01  2.693818e+01\n",
            "                          median  2.600000e+01  2.600000e+01\n",
            "Total_Links               sum     4.228980e+05  1.377050e+05\n",
            "                          mean    1.120705e+01  8.920451e+00\n",
            "                          median  1.000000e+01  8.000000e+00\n",
            "Total_Images              sum     1.525010e+05  4.140100e+04\n",
            "                          mean    4.009913e+00  2.659195e+00\n",
            "                          median  1.000000e+00  0.000000e+00\n",
            "Word_Count                sum     2.786133e+07  1.198500e+07\n",
            "                          mean    7.143198e+02  7.520239e+02\n",
            "                          median  7.000000e+02  7.370000e+02\n",
            "====================================================================================================\n",
            "Email Ignored based on Email_Source_Type \n",
            "\n",
            "Email_Source_Type                            1             2\n",
            "Subject_Hotness_Score     sum     3.426670e+04  2.944060e+04\n",
            "                          mean    1.158559e+00  1.160724e+00\n",
            "                          median  1.000000e+00  1.000000e+00\n",
            "Total_Past_Communications sum     7.428800e+05  6.123030e+05\n",
            "                          mean    2.800573e+01  2.669965e+01\n",
            "                          median  2.700000e+01  2.500000e+01\n",
            "Total_Links               sum     2.910710e+05  2.695320e+05\n",
            "                          mean    1.016806e+01  1.098069e+01\n",
            "                          median  9.000000e+00  9.000000e+00\n",
            "Total_Images              sum     9.792200e+04  9.598000e+04\n",
            "                          mean    3.392530e+00  3.880175e+00\n",
            "                          median  0.000000e+00  0.000000e+00\n",
            "Word_Count                sum     2.115847e+07  1.868786e+07\n",
            "                          mean    7.153690e+02  7.367869e+02\n",
            "                          median  7.000000e+02  7.220000e+02\n",
            "====================================================================================================\n",
            "Email Ignored based on Customer_Location \n",
            "\n",
            "Customer_Location                             A             B             C  \\\n",
            "Subject_Hotness_Score     sum       1384.000000  4.173200e+03  5.491600e+03   \n",
            "                          mean         1.193103  1.191662e+00  1.179974e+00   \n",
            "                          median       1.000000  1.000000e+00  1.000000e+00   \n",
            "Total_Past_Communications sum      27827.000000  8.638900e+04  1.141960e+05   \n",
            "                          mean        26.885990  2.719201e+01  2.737857e+01   \n",
            "                          median      26.000000  2.600000e+01  2.600000e+01   \n",
            "Total_Links               sum      11852.000000  3.581300e+04  4.777600e+04   \n",
            "                          mean        10.544484  1.056119e+01  1.061689e+01   \n",
            "                          median       9.000000  9.000000e+00  9.000000e+00   \n",
            "Total_Images              sum       3900.000000  1.274200e+04  1.646000e+04   \n",
            "                          mean         3.460515  3.729002e+00  3.633554e+00   \n",
            "                          median       0.000000  0.000000e+00  0.000000e+00   \n",
            "Word_Count                sum     830735.000000  2.538518e+06  3.369404e+06   \n",
            "                          mean       716.150862  7.248766e+02  7.239802e+02   \n",
            "                          median     704.000000  7.130000e+02  7.040000e+02   \n",
            "\n",
            "Customer_Location                            D             E             F  \\\n",
            "Subject_Hotness_Score     sum     6.976400e+03  9.372800e+03  4.100900e+03   \n",
            "                          mean    1.172504e+00  1.152016e+00  1.145823e+00   \n",
            "                          median  1.000000e+00  1.000000e+00  9.000000e-01   \n",
            "Total_Past_Communications sum     1.435480e+05  2.025180e+05  8.815500e+04   \n",
            "                          mean    2.700809e+01  2.763242e+01  2.745406e+01   \n",
            "                          median  2.600000e+01  2.600000e+01  2.600000e+01   \n",
            "Total_Links               sum     6.041200e+04  8.181800e+04  3.735600e+04   \n",
            "                          mean    1.052657e+01  1.038299e+01  1.071908e+01   \n",
            "                          median  9.000000e+00  9.000000e+00  9.000000e+00   \n",
            "Total_Images              sum     2.090800e+04  2.808800e+04  1.301600e+04   \n",
            "                          mean    3.588124e+00  3.542439e+00  3.729513e+00   \n",
            "                          median  0.000000e+00  0.000000e+00  0.000000e+00   \n",
            "Word_Count                sum     4.319259e+06  5.904074e+06  2.593531e+06   \n",
            "                          mean    7.259259e+02  7.256728e+02  7.246524e+02   \n",
            "                          median  7.130000e+02  7.130000e+02  7.040000e+02   \n",
            "\n",
            "Customer_Location                            G  \n",
            "Subject_Hotness_Score     sum     2.139210e+04  \n",
            "                          mean    1.149557e+00  \n",
            "                          median  9.000000e-01  \n",
            "Total_Past_Communications sum     4.610000e+05  \n",
            "                          mean    2.742742e+01  \n",
            "                          median  2.600000e+01  \n",
            "Total_Links               sum     1.897480e+05  \n",
            "                          mean    1.053629e+01  \n",
            "                          median  9.000000e+00  \n",
            "Total_Images              sum     6.567000e+04  \n",
            "                          mean    3.615393e+00  \n",
            "                          median  0.000000e+00  \n",
            "Word_Count                sum     1.353448e+07  \n",
            "                          mean    7.273083e+02  \n",
            "                          median  7.210000e+02  \n",
            "====================================================================================================\n",
            "Email Ignored based on Email_Campaign_Type \n",
            "\n",
            "Email_Campaign_Type                          1             2             3\n",
            "Subject_Hotness_Score     sum        13.000000  6.178880e+04  1.905500e+03\n",
            "                          mean        0.168831  1.467145e+00  1.494627e-01\n",
            "                          median      0.200000  1.400000e+00  1.000000e-01\n",
            "Total_Past_Communications sum         0.000000  9.879650e+05  3.672180e+05\n",
            "                          mean        0.000000  2.603608e+01  3.209106e+01\n",
            "                          median      0.000000  2.500000e+01  3.200000e+01\n",
            "Total_Links               sum        73.000000  4.338930e+05  1.266370e+05\n",
            "                          mean        1.000000  1.064899e+01  1.025069e+01\n",
            "                          median      1.000000  9.000000e+00  9.000000e+00\n",
            "Total_Images              sum         0.000000  1.502890e+05  4.361300e+04\n",
            "                          mean        0.000000  3.657290e+00  3.508406e+00\n",
            "                          median      0.000000  0.000000e+00  0.000000e+00\n",
            "Word_Count                sum     52766.000000  3.003270e+07  9.760868e+06\n",
            "                          mean      685.272727  7.131117e+02  7.656183e+02\n",
            "                          median    721.000000  7.000000e+02  7.510000e+02\n",
            "====================================================================================================\n",
            "Email Ignored based on Time_Email_sent_Category \n",
            "\n",
            "Time_Email_sent_Category                     1             2             3\n",
            "Subject_Hotness_Score     sum     1.298340e+04  3.799060e+04  1.273330e+04\n",
            "                          mean    1.183537e+00  1.149071e+00  1.167229e+00\n",
            "                          median  1.000000e+00  9.000000e-01  1.000000e+00\n",
            "Total_Past_Communications sum     2.698710e+05  8.181070e+05  2.672050e+05\n",
            "                          mean    2.737861e+01  2.746155e+01  2.723525e+01\n",
            "                          median  2.600000e+01  2.600000e+01  2.600000e+01\n",
            "Total_Links               sum     1.128660e+05  3.357780e+05  1.119590e+05\n",
            "                          mean    1.062768e+01  1.049930e+01  1.059115e+01\n",
            "                          median  9.000000e+00  9.000000e+00  9.000000e+00\n",
            "Total_Images              sum     3.913500e+04  1.161200e+05  3.864700e+04\n",
            "                          mean    3.654403e+00  3.598946e+00  3.637022e+00\n",
            "                          median  0.000000e+00  0.000000e+00  0.000000e+00\n",
            "Word_Count                sum     7.922510e+06  2.400583e+07  7.917994e+06\n",
            "                          mean    7.221978e+02  7.260852e+02  7.258222e+02\n",
            "                          median  7.040000e+02  7.130000e+02  7.130000e+02\n",
            "====================================================================================================\n"
          ]
        }
      ]
    },
    {
      "cell_type": "code",
      "source": [
        "#calculating engagement rate based on email acknowledged by the readers\n",
        "engagement_rate = email_data[email_data['Email_Status'] == 2]['Email_Status'].count()/len(email_data)*100\n",
        "engagement_rate\n",
        "     "
      ],
      "metadata": {
        "colab": {
          "base_uri": "https://localhost:8080/"
        },
        "id": "Rdp3njrlPM14",
        "outputId": "570926a9-0b3b-4c88-87cb-61b5e11237fc"
      },
      "execution_count": 54,
      "outputs": [
        {
          "output_type": "execute_result",
          "data": {
            "text/plain": [
              "3.4716837593082963"
            ]
          },
          "metadata": {},
          "execution_count": 54
        }
      ]
    },
    {
      "cell_type": "code",
      "source": [
        "#calculating open rate based on email read and acknowledged by the readers\n",
        "open_rate = email_data[email_data['Email_Status'] != 0]['Email_Status'].count()/len(email_data)*100\n",
        "open_rate"
      ],
      "metadata": {
        "colab": {
          "base_uri": "https://localhost:8080/"
        },
        "id": "6jUDgZ_lPkjp",
        "outputId": "313cf03f-45ab-43b1-80b6-f9f1ad655947"
      },
      "execution_count": 56,
      "outputs": [
        {
          "output_type": "execute_result",
          "data": {
            "text/plain": [
              "19.62166986086931"
            ]
          },
          "metadata": {},
          "execution_count": 56
        }
      ]
    },
    {
      "cell_type": "code",
      "source": [
        "#calculating ignored rate based on email read and acknowledged by the readers\n",
        "ignored_rate = email_data[email_data['Email_Status'] == 0]['Email_Status'].count()/len(email_data)*100\n",
        "ignored_rate"
      ],
      "metadata": {
        "colab": {
          "base_uri": "https://localhost:8080/"
        },
        "id": "hVHjuDRzP0qr",
        "outputId": "abd11553-6fdf-4080-cd19-45bf56a99dc9"
      },
      "execution_count": 57,
      "outputs": [
        {
          "output_type": "execute_result",
          "data": {
            "text/plain": [
              "80.3783301391307"
            ]
          },
          "metadata": {},
          "execution_count": 57
        }
      ]
    },
    {
      "cell_type": "code",
      "source": [
        "# function to calculate engagement rate, open rate and ignored rate \n",
        "#engagement rate\n",
        "def Engagement(group):\n",
        "  acknowledged_emails = group[group['Email_Status'] == 2]\n",
        "  return len(acknowledged_emails) / len(group)\n",
        "\n",
        "#open rate\n",
        "def Open(group):\n",
        "  opened_emails = group[group['Email_Status'] != 0]\n",
        "  return len(opened_emails) / len(group)\n",
        "\n",
        "#ignore rate\n",
        "def Ignore(group):\n",
        "  ignored_emails = group[group['Email_Status'] == 0]\n",
        "  return (len(ignored_emails)/ len(group))"
      ],
      "metadata": {
        "id": "JvyIGbf_P-nG"
      },
      "execution_count": 58,
      "outputs": []
    },
    {
      "cell_type": "code",
      "source": [
        "# calculating engagement, open and ignored rate for each categorial feaure\n",
        "for cat in cat_feature:\n",
        "  if (cat == 'Email_Status') | (cat == 'Email_ID'):\n",
        "    pass\n",
        "  else:\n",
        "    print(f'Engagement Rate for - {cat}')\n",
        "    print(email_data.groupby(cat).apply(Engagement))\n",
        "    print('\\n')\n",
        "    print(f'Open Rate for - {cat}')\n",
        "    print(email_data.groupby(cat).apply(Open))\n",
        "    print('\\n')\n",
        "    print(f'Ignored Rate for - {cat}')\n",
        "    print(email_data.groupby(cat).apply(Ignore))\n",
        "    print('='*100)"
      ],
      "metadata": {
        "colab": {
          "base_uri": "https://localhost:8080/"
        },
        "id": "QZPFCWyzP_3G",
        "outputId": "2caaf9e7-3582-4ae3-d9a9-6c0731547d2e"
      },
      "execution_count": 61,
      "outputs": [
        {
          "output_type": "stream",
          "name": "stdout",
          "text": [
            "Engagement Rate for - Email_Type\n",
            "Email_Type\n",
            "1    0.033848\n",
            "2    0.036896\n",
            "dtype: float64\n",
            "\n",
            "\n",
            "Open Rate for - Email_Type\n",
            "Email_Type\n",
            "1    0.201817\n",
            "2    0.182173\n",
            "dtype: float64\n",
            "\n",
            "\n",
            "Ignored Rate for - Email_Type\n",
            "Email_Type\n",
            "1    0.798183\n",
            "2    0.817827\n",
            "dtype: float64\n",
            "====================================================================================================\n",
            "Engagement Rate for - Email_Source_Type\n",
            "Email_Source_Type\n",
            "1    0.038278\n",
            "2    0.030477\n",
            "dtype: float64\n",
            "\n",
            "\n",
            "Open Rate for - Email_Source_Type\n",
            "Email_Source_Type\n",
            "1    0.203828\n",
            "2    0.187155\n",
            "dtype: float64\n",
            "\n",
            "\n",
            "Ignored Rate for - Email_Source_Type\n",
            "Email_Source_Type\n",
            "1    0.796172\n",
            "2    0.812845\n",
            "dtype: float64\n",
            "====================================================================================================\n",
            "Engagement Rate for - Customer_Location\n",
            "Customer_Location\n",
            "A    0.033700\n",
            "B    0.028795\n",
            "C    0.037166\n",
            "D    0.033756\n",
            "E    0.035711\n",
            "F    0.035191\n",
            "G    0.035343\n",
            "dtype: float64\n",
            "\n",
            "\n",
            "Open Rate for - Customer_Location\n",
            "Customer_Location\n",
            "A    0.202201\n",
            "B    0.193273\n",
            "C    0.191733\n",
            "D    0.196597\n",
            "E    0.201805\n",
            "F    0.192646\n",
            "G    0.196953\n",
            "dtype: float64\n",
            "\n",
            "\n",
            "Ignored Rate for - Customer_Location\n",
            "Customer_Location\n",
            "A    0.797799\n",
            "B    0.806727\n",
            "C    0.808267\n",
            "D    0.803403\n",
            "E    0.798195\n",
            "F    0.807354\n",
            "G    0.803047\n",
            "dtype: float64\n",
            "====================================================================================================\n",
            "Engagement Rate for - Email_Campaign_Type\n",
            "Email_Campaign_Type\n",
            "1    0.235054\n",
            "2    0.014749\n",
            "3    0.076923\n",
            "dtype: float64\n",
            "\n",
            "\n",
            "Open Rate for - Email_Campaign_Type\n",
            "Email_Campaign_Type\n",
            "1    0.895380\n",
            "2    0.127566\n",
            "3    0.340933\n",
            "dtype: float64\n",
            "\n",
            "\n",
            "Ignored Rate for - Email_Campaign_Type\n",
            "Email_Campaign_Type\n",
            "1    0.104620\n",
            "2    0.872434\n",
            "3    0.659067\n",
            "dtype: float64\n",
            "====================================================================================================\n",
            "Engagement Rate for - Time_Email_sent_Category\n",
            "Time_Email_sent_Category\n",
            "1    0.035201\n",
            "2    0.034915\n",
            "3    0.033633\n",
            "dtype: float64\n",
            "\n",
            "\n",
            "Open Rate for - Time_Email_sent_Category\n",
            "Time_Email_sent_Category\n",
            "1    0.195512\n",
            "2    0.196139\n",
            "3    0.197159\n",
            "dtype: float64\n",
            "\n",
            "\n",
            "Ignored Rate for - Time_Email_sent_Category\n",
            "Time_Email_sent_Category\n",
            "1    0.804488\n",
            "2    0.803861\n",
            "3    0.802841\n",
            "dtype: float64\n",
            "====================================================================================================\n"
          ]
        }
      ]
    },
    {
      "cell_type": "code",
      "source": [
        "# Link-to-Word ratio\n",
        "df_Link_to_Word_ratio = email_data['Total_Links'] / email_data['Word_Count']\n",
        "\n",
        "# Image-to-Word ratio\n",
        "df_Image_to_Word_ratio = email_data['Total_Images'] / email_data['Word_Count']\n",
        "\n",
        "# Image-Link-Word ratio\n",
        "df_Image_Link_Word_ratio = email_data['Total_Images'] + email_data['Total_Links'] / email_data['Word_Count']\n",
        "\n",
        "# Percentage of words that are links\n",
        "df_Percentage_of_words_that_are_links = (email_data['Total_Links'] / email_data['Word_Count'])*100\n",
        "\n",
        "# Number of Images per link\n",
        "df_Number_of_Images_per_link = email_data['Total_Images'] / email_data['Total_Links']\n",
        "\n",
        "# Calculating the weighted sum of Subject_Hotness_Score and Total_Past_Communications\n",
        "df_Hotness_Score = email_data['Subject_Hotness_Score'] * email_data['Total_Past_Communications']\n",
        "     "
      ],
      "metadata": {
        "id": "SwcTiH0EQoeN"
      },
      "execution_count": 62,
      "outputs": []
    },
    {
      "cell_type": "code",
      "source": [
        "# Image-Link-Word ratio\n",
        "df_Image_Link_Word_ratio.mean()"
      ],
      "metadata": {
        "colab": {
          "base_uri": "https://localhost:8080/"
        },
        "id": "vRXqYtrbRD07",
        "outputId": "9ce957a4-782f-49e9-f345-ea2874367c51"
      },
      "execution_count": 63,
      "outputs": [
        {
          "output_type": "execute_result",
          "data": {
            "text/plain": [
              "3.56208687250181"
            ]
          },
          "metadata": {},
          "execution_count": 63
        }
      ]
    },
    {
      "cell_type": "code",
      "source": [
        "# Image-to-Word ratio\n",
        "df_Image_to_Word_ratio.mean()"
      ],
      "metadata": {
        "colab": {
          "base_uri": "https://localhost:8080/"
        },
        "id": "wnslV4KoROYF",
        "outputId": "fa92abf6-e2f1-4899-c717-888d8a46d9e6"
      },
      "execution_count": 64,
      "outputs": [
        {
          "output_type": "execute_result",
          "data": {
            "text/plain": [
              "0.006425172246013729"
            ]
          },
          "metadata": {},
          "execution_count": 64
        }
      ]
    },
    {
      "cell_type": "code",
      "source": [
        "#Link_to_Word_ratio\n",
        "df_Link_to_Word_ratio.mean()"
      ],
      "metadata": {
        "colab": {
          "base_uri": "https://localhost:8080/"
        },
        "id": "uRzQYj0BRSPO",
        "outputId": "bf01ab23-13d4-4d18-f594-a9df35907942"
      },
      "execution_count": 65,
      "outputs": [
        {
          "output_type": "execute_result",
          "data": {
            "text/plain": [
              "0.019561519413416703"
            ]
          },
          "metadata": {},
          "execution_count": 65
        }
      ]
    },
    {
      "cell_type": "code",
      "source": [
        "#Percentage_of_words_that_are_links\n",
        "df_Percentage_of_words_that_are_links.mean()"
      ],
      "metadata": {
        "colab": {
          "base_uri": "https://localhost:8080/"
        },
        "id": "NMQzMpquRXyO",
        "outputId": "b0303216-3b46-4242-8009-c66f028c902f"
      },
      "execution_count": 66,
      "outputs": [
        {
          "output_type": "execute_result",
          "data": {
            "text/plain": [
              "1.9561519413416701"
            ]
          },
          "metadata": {},
          "execution_count": 66
        }
      ]
    },
    {
      "cell_type": "code",
      "source": [
        "# Number of Images per link\n",
        "df_Number_of_Images_per_link.mean()"
      ],
      "metadata": {
        "colab": {
          "base_uri": "https://localhost:8080/"
        },
        "id": "EH1RJMDBRb9e",
        "outputId": "b038a1b5-0a1a-4641-80d6-967a1b0b9967"
      },
      "execution_count": 67,
      "outputs": [
        {
          "output_type": "execute_result",
          "data": {
            "text/plain": [
              "0.24534715873562615"
            ]
          },
          "metadata": {},
          "execution_count": 67
        }
      ]
    },
    {
      "cell_type": "code",
      "source": [
        "#Hotness score\n",
        "df_Hotness_Score.mean()"
      ],
      "metadata": {
        "colab": {
          "base_uri": "https://localhost:8080/"
        },
        "id": "XfnJhfHERdna",
        "outputId": "daeb92ce-700e-482a-d4a6-c403d060c91a"
      },
      "execution_count": 68,
      "outputs": [
        {
          "output_type": "execute_result",
          "data": {
            "text/plain": [
              "26.159572877389156"
            ]
          },
          "metadata": {},
          "execution_count": 68
        }
      ]
    },
    {
      "cell_type": "markdown",
      "source": [
        "### What all manipulations have you done and insights you found?"
      ],
      "metadata": {
        "id": "MSa1f5Uengrz"
      }
    },
    {
      "cell_type": "markdown",
      "source": [
        "In order to understand email campaign effectiveness, i first started analysis by understanding what percentage of email show customer engagement and bounce or ignore rate.\n",
        "\n",
        "* No. of Email Read : - 11039 i.e., 17%\n",
        "* No. of Email Acknowledged : - 2373 i.e., 3%\n",
        "* No. of Email Ignored : - 54941 i.e., 80%\n",
        "\n",
        "This result shows that maximum of the emails were ignored, therefore to learn exactly why it was ignore, I tried several grouping of categorial features to better understand the relationship. Then entire result was also being judged by the email status to know exact enagement.\n",
        "\n",
        "\n",
        "I have also checked the rate how emails were opened, ignored or acknowledeged for each categorial variable. Then also calculated link, image density with respect to total word count. Again using the link and image calculated percentage of each with respect to wordcount. Finally combined subject hotness score and total past communication to calculate the combined weight.\n",
        "\n",
        "\n",
        "The analysis shows that in order to get emails acknowledged, email should have an average of atleast 37 total communication which is relatively more than those of ignored emails, this shows that emails are acknowledged based on interaction. Other features like word count showed that word count of average 590-600 are acknowledged and it should also contains atmost 10 links and 3 image.\n",
        "\n",
        "\n",
        "Email type 1 with source 2 location c email campaign type 1 when sent on morning showed effective email with high acknowledged emails."
      ],
      "metadata": {
        "id": "LbyXE7I1olp8"
      }
    },
    {
      "cell_type": "markdown",
      "source": [
        "## ***4. Data Vizualization, Storytelling & Experimenting with charts : Understand the relationships between variables***"
      ],
      "metadata": {
        "id": "GF8Ens_Soomf"
      }
    },
    {
      "cell_type": "markdown",
      "source": [
        "#### Chart - 1"
      ],
      "metadata": {
        "id": "0wOQAZs5pc--"
      }
    },
    {
      "cell_type": "code",
      "source": [
        "# Chart - 1 visualization code"
      ],
      "metadata": {
        "id": "7v_ESjsspbW7"
      },
      "execution_count": null,
      "outputs": []
    },
    {
      "cell_type": "markdown",
      "source": [
        "##### 1. Why did you pick the specific chart?"
      ],
      "metadata": {
        "id": "K5QZ13OEpz2H"
      }
    },
    {
      "cell_type": "markdown",
      "source": [
        "Answer Here."
      ],
      "metadata": {
        "id": "XESiWehPqBRc"
      }
    },
    {
      "cell_type": "markdown",
      "source": [
        "##### 2. What is/are the insight(s) found from the chart?"
      ],
      "metadata": {
        "id": "lQ7QKXXCp7Bj"
      }
    },
    {
      "cell_type": "markdown",
      "source": [
        "Answer Here"
      ],
      "metadata": {
        "id": "C_j1G7yiqdRP"
      }
    },
    {
      "cell_type": "markdown",
      "source": [
        "##### 3. Will the gained insights help creating a positive business impact? \n",
        "Are there any insights that lead to negative growth? Justify with specific reason."
      ],
      "metadata": {
        "id": "448CDAPjqfQr"
      }
    },
    {
      "cell_type": "markdown",
      "source": [
        "Answer Here"
      ],
      "metadata": {
        "id": "3cspy4FjqxJW"
      }
    },
    {
      "cell_type": "markdown",
      "source": [
        "#### Chart - 2"
      ],
      "metadata": {
        "id": "KSlN3yHqYklG"
      }
    },
    {
      "cell_type": "code",
      "source": [
        "# Chart - 2 visualization code"
      ],
      "metadata": {
        "id": "R4YgtaqtYklH"
      },
      "execution_count": null,
      "outputs": []
    },
    {
      "cell_type": "markdown",
      "source": [
        "##### 1. Why did you pick the specific chart?"
      ],
      "metadata": {
        "id": "t6dVpIINYklI"
      }
    },
    {
      "cell_type": "markdown",
      "source": [
        "Answer Here."
      ],
      "metadata": {
        "id": "5aaW0BYyYklI"
      }
    },
    {
      "cell_type": "markdown",
      "source": [
        "##### 2. What is/are the insight(s) found from the chart?"
      ],
      "metadata": {
        "id": "ijmpgYnKYklI"
      }
    },
    {
      "cell_type": "markdown",
      "source": [
        "Answer Here"
      ],
      "metadata": {
        "id": "PSx9atu2YklI"
      }
    },
    {
      "cell_type": "markdown",
      "source": [
        "##### 3. Will the gained insights help creating a positive business impact? \n",
        "Are there any insights that lead to negative growth? Justify with specific reason."
      ],
      "metadata": {
        "id": "-JiQyfWJYklI"
      }
    },
    {
      "cell_type": "markdown",
      "source": [
        "Answer Here"
      ],
      "metadata": {
        "id": "BcBbebzrYklV"
      }
    },
    {
      "cell_type": "markdown",
      "source": [
        "#### Chart - 3"
      ],
      "metadata": {
        "id": "EM7whBJCYoAo"
      }
    },
    {
      "cell_type": "code",
      "source": [
        "# Chart - 3 visualization code"
      ],
      "metadata": {
        "id": "t6GMdE67YoAp"
      },
      "execution_count": null,
      "outputs": []
    },
    {
      "cell_type": "markdown",
      "source": [
        "##### 1. Why did you pick the specific chart?"
      ],
      "metadata": {
        "id": "fge-S5ZAYoAp"
      }
    },
    {
      "cell_type": "markdown",
      "source": [
        "Answer Here."
      ],
      "metadata": {
        "id": "5dBItgRVYoAp"
      }
    },
    {
      "cell_type": "markdown",
      "source": [
        "##### 2. What is/are the insight(s) found from the chart?"
      ],
      "metadata": {
        "id": "85gYPyotYoAp"
      }
    },
    {
      "cell_type": "markdown",
      "source": [
        "Answer Here"
      ],
      "metadata": {
        "id": "4jstXR6OYoAp"
      }
    },
    {
      "cell_type": "markdown",
      "source": [
        "##### 3. Will the gained insights help creating a positive business impact? \n",
        "Are there any insights that lead to negative growth? Justify with specific reason."
      ],
      "metadata": {
        "id": "RoGjAbkUYoAp"
      }
    },
    {
      "cell_type": "markdown",
      "source": [
        "Answer Here"
      ],
      "metadata": {
        "id": "zfJ8IqMcYoAp"
      }
    },
    {
      "cell_type": "markdown",
      "source": [
        "#### Chart - 4"
      ],
      "metadata": {
        "id": "4Of9eVA-YrdM"
      }
    },
    {
      "cell_type": "code",
      "source": [
        "# Chart - 4 visualization code"
      ],
      "metadata": {
        "id": "irlUoxc8YrdO"
      },
      "execution_count": null,
      "outputs": []
    },
    {
      "cell_type": "markdown",
      "source": [
        "##### 1. Why did you pick the specific chart?"
      ],
      "metadata": {
        "id": "iky9q4vBYrdO"
      }
    },
    {
      "cell_type": "markdown",
      "source": [
        "Answer Here."
      ],
      "metadata": {
        "id": "aJRCwT6DYrdO"
      }
    },
    {
      "cell_type": "markdown",
      "source": [
        "##### 2. What is/are the insight(s) found from the chart?"
      ],
      "metadata": {
        "id": "F6T5p64dYrdO"
      }
    },
    {
      "cell_type": "markdown",
      "source": [
        "Answer Here"
      ],
      "metadata": {
        "id": "Xx8WAJvtYrdO"
      }
    },
    {
      "cell_type": "markdown",
      "source": [
        "##### 3. Will the gained insights help creating a positive business impact? \n",
        "Are there any insights that lead to negative growth? Justify with specific reason."
      ],
      "metadata": {
        "id": "y-Ehk30pYrdP"
      }
    },
    {
      "cell_type": "markdown",
      "source": [
        "Answer Here"
      ],
      "metadata": {
        "id": "jLNxxz7MYrdP"
      }
    },
    {
      "cell_type": "markdown",
      "source": [
        "#### Chart - 5"
      ],
      "metadata": {
        "id": "bamQiAODYuh1"
      }
    },
    {
      "cell_type": "code",
      "source": [
        "# Chart - 5 visualization code"
      ],
      "metadata": {
        "id": "TIJwrbroYuh3"
      },
      "execution_count": null,
      "outputs": []
    },
    {
      "cell_type": "markdown",
      "source": [
        "##### 1. Why did you pick the specific chart?"
      ],
      "metadata": {
        "id": "QHF8YVU7Yuh3"
      }
    },
    {
      "cell_type": "markdown",
      "source": [
        "Answer Here."
      ],
      "metadata": {
        "id": "dcxuIMRPYuh3"
      }
    },
    {
      "cell_type": "markdown",
      "source": [
        "##### 2. What is/are the insight(s) found from the chart?"
      ],
      "metadata": {
        "id": "GwzvFGzlYuh3"
      }
    },
    {
      "cell_type": "markdown",
      "source": [
        "Answer Here"
      ],
      "metadata": {
        "id": "uyqkiB8YYuh3"
      }
    },
    {
      "cell_type": "markdown",
      "source": [
        "##### 3. Will the gained insights help creating a positive business impact? \n",
        "Are there any insights that lead to negative growth? Justify with specific reason."
      ],
      "metadata": {
        "id": "qYpmQ266Yuh3"
      }
    },
    {
      "cell_type": "markdown",
      "source": [
        "Answer Here"
      ],
      "metadata": {
        "id": "_WtzZ_hCYuh4"
      }
    },
    {
      "cell_type": "markdown",
      "source": [
        "#### Chart - 6"
      ],
      "metadata": {
        "id": "OH-pJp9IphqM"
      }
    },
    {
      "cell_type": "code",
      "source": [
        "# Chart - 6 visualization code"
      ],
      "metadata": {
        "id": "kuRf4wtuphqN"
      },
      "execution_count": null,
      "outputs": []
    },
    {
      "cell_type": "markdown",
      "source": [
        "##### 1. Why did you pick the specific chart?"
      ],
      "metadata": {
        "id": "bbFf2-_FphqN"
      }
    },
    {
      "cell_type": "markdown",
      "source": [
        "Answer Here."
      ],
      "metadata": {
        "id": "loh7H2nzphqN"
      }
    },
    {
      "cell_type": "markdown",
      "source": [
        "##### 2. What is/are the insight(s) found from the chart?"
      ],
      "metadata": {
        "id": "_ouA3fa0phqN"
      }
    },
    {
      "cell_type": "markdown",
      "source": [
        "Answer Here"
      ],
      "metadata": {
        "id": "VECbqPI7phqN"
      }
    },
    {
      "cell_type": "markdown",
      "source": [
        "##### 3. Will the gained insights help creating a positive business impact? \n",
        "Are there any insights that lead to negative growth? Justify with specific reason."
      ],
      "metadata": {
        "id": "Seke61FWphqN"
      }
    },
    {
      "cell_type": "markdown",
      "source": [
        "Answer Here"
      ],
      "metadata": {
        "id": "DW4_bGpfphqN"
      }
    },
    {
      "cell_type": "markdown",
      "source": [
        "#### Chart - 7"
      ],
      "metadata": {
        "id": "PIIx-8_IphqN"
      }
    },
    {
      "cell_type": "code",
      "source": [
        "# Chart - 7 visualization code"
      ],
      "metadata": {
        "id": "lqAIGUfyphqO"
      },
      "execution_count": null,
      "outputs": []
    },
    {
      "cell_type": "markdown",
      "source": [
        "##### 1. Why did you pick the specific chart?"
      ],
      "metadata": {
        "id": "t27r6nlMphqO"
      }
    },
    {
      "cell_type": "markdown",
      "source": [
        "Answer Here."
      ],
      "metadata": {
        "id": "iv6ro40sphqO"
      }
    },
    {
      "cell_type": "markdown",
      "source": [
        "##### 2. What is/are the insight(s) found from the chart?"
      ],
      "metadata": {
        "id": "r2jJGEOYphqO"
      }
    },
    {
      "cell_type": "markdown",
      "source": [
        "Answer Here"
      ],
      "metadata": {
        "id": "Po6ZPi4hphqO"
      }
    },
    {
      "cell_type": "markdown",
      "source": [
        "##### 3. Will the gained insights help creating a positive business impact? \n",
        "Are there any insights that lead to negative growth? Justify with specific reason."
      ],
      "metadata": {
        "id": "b0JNsNcRphqO"
      }
    },
    {
      "cell_type": "markdown",
      "source": [
        "Answer Here"
      ],
      "metadata": {
        "id": "xvSq8iUTphqO"
      }
    },
    {
      "cell_type": "markdown",
      "source": [
        "#### Chart - 8"
      ],
      "metadata": {
        "id": "BZR9WyysphqO"
      }
    },
    {
      "cell_type": "code",
      "source": [
        "# Chart - 8 visualization code"
      ],
      "metadata": {
        "id": "TdPTWpAVphqO"
      },
      "execution_count": null,
      "outputs": []
    },
    {
      "cell_type": "markdown",
      "source": [
        "##### 1. Why did you pick the specific chart?"
      ],
      "metadata": {
        "id": "jj7wYXLtphqO"
      }
    },
    {
      "cell_type": "markdown",
      "source": [
        "Answer Here."
      ],
      "metadata": {
        "id": "Ob8u6rCTphqO"
      }
    },
    {
      "cell_type": "markdown",
      "source": [
        "##### 2. What is/are the insight(s) found from the chart?"
      ],
      "metadata": {
        "id": "eZrbJ2SmphqO"
      }
    },
    {
      "cell_type": "markdown",
      "source": [
        "Answer Here"
      ],
      "metadata": {
        "id": "mZtgC_hjphqO"
      }
    },
    {
      "cell_type": "markdown",
      "source": [
        "##### 3. Will the gained insights help creating a positive business impact? \n",
        "Are there any insights that lead to negative growth? Justify with specific reason."
      ],
      "metadata": {
        "id": "rFu4xreNphqO"
      }
    },
    {
      "cell_type": "markdown",
      "source": [
        "Answer Here"
      ],
      "metadata": {
        "id": "ey_0qi68phqO"
      }
    },
    {
      "cell_type": "markdown",
      "source": [
        "#### Chart - 9"
      ],
      "metadata": {
        "id": "YJ55k-q6phqO"
      }
    },
    {
      "cell_type": "code",
      "source": [
        "# Chart - 9 visualization code"
      ],
      "metadata": {
        "id": "B2aS4O1ophqO"
      },
      "execution_count": null,
      "outputs": []
    },
    {
      "cell_type": "markdown",
      "source": [
        "##### 1. Why did you pick the specific chart?"
      ],
      "metadata": {
        "id": "gCFgpxoyphqP"
      }
    },
    {
      "cell_type": "markdown",
      "source": [
        "Answer Here."
      ],
      "metadata": {
        "id": "TVxDimi2phqP"
      }
    },
    {
      "cell_type": "markdown",
      "source": [
        "##### 2. What is/are the insight(s) found from the chart?"
      ],
      "metadata": {
        "id": "OVtJsKN_phqQ"
      }
    },
    {
      "cell_type": "markdown",
      "source": [
        "Answer Here"
      ],
      "metadata": {
        "id": "ngGi97qjphqQ"
      }
    },
    {
      "cell_type": "markdown",
      "source": [
        "##### 3. Will the gained insights help creating a positive business impact? \n",
        "Are there any insights that lead to negative growth? Justify with specific reason."
      ],
      "metadata": {
        "id": "lssrdh5qphqQ"
      }
    },
    {
      "cell_type": "markdown",
      "source": [
        "Answer Here"
      ],
      "metadata": {
        "id": "tBpY5ekJphqQ"
      }
    },
    {
      "cell_type": "markdown",
      "source": [
        "#### Chart - 10"
      ],
      "metadata": {
        "id": "U2RJ9gkRphqQ"
      }
    },
    {
      "cell_type": "code",
      "source": [
        "# Chart - 10 visualization code"
      ],
      "metadata": {
        "id": "GM7a4YP4phqQ"
      },
      "execution_count": null,
      "outputs": []
    },
    {
      "cell_type": "markdown",
      "source": [
        "##### 1. Why did you pick the specific chart?"
      ],
      "metadata": {
        "id": "1M8mcRywphqQ"
      }
    },
    {
      "cell_type": "markdown",
      "source": [
        "Answer Here."
      ],
      "metadata": {
        "id": "8agQvks0phqQ"
      }
    },
    {
      "cell_type": "markdown",
      "source": [
        "##### 2. What is/are the insight(s) found from the chart?"
      ],
      "metadata": {
        "id": "tgIPom80phqQ"
      }
    },
    {
      "cell_type": "markdown",
      "source": [
        "Answer Here"
      ],
      "metadata": {
        "id": "Qp13pnNzphqQ"
      }
    },
    {
      "cell_type": "markdown",
      "source": [
        "##### 3. Will the gained insights help creating a positive business impact? \n",
        "Are there any insights that lead to negative growth? Justify with specific reason."
      ],
      "metadata": {
        "id": "JMzcOPDDphqR"
      }
    },
    {
      "cell_type": "markdown",
      "source": [
        "Answer Here"
      ],
      "metadata": {
        "id": "R4Ka1PC2phqR"
      }
    },
    {
      "cell_type": "markdown",
      "source": [
        "#### Chart - 11"
      ],
      "metadata": {
        "id": "x-EpHcCOp1ci"
      }
    },
    {
      "cell_type": "code",
      "source": [
        "# Chart - 11 visualization code"
      ],
      "metadata": {
        "id": "mAQTIvtqp1cj"
      },
      "execution_count": null,
      "outputs": []
    },
    {
      "cell_type": "markdown",
      "source": [
        "##### 1. Why did you pick the specific chart?"
      ],
      "metadata": {
        "id": "X_VqEhTip1ck"
      }
    },
    {
      "cell_type": "markdown",
      "source": [
        "Answer Here."
      ],
      "metadata": {
        "id": "-vsMzt_np1ck"
      }
    },
    {
      "cell_type": "markdown",
      "source": [
        "##### 2. What is/are the insight(s) found from the chart?"
      ],
      "metadata": {
        "id": "8zGJKyg5p1ck"
      }
    },
    {
      "cell_type": "markdown",
      "source": [
        "Answer Here"
      ],
      "metadata": {
        "id": "ZYdMsrqVp1ck"
      }
    },
    {
      "cell_type": "markdown",
      "source": [
        "##### 3. Will the gained insights help creating a positive business impact? \n",
        "Are there any insights that lead to negative growth? Justify with specific reason."
      ],
      "metadata": {
        "id": "PVzmfK_Ep1ck"
      }
    },
    {
      "cell_type": "markdown",
      "source": [
        "Answer Here"
      ],
      "metadata": {
        "id": "druuKYZpp1ck"
      }
    },
    {
      "cell_type": "markdown",
      "source": [
        "#### Chart - 12"
      ],
      "metadata": {
        "id": "n3dbpmDWp1ck"
      }
    },
    {
      "cell_type": "code",
      "source": [
        "# Chart - 12 visualization code"
      ],
      "metadata": {
        "id": "bwevp1tKp1ck"
      },
      "execution_count": null,
      "outputs": []
    },
    {
      "cell_type": "markdown",
      "source": [
        "##### 1. Why did you pick the specific chart?"
      ],
      "metadata": {
        "id": "ylSl6qgtp1ck"
      }
    },
    {
      "cell_type": "markdown",
      "source": [
        "Answer Here."
      ],
      "metadata": {
        "id": "m2xqNkiQp1ck"
      }
    },
    {
      "cell_type": "markdown",
      "source": [
        "##### 2. What is/are the insight(s) found from the chart?"
      ],
      "metadata": {
        "id": "ZWILFDl5p1ck"
      }
    },
    {
      "cell_type": "markdown",
      "source": [
        "Answer Here"
      ],
      "metadata": {
        "id": "x-lUsV2mp1ck"
      }
    },
    {
      "cell_type": "markdown",
      "source": [
        "##### 3. Will the gained insights help creating a positive business impact? \n",
        "Are there any insights that lead to negative growth? Justify with specific reason."
      ],
      "metadata": {
        "id": "M7G43BXep1ck"
      }
    },
    {
      "cell_type": "markdown",
      "source": [
        "Answer Here"
      ],
      "metadata": {
        "id": "5wwDJXsLp1cl"
      }
    },
    {
      "cell_type": "markdown",
      "source": [
        "#### Chart - 13"
      ],
      "metadata": {
        "id": "Ag9LCva-p1cl"
      }
    },
    {
      "cell_type": "code",
      "source": [
        "# Chart - 13 visualization code"
      ],
      "metadata": {
        "id": "EUfxeq9-p1cl"
      },
      "execution_count": null,
      "outputs": []
    },
    {
      "cell_type": "markdown",
      "source": [
        "##### 1. Why did you pick the specific chart?"
      ],
      "metadata": {
        "id": "E6MkPsBcp1cl"
      }
    },
    {
      "cell_type": "markdown",
      "source": [
        "Answer Here."
      ],
      "metadata": {
        "id": "V22bRsFWp1cl"
      }
    },
    {
      "cell_type": "markdown",
      "source": [
        "##### 2. What is/are the insight(s) found from the chart?"
      ],
      "metadata": {
        "id": "2cELzS2fp1cl"
      }
    },
    {
      "cell_type": "markdown",
      "source": [
        "Answer Here"
      ],
      "metadata": {
        "id": "ozQPc2_Ip1cl"
      }
    },
    {
      "cell_type": "markdown",
      "source": [
        "##### 3. Will the gained insights help creating a positive business impact? \n",
        "Are there any insights that lead to negative growth? Justify with specific reason."
      ],
      "metadata": {
        "id": "3MPXvC8up1cl"
      }
    },
    {
      "cell_type": "markdown",
      "source": [
        "Answer Here"
      ],
      "metadata": {
        "id": "GL8l1tdLp1cl"
      }
    },
    {
      "cell_type": "markdown",
      "source": [
        "#### Chart - 14 - Correlation Heatmap"
      ],
      "metadata": {
        "id": "NC_X3p0fY2L0"
      }
    },
    {
      "cell_type": "code",
      "source": [
        "# Correlation Heatmap visualization code"
      ],
      "metadata": {
        "id": "xyC9zolEZNRQ"
      },
      "execution_count": null,
      "outputs": []
    },
    {
      "cell_type": "markdown",
      "source": [
        "##### 1. Why did you pick the specific chart?"
      ],
      "metadata": {
        "id": "UV0SzAkaZNRQ"
      }
    },
    {
      "cell_type": "markdown",
      "source": [
        "Answer Here."
      ],
      "metadata": {
        "id": "DVPuT8LYZNRQ"
      }
    },
    {
      "cell_type": "markdown",
      "source": [
        "##### 2. What is/are the insight(s) found from the chart?"
      ],
      "metadata": {
        "id": "YPEH6qLeZNRQ"
      }
    },
    {
      "cell_type": "markdown",
      "source": [
        "Answer Here"
      ],
      "metadata": {
        "id": "bfSqtnDqZNRR"
      }
    },
    {
      "cell_type": "markdown",
      "source": [
        "#### Chart - 15 - Pair Plot "
      ],
      "metadata": {
        "id": "q29F0dvdveiT"
      }
    },
    {
      "cell_type": "code",
      "source": [
        "# Pair Plot visualization code"
      ],
      "metadata": {
        "id": "o58-TEIhveiU"
      },
      "execution_count": null,
      "outputs": []
    },
    {
      "cell_type": "markdown",
      "source": [
        "##### 1. Why did you pick the specific chart?"
      ],
      "metadata": {
        "id": "EXh0U9oCveiU"
      }
    },
    {
      "cell_type": "markdown",
      "source": [
        "Answer Here."
      ],
      "metadata": {
        "id": "eMmPjTByveiU"
      }
    },
    {
      "cell_type": "markdown",
      "source": [
        "##### 2. What is/are the insight(s) found from the chart?"
      ],
      "metadata": {
        "id": "22aHeOlLveiV"
      }
    },
    {
      "cell_type": "markdown",
      "source": [
        "Answer Here"
      ],
      "metadata": {
        "id": "uPQ8RGwHveiV"
      }
    },
    {
      "cell_type": "markdown",
      "source": [
        "## ***5. Hypothesis Testing***"
      ],
      "metadata": {
        "id": "g-ATYxFrGrvw"
      }
    },
    {
      "cell_type": "markdown",
      "source": [
        "### Based on your chart experiments, define three hypothetical statements from the dataset. In the next three questions, perform hypothesis testing to obtain final conclusion about the statements through your code and statistical testing."
      ],
      "metadata": {
        "id": "Yfr_Vlr8HBkt"
      }
    },
    {
      "cell_type": "markdown",
      "source": [
        "Answer Here."
      ],
      "metadata": {
        "id": "-7MS06SUHkB-"
      }
    },
    {
      "cell_type": "markdown",
      "source": [
        "### Hypothetical Statement - 1"
      ],
      "metadata": {
        "id": "8yEUt7NnHlrM"
      }
    },
    {
      "cell_type": "markdown",
      "source": [
        "#### 1. State Your research hypothesis as a null hypothesis and alternate hypothesis."
      ],
      "metadata": {
        "id": "tEA2Xm5dHt1r"
      }
    },
    {
      "cell_type": "markdown",
      "source": [
        "Answer Here."
      ],
      "metadata": {
        "id": "HI9ZP0laH0D-"
      }
    },
    {
      "cell_type": "markdown",
      "source": [
        "#### 2. Perform an appropriate statistical test."
      ],
      "metadata": {
        "id": "I79__PHVH19G"
      }
    },
    {
      "cell_type": "code",
      "source": [
        "# Perform Statistical Test to obtain P-Value"
      ],
      "metadata": {
        "id": "oZrfquKtyian"
      },
      "execution_count": null,
      "outputs": []
    },
    {
      "cell_type": "markdown",
      "source": [
        "##### Which statistical test have you done to obtain P-Value?"
      ],
      "metadata": {
        "id": "Ou-I18pAyIpj"
      }
    },
    {
      "cell_type": "markdown",
      "source": [
        "Answer Here."
      ],
      "metadata": {
        "id": "s2U0kk00ygSB"
      }
    },
    {
      "cell_type": "markdown",
      "source": [
        "##### Why did you choose the specific statistical test?"
      ],
      "metadata": {
        "id": "fF3858GYyt-u"
      }
    },
    {
      "cell_type": "markdown",
      "source": [
        "Answer Here."
      ],
      "metadata": {
        "id": "HO4K0gP5y3B4"
      }
    },
    {
      "cell_type": "markdown",
      "source": [
        "### Hypothetical Statement - 2"
      ],
      "metadata": {
        "id": "4_0_7-oCpUZd"
      }
    },
    {
      "cell_type": "markdown",
      "source": [
        "#### 1. State Your research hypothesis as a null hypothesis and alternate hypothesis."
      ],
      "metadata": {
        "id": "hwyV_J3ipUZe"
      }
    },
    {
      "cell_type": "markdown",
      "source": [
        "Answer Here."
      ],
      "metadata": {
        "id": "FnpLGJ-4pUZe"
      }
    },
    {
      "cell_type": "markdown",
      "source": [
        "#### 2. Perform an appropriate statistical test."
      ],
      "metadata": {
        "id": "3yB-zSqbpUZe"
      }
    },
    {
      "cell_type": "code",
      "source": [
        "# Perform Statistical Test to obtain P-Value"
      ],
      "metadata": {
        "id": "sWxdNTXNpUZe"
      },
      "execution_count": null,
      "outputs": []
    },
    {
      "cell_type": "markdown",
      "source": [
        "##### Which statistical test have you done to obtain P-Value?"
      ],
      "metadata": {
        "id": "dEUvejAfpUZe"
      }
    },
    {
      "cell_type": "markdown",
      "source": [
        "Answer Here."
      ],
      "metadata": {
        "id": "oLDrPz7HpUZf"
      }
    },
    {
      "cell_type": "markdown",
      "source": [
        "##### Why did you choose the specific statistical test?"
      ],
      "metadata": {
        "id": "Fd15vwWVpUZf"
      }
    },
    {
      "cell_type": "markdown",
      "source": [
        "Answer Here."
      ],
      "metadata": {
        "id": "4xOGYyiBpUZf"
      }
    },
    {
      "cell_type": "markdown",
      "source": [
        "### Hypothetical Statement - 3"
      ],
      "metadata": {
        "id": "bn_IUdTipZyH"
      }
    },
    {
      "cell_type": "markdown",
      "source": [
        "#### 1. State Your research hypothesis as a null hypothesis and alternate hypothesis."
      ],
      "metadata": {
        "id": "49K5P_iCpZyH"
      }
    },
    {
      "cell_type": "markdown",
      "source": [
        "Answer Here."
      ],
      "metadata": {
        "id": "7gWI5rT9pZyH"
      }
    },
    {
      "cell_type": "markdown",
      "source": [
        "#### 2. Perform an appropriate statistical test."
      ],
      "metadata": {
        "id": "Nff-vKELpZyI"
      }
    },
    {
      "cell_type": "code",
      "source": [
        "# Perform Statistical Test to obtain P-Value"
      ],
      "metadata": {
        "id": "s6AnJQjtpZyI"
      },
      "execution_count": null,
      "outputs": []
    },
    {
      "cell_type": "markdown",
      "source": [
        "##### Which statistical test have you done to obtain P-Value?"
      ],
      "metadata": {
        "id": "kLW572S8pZyI"
      }
    },
    {
      "cell_type": "markdown",
      "source": [
        "Answer Here."
      ],
      "metadata": {
        "id": "ytWJ8v15pZyI"
      }
    },
    {
      "cell_type": "markdown",
      "source": [
        "##### Why did you choose the specific statistical test?"
      ],
      "metadata": {
        "id": "dWbDXHzopZyI"
      }
    },
    {
      "cell_type": "markdown",
      "source": [
        "Answer Here."
      ],
      "metadata": {
        "id": "M99G98V6pZyI"
      }
    },
    {
      "cell_type": "markdown",
      "source": [
        "## ***6. Feature Engineering & Data Pre-processing***"
      ],
      "metadata": {
        "id": "yLjJCtPM0KBk"
      }
    },
    {
      "cell_type": "markdown",
      "source": [
        "### 1. Handling Missing Values"
      ],
      "metadata": {
        "id": "xiyOF9F70UgQ"
      }
    },
    {
      "cell_type": "code",
      "source": [
        "# Handling Missing Values & Missing Value Imputation"
      ],
      "metadata": {
        "id": "iRsAHk1K0fpS"
      },
      "execution_count": null,
      "outputs": []
    },
    {
      "cell_type": "markdown",
      "source": [
        "#### What all missing value imputation techniques have you used and why did you use those techniques?"
      ],
      "metadata": {
        "id": "7wuGOrhz0itI"
      }
    },
    {
      "cell_type": "markdown",
      "source": [
        "Answer Here."
      ],
      "metadata": {
        "id": "1ixusLtI0pqI"
      }
    },
    {
      "cell_type": "markdown",
      "source": [
        "### 2. Handling Outliers"
      ],
      "metadata": {
        "id": "id1riN9m0vUs"
      }
    },
    {
      "cell_type": "code",
      "source": [
        "# Handling Outliers & Outlier treatments"
      ],
      "metadata": {
        "id": "M6w2CzZf04JK"
      },
      "execution_count": null,
      "outputs": []
    },
    {
      "cell_type": "markdown",
      "source": [
        "##### What all outlier treatment techniques have you used and why did you use those techniques?"
      ],
      "metadata": {
        "id": "578E2V7j08f6"
      }
    },
    {
      "cell_type": "markdown",
      "source": [
        "Answer Here."
      ],
      "metadata": {
        "id": "uGZz5OrT1HH-"
      }
    },
    {
      "cell_type": "markdown",
      "source": [
        "### 3. Categorical Encoding"
      ],
      "metadata": {
        "id": "89xtkJwZ18nB"
      }
    },
    {
      "cell_type": "code",
      "source": [
        "# Encode your categorical columns"
      ],
      "metadata": {
        "id": "21JmIYMG2hEo"
      },
      "execution_count": null,
      "outputs": []
    },
    {
      "cell_type": "markdown",
      "source": [
        "#### What all categorical encoding techniques have you used & why did you use those techniques?"
      ],
      "metadata": {
        "id": "67NQN5KX2AMe"
      }
    },
    {
      "cell_type": "markdown",
      "source": [
        "Answer Here."
      ],
      "metadata": {
        "id": "UDaue5h32n_G"
      }
    },
    {
      "cell_type": "markdown",
      "source": [
        "### 4. Textual Data Preprocessing \n",
        "(It's mandatory for textual dataset i.e., NLP, Sentiment Analysis, Text Clustering etc.)"
      ],
      "metadata": {
        "id": "Iwf50b-R2tYG"
      }
    },
    {
      "cell_type": "markdown",
      "source": [
        "#### 1. Expand Contraction"
      ],
      "metadata": {
        "id": "GMQiZwjn3iu7"
      }
    },
    {
      "cell_type": "code",
      "source": [
        "# Expand Contraction"
      ],
      "metadata": {
        "id": "PTouz10C3oNN"
      },
      "execution_count": null,
      "outputs": []
    },
    {
      "cell_type": "markdown",
      "source": [
        "#### 2. Lower Casing"
      ],
      "metadata": {
        "id": "WVIkgGqN3qsr"
      }
    },
    {
      "cell_type": "code",
      "source": [
        "# Lower Casing"
      ],
      "metadata": {
        "id": "88JnJ1jN3w7j"
      },
      "execution_count": null,
      "outputs": []
    },
    {
      "cell_type": "markdown",
      "source": [
        "#### 3. Removing Punctuations"
      ],
      "metadata": {
        "id": "XkPnILGE3zoT"
      }
    },
    {
      "cell_type": "code",
      "source": [
        "# Remove Punctuations"
      ],
      "metadata": {
        "id": "vqbBqNaA33c0"
      },
      "execution_count": null,
      "outputs": []
    },
    {
      "cell_type": "markdown",
      "source": [
        "#### 4. Removing URLs & Removing words and digits contain digits."
      ],
      "metadata": {
        "id": "Hlsf0x5436Go"
      }
    },
    {
      "cell_type": "code",
      "source": [
        "# Remove URLs & Remove words and digits contain digits"
      ],
      "metadata": {
        "id": "2sxKgKxu4Ip3"
      },
      "execution_count": null,
      "outputs": []
    },
    {
      "cell_type": "markdown",
      "source": [
        "#### 5. Removing Stopwords & Removing White spaces"
      ],
      "metadata": {
        "id": "mT9DMSJo4nBL"
      }
    },
    {
      "cell_type": "code",
      "source": [
        "# Remove Stopwords"
      ],
      "metadata": {
        "id": "T2LSJh154s8W"
      },
      "execution_count": null,
      "outputs": []
    },
    {
      "cell_type": "code",
      "source": [
        "# Remove White spaces"
      ],
      "metadata": {
        "id": "EgLJGffy4vm0"
      },
      "execution_count": null,
      "outputs": []
    },
    {
      "cell_type": "markdown",
      "source": [
        "#### 6. Rephrase Text"
      ],
      "metadata": {
        "id": "c49ITxTc407N"
      }
    },
    {
      "cell_type": "code",
      "source": [
        "# Rephrase Text"
      ],
      "metadata": {
        "id": "foqY80Qu48N2"
      },
      "execution_count": null,
      "outputs": []
    },
    {
      "cell_type": "markdown",
      "source": [
        "#### 7. Tokenization"
      ],
      "metadata": {
        "id": "OeJFEK0N496M"
      }
    },
    {
      "cell_type": "code",
      "source": [
        "# Tokenization"
      ],
      "metadata": {
        "id": "ijx1rUOS5CUU"
      },
      "execution_count": null,
      "outputs": []
    },
    {
      "cell_type": "markdown",
      "source": [
        "#### 8. Text Normalization"
      ],
      "metadata": {
        "id": "9ExmJH0g5HBk"
      }
    },
    {
      "cell_type": "code",
      "source": [
        "# Normalizing Text (i.e., Stemming, Lemmatization etc.)"
      ],
      "metadata": {
        "id": "AIJ1a-Zc5PY8"
      },
      "execution_count": null,
      "outputs": []
    },
    {
      "cell_type": "markdown",
      "source": [
        "##### Which text normalization technique have you used and why?"
      ],
      "metadata": {
        "id": "cJNqERVU536h"
      }
    },
    {
      "cell_type": "markdown",
      "source": [
        "Answer Here."
      ],
      "metadata": {
        "id": "Z9jKVxE06BC1"
      }
    },
    {
      "cell_type": "markdown",
      "source": [
        "#### 9. Part of speech tagging"
      ],
      "metadata": {
        "id": "k5UmGsbsOxih"
      }
    },
    {
      "cell_type": "code",
      "source": [
        "# POS Taging"
      ],
      "metadata": {
        "id": "btT3ZJBAO6Ik"
      },
      "execution_count": null,
      "outputs": []
    },
    {
      "cell_type": "markdown",
      "source": [
        "#### 10. Text Vectorization"
      ],
      "metadata": {
        "id": "T0VqWOYE6DLQ"
      }
    },
    {
      "cell_type": "code",
      "source": [
        "# Vectorizing Text"
      ],
      "metadata": {
        "id": "yBRtdhth6JDE"
      },
      "execution_count": null,
      "outputs": []
    },
    {
      "cell_type": "markdown",
      "source": [
        "##### Which text vectorization technique have you used and why?"
      ],
      "metadata": {
        "id": "qBMux9mC6MCf"
      }
    },
    {
      "cell_type": "markdown",
      "source": [
        "Answer Here."
      ],
      "metadata": {
        "id": "su2EnbCh6UKQ"
      }
    },
    {
      "cell_type": "markdown",
      "source": [
        "### 4. Feature Manipulation & Selection"
      ],
      "metadata": {
        "id": "-oLEiFgy-5Pf"
      }
    },
    {
      "cell_type": "markdown",
      "source": [
        "#### 1. Feature Manipulation"
      ],
      "metadata": {
        "id": "C74aWNz2AliB"
      }
    },
    {
      "cell_type": "code",
      "source": [
        "# Manipulate Features to minimize feature correlation and create new features"
      ],
      "metadata": {
        "id": "h1qC4yhBApWC"
      },
      "execution_count": null,
      "outputs": []
    },
    {
      "cell_type": "markdown",
      "source": [
        "#### 2. Feature Selection"
      ],
      "metadata": {
        "id": "2DejudWSA-a0"
      }
    },
    {
      "cell_type": "code",
      "source": [
        "# Select your features wisely to avoid overfitting"
      ],
      "metadata": {
        "id": "YLhe8UmaBCEE"
      },
      "execution_count": null,
      "outputs": []
    },
    {
      "cell_type": "markdown",
      "source": [
        "##### What all feature selection methods have you used  and why?"
      ],
      "metadata": {
        "id": "pEMng2IbBLp7"
      }
    },
    {
      "cell_type": "markdown",
      "source": [
        "Answer Here."
      ],
      "metadata": {
        "id": "rb2Lh6Z8BgGs"
      }
    },
    {
      "cell_type": "markdown",
      "source": [
        "##### Which all features you found important and why?"
      ],
      "metadata": {
        "id": "rAdphbQ9Bhjc"
      }
    },
    {
      "cell_type": "markdown",
      "source": [
        "Answer Here."
      ],
      "metadata": {
        "id": "fGgaEstsBnaf"
      }
    },
    {
      "cell_type": "markdown",
      "source": [
        "### 5. Data Transformation"
      ],
      "metadata": {
        "id": "TNVZ9zx19K6k"
      }
    },
    {
      "cell_type": "markdown",
      "source": [
        "#### Do you think that your data needs to be transformed? If yes, which transformation have you used. Explain Why?"
      ],
      "metadata": {
        "id": "nqoHp30x9hH9"
      }
    },
    {
      "cell_type": "code",
      "source": [
        "# Transform Your data"
      ],
      "metadata": {
        "id": "I6quWQ1T9rtH"
      },
      "execution_count": null,
      "outputs": []
    },
    {
      "cell_type": "markdown",
      "source": [
        "### 6. Data Scaling"
      ],
      "metadata": {
        "id": "rMDnDkt2B6du"
      }
    },
    {
      "cell_type": "code",
      "source": [
        "# Scaling your data"
      ],
      "metadata": {
        "id": "dL9LWpySC6x_"
      },
      "execution_count": null,
      "outputs": []
    },
    {
      "cell_type": "markdown",
      "source": [
        "##### Which method have you used to scale you data and why?"
      ],
      "metadata": {
        "id": "yiiVWRdJDDil"
      }
    },
    {
      "cell_type": "markdown",
      "source": [
        "### 7. Dimesionality Reduction"
      ],
      "metadata": {
        "id": "1UUpS68QDMuG"
      }
    },
    {
      "cell_type": "markdown",
      "source": [
        "##### Do you think that dimensionality reduction is needed? Explain Why?"
      ],
      "metadata": {
        "id": "kexQrXU-DjzY"
      }
    },
    {
      "cell_type": "markdown",
      "source": [
        "Answer Here."
      ],
      "metadata": {
        "id": "GGRlBsSGDtTQ"
      }
    },
    {
      "cell_type": "code",
      "source": [
        "# DImensionality Reduction (If needed)"
      ],
      "metadata": {
        "id": "kQfvxBBHDvCa"
      },
      "execution_count": null,
      "outputs": []
    },
    {
      "cell_type": "markdown",
      "source": [
        "##### Which dimensionality reduction technique have you used and why? (If dimensionality reduction done on dataset.)"
      ],
      "metadata": {
        "id": "T5CmagL3EC8N"
      }
    },
    {
      "cell_type": "markdown",
      "source": [
        "Answer Here."
      ],
      "metadata": {
        "id": "ZKr75IDuEM7t"
      }
    },
    {
      "cell_type": "markdown",
      "source": [
        "### 8. Data Splitting"
      ],
      "metadata": {
        "id": "BhH2vgX9EjGr"
      }
    },
    {
      "cell_type": "code",
      "source": [
        "# Split your data to train and test. Choose Splitting ratio wisely."
      ],
      "metadata": {
        "id": "0CTyd2UwEyNM"
      },
      "execution_count": null,
      "outputs": []
    },
    {
      "cell_type": "markdown",
      "source": [
        "##### What data splitting ratio have you used and why? "
      ],
      "metadata": {
        "id": "qjKvONjwE8ra"
      }
    },
    {
      "cell_type": "markdown",
      "source": [
        "Answer Here."
      ],
      "metadata": {
        "id": "Y2lJ8cobFDb_"
      }
    },
    {
      "cell_type": "markdown",
      "source": [
        "### 9. Handling Imbalanced Dataset"
      ],
      "metadata": {
        "id": "P1XJ9OREExlT"
      }
    },
    {
      "cell_type": "markdown",
      "source": [
        "##### Do you think the dataset is imbalanced? Explain Why."
      ],
      "metadata": {
        "id": "VFOzZv6IFROw"
      }
    },
    {
      "cell_type": "markdown",
      "source": [
        "Answer Here."
      ],
      "metadata": {
        "id": "GeKDIv7pFgcC"
      }
    },
    {
      "cell_type": "code",
      "source": [
        "# Handling Imbalanced Dataset (If needed)"
      ],
      "metadata": {
        "id": "nQsRhhZLFiDs"
      },
      "execution_count": null,
      "outputs": []
    },
    {
      "cell_type": "markdown",
      "source": [
        "##### What technique did you use to handle the imbalance dataset and why? (If needed to be balanced)"
      ],
      "metadata": {
        "id": "TIqpNgepFxVj"
      }
    },
    {
      "cell_type": "markdown",
      "source": [
        "Answer Here."
      ],
      "metadata": {
        "id": "qbet1HwdGDTz"
      }
    },
    {
      "cell_type": "markdown",
      "source": [
        "## ***7. ML Model Implementation***"
      ],
      "metadata": {
        "id": "VfCC591jGiD4"
      }
    },
    {
      "cell_type": "markdown",
      "source": [
        "### ML Model - 1"
      ],
      "metadata": {
        "id": "OB4l2ZhMeS1U"
      }
    },
    {
      "cell_type": "code",
      "source": [
        "# ML Model - 1 Implementation\n",
        "\n",
        "# Fit the Algorithm\n",
        "\n",
        "# Predict on the model"
      ],
      "metadata": {
        "id": "7ebyywQieS1U"
      },
      "execution_count": null,
      "outputs": []
    },
    {
      "cell_type": "markdown",
      "source": [
        "#### 1. Explain the ML Model used and it's performance using Evaluation metric Score Chart."
      ],
      "metadata": {
        "id": "ArJBuiUVfxKd"
      }
    },
    {
      "cell_type": "code",
      "source": [
        "# Visualizing evaluation Metric Score chart"
      ],
      "metadata": {
        "id": "rqD5ZohzfxKe"
      },
      "execution_count": null,
      "outputs": []
    },
    {
      "cell_type": "markdown",
      "source": [
        "#### 2. Cross- Validation & Hyperparameter Tuning"
      ],
      "metadata": {
        "id": "4qY1EAkEfxKe"
      }
    },
    {
      "cell_type": "code",
      "source": [
        "# ML Model - 1 Implementation with hyperparameter optimization techniques (i.e., GridSearch CV, RandomSearch CV, Bayesian Optimization etc.)\n",
        "\n",
        "# Fit the Algorithm\n",
        "\n",
        "# Predict on the model"
      ],
      "metadata": {
        "id": "Dy61ujd6fxKe"
      },
      "execution_count": null,
      "outputs": []
    },
    {
      "cell_type": "markdown",
      "source": [
        "##### Which hyperparameter optimization technique have you used and why?"
      ],
      "metadata": {
        "id": "PiV4Ypx8fxKe"
      }
    },
    {
      "cell_type": "markdown",
      "source": [
        "Answer Here."
      ],
      "metadata": {
        "id": "negyGRa7fxKf"
      }
    },
    {
      "cell_type": "markdown",
      "source": [
        "##### Have you seen any improvement? Note down the improvement with updates Evaluation metric Score Chart."
      ],
      "metadata": {
        "id": "TfvqoZmBfxKf"
      }
    },
    {
      "cell_type": "markdown",
      "source": [
        "Answer Here."
      ],
      "metadata": {
        "id": "OaLui8CcfxKf"
      }
    },
    {
      "cell_type": "markdown",
      "source": [
        "### ML Model - 2"
      ],
      "metadata": {
        "id": "dJ2tPlVmpsJ0"
      }
    },
    {
      "cell_type": "markdown",
      "source": [
        "#### 1. Explain the ML Model used and it's performance using Evaluation metric Score Chart."
      ],
      "metadata": {
        "id": "JWYfwnehpsJ1"
      }
    },
    {
      "cell_type": "code",
      "source": [
        "# Visualizing evaluation Metric Score chart"
      ],
      "metadata": {
        "id": "yEl-hgQWpsJ1"
      },
      "execution_count": null,
      "outputs": []
    },
    {
      "cell_type": "markdown",
      "source": [
        "#### 2. Cross- Validation & Hyperparameter Tuning"
      ],
      "metadata": {
        "id": "-jK_YjpMpsJ2"
      }
    },
    {
      "cell_type": "code",
      "source": [
        "# ML Model - 1 Implementation with hyperparameter optimization techniques (i.e., GridSearch CV, RandomSearch CV, Bayesian Optimization etc.)\n",
        "\n",
        "# Fit the Algorithm\n",
        "\n",
        "# Predict on the model"
      ],
      "metadata": {
        "id": "Dn0EOfS6psJ2"
      },
      "execution_count": null,
      "outputs": []
    },
    {
      "cell_type": "markdown",
      "source": [
        "##### Which hyperparameter optimization technique have you used and why?"
      ],
      "metadata": {
        "id": "HAih1iBOpsJ2"
      }
    },
    {
      "cell_type": "markdown",
      "source": [
        "Answer Here."
      ],
      "metadata": {
        "id": "9kBgjYcdpsJ2"
      }
    },
    {
      "cell_type": "markdown",
      "source": [
        "##### Have you seen any improvement? Note down the improvement with updates Evaluation metric Score Chart."
      ],
      "metadata": {
        "id": "zVGeBEFhpsJ2"
      }
    },
    {
      "cell_type": "markdown",
      "source": [
        "Answer Here."
      ],
      "metadata": {
        "id": "74yRdG6UpsJ3"
      }
    },
    {
      "cell_type": "markdown",
      "source": [
        "#### 3. Explain each evaluation metric's indication towards business and the business impact pf the ML model used."
      ],
      "metadata": {
        "id": "bmKjuQ-FpsJ3"
      }
    },
    {
      "cell_type": "markdown",
      "source": [
        "Answer Here."
      ],
      "metadata": {
        "id": "BDKtOrBQpsJ3"
      }
    },
    {
      "cell_type": "markdown",
      "source": [
        "### ML Model - 3"
      ],
      "metadata": {
        "id": "Fze-IPXLpx6K"
      }
    },
    {
      "cell_type": "code",
      "source": [
        "# ML Model - 3 Implementation\n",
        "\n",
        "# Fit the Algorithm\n",
        "\n",
        "# Predict on the model"
      ],
      "metadata": {
        "id": "FFrSXAtrpx6M"
      },
      "execution_count": null,
      "outputs": []
    },
    {
      "cell_type": "markdown",
      "source": [
        "#### 1. Explain the ML Model used and it's performance using Evaluation metric Score Chart."
      ],
      "metadata": {
        "id": "7AN1z2sKpx6M"
      }
    },
    {
      "cell_type": "code",
      "source": [
        "# Visualizing evaluation Metric Score chart"
      ],
      "metadata": {
        "id": "xIY4lxxGpx6M"
      },
      "execution_count": null,
      "outputs": []
    },
    {
      "cell_type": "markdown",
      "source": [
        "#### 2. Cross- Validation & Hyperparameter Tuning"
      ],
      "metadata": {
        "id": "9PIHJqyupx6M"
      }
    },
    {
      "cell_type": "code",
      "source": [
        "# ML Model - 3 Implementation with hyperparameter optimization techniques (i.e., GridSearch CV, RandomSearch CV, Bayesian Optimization etc.)\n",
        "\n",
        "# Fit the Algorithm\n",
        "\n",
        "# Predict on the model"
      ],
      "metadata": {
        "id": "eSVXuaSKpx6M"
      },
      "execution_count": null,
      "outputs": []
    },
    {
      "cell_type": "markdown",
      "source": [
        "##### Which hyperparameter optimization technique have you used and why?"
      ],
      "metadata": {
        "id": "_-qAgymDpx6N"
      }
    },
    {
      "cell_type": "markdown",
      "source": [
        "Answer Here."
      ],
      "metadata": {
        "id": "lQMffxkwpx6N"
      }
    },
    {
      "cell_type": "markdown",
      "source": [
        "##### Have you seen any improvement? Note down the improvement with updates Evaluation metric Score Chart."
      ],
      "metadata": {
        "id": "Z-hykwinpx6N"
      }
    },
    {
      "cell_type": "markdown",
      "source": [
        "Answer Here."
      ],
      "metadata": {
        "id": "MzVzZC6opx6N"
      }
    },
    {
      "cell_type": "markdown",
      "source": [
        "### 1. Which Evaluation metrics did you consider for a positive business impact and why?"
      ],
      "metadata": {
        "id": "h_CCil-SKHpo"
      }
    },
    {
      "cell_type": "markdown",
      "source": [
        "Answer Here."
      ],
      "metadata": {
        "id": "jHVz9hHDKFms"
      }
    },
    {
      "cell_type": "markdown",
      "source": [
        "### 2. Which ML model did you choose from the above created models as your final prediction model and why?"
      ],
      "metadata": {
        "id": "cBFFvTBNJzUa"
      }
    },
    {
      "cell_type": "markdown",
      "source": [
        "Answer Here."
      ],
      "metadata": {
        "id": "6ksF5Q1LKTVm"
      }
    },
    {
      "cell_type": "markdown",
      "source": [
        "### 3. Explain the model which you have used and the feature importance using any model explainability tool?"
      ],
      "metadata": {
        "id": "HvGl1hHyA_VK"
      }
    },
    {
      "cell_type": "markdown",
      "source": [
        "Answer Here."
      ],
      "metadata": {
        "id": "YnvVTiIxBL-C"
      }
    },
    {
      "cell_type": "markdown",
      "source": [
        "## ***8.*** ***Future Work (Optional)***"
      ],
      "metadata": {
        "id": "EyNgTHvd2WFk"
      }
    },
    {
      "cell_type": "markdown",
      "source": [
        "### 1. Save the best performing ml model in a pickle file or joblib file format for deployment process.\n"
      ],
      "metadata": {
        "id": "KH5McJBi2d8v"
      }
    },
    {
      "cell_type": "code",
      "source": [
        "# Save the File"
      ],
      "metadata": {
        "id": "bQIANRl32f4J"
      },
      "execution_count": null,
      "outputs": []
    },
    {
      "cell_type": "markdown",
      "source": [
        "### 2. Again Load the saved model file and try to predict unseen data for a sanity check.\n"
      ],
      "metadata": {
        "id": "iW_Lq9qf2h6X"
      }
    },
    {
      "cell_type": "code",
      "source": [
        "# Load the File and predict unseen data."
      ],
      "metadata": {
        "id": "oEXk9ydD2nVC"
      },
      "execution_count": null,
      "outputs": []
    },
    {
      "cell_type": "markdown",
      "source": [
        "### ***Congrats! Your model is successfully created and ready for deployment on a live server for a real user interaction !!!***"
      ],
      "metadata": {
        "id": "-Kee-DAl2viO"
      }
    },
    {
      "cell_type": "markdown",
      "source": [
        "# **Conclusion**"
      ],
      "metadata": {
        "id": "gCX9965dhzqZ"
      }
    },
    {
      "cell_type": "markdown",
      "source": [
        "Write the conclusion here."
      ],
      "metadata": {
        "id": "Fjb1IsQkh3yE"
      }
    },
    {
      "cell_type": "markdown",
      "source": [
        "### ***Hurrah! You have successfully completed your Machine Learning Capstone Project !!!***"
      ],
      "metadata": {
        "id": "gIfDvo9L0UH2"
      }
    }
  ]
}